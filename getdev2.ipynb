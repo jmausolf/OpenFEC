{
 "cells": [
  {
   "cell_type": "code",
   "execution_count": 77,
   "metadata": {
    "collapsed": true
   },
   "outputs": [],
   "source": [
    "from getFEC import *\n",
    "import warnings"
   ]
  },
  {
   "cell_type": "code",
   "execution_count": 16,
   "metadata": {
    "collapsed": false
   },
   "outputs": [
    {
     "data": {
      "text/plain": [
       "'https://api.open.fec.gov/v1/schedules/schedule_a/?per_page=100&sort=contribution_receipt_date&contributor_employer=Goldman%20Sachs&api_key=AcVZVok6ajttkDVo4aQBvIyfgMLC2dEPjvtDrAUB&two_year_transaction_period=2008&page=1'"
      ]
     },
     "execution_count": 16,
     "metadata": {},
     "output_type": "execute_result"
    }
   ],
   "source": [
    "def req_start_url_schedule_a(employer, api_key, year=2016, page=1):\n",
    "    firm = employer.replace(\" \", \"%20\")\n",
    "    stem = \"https://api.open.fec.gov/v1/schedules/schedule_a/?per_page=100&sort=contribution_receipt_date&\"\n",
    "    end = \"contributor_employer={}&api_key={}&two_year_transaction_period={}&page={}\".format(firm, api_key, year, page)\n",
    "    url = stem+end\n",
    "    return url\n",
    "\n",
    "req_start_url_schedule_a(\"Goldman Sachs\", api_key, \"2008\")"
   ]
  },
  {
   "cell_type": "code",
   "execution_count": 23,
   "metadata": {
    "collapsed": false
   },
   "outputs": [],
   "source": [
    "def req_start_url_schedule_a(employer, year, api_key=api_key):\n",
    "    firm = employer.replace(\" \", \"%20\")\n",
    "    url = \"https://api.open.fec.gov/v1/schedules/schedule_a/?sort=contribution_receipt_date&per_page=100&\"+\\\n",
    "    \"contributor_employer={}&two_year_transaction_period={}&api_key={}\".format(firm, year, api_key)\n",
    "    return url\n"
   ]
  },
  {
   "cell_type": "code",
   "execution_count": 22,
   "metadata": {
    "collapsed": true
   },
   "outputs": [],
   "source": [
    "def req_loop_url_schedule_a(start_url, last_indexes):\n",
    "    \"\"\"\n",
    "    ::start_url = schedule_a url created by req_start_url_schedule_a\n",
    "    ::last_indexes: a list including the following:\n",
    "            'last_index' returned from the prior url\n",
    "            'last_contribution_receipt_date' from prior url\n",
    "    \"\"\"\n",
    "    \n",
    "    end = \"&last_index={}&last_contribution_receipt_date={}\".format(last_indexes[0], last_indexes[1])\n",
    "    url = start_url+end\n",
    "    return url\n",
    "    "
   ]
  },
  {
   "cell_type": "code",
   "execution_count": 24,
   "metadata": {
    "collapsed": true
   },
   "outputs": [],
   "source": [
    "def get_last_index_contrib(data):\n",
    "    last_index = data['pagination']['last_indexes']['last_index']\n",
    "    last_contrib = data['pagination']['last_indexes']['last_contribution_receipt_date']\n",
    "    return [last_index, last_contrib]"
   ]
  },
  {
   "cell_type": "code",
   "execution_count": 27,
   "metadata": {
    "collapsed": true
   },
   "outputs": [],
   "source": [
    "def still_results(data):\n",
    "    results = data['results']\n",
    "    return len(results)\n"
   ]
  },
  {
   "cell_type": "code",
   "execution_count": 49,
   "metadata": {
    "collapsed": false
   },
   "outputs": [
    {
     "name": "stdout",
     "output_type": "stream",
     "text": [
      "{'count': 4261, 'pages': 43, 'last_indexes': {'last_index': '4032620071076122159', 'last_contribution_receipt_date': '2007-02-15T00:00:00'}, 'per_page': 100}\n",
      "https://api.open.fec.gov/v1/schedules/schedule_a/?sort=contribution_receipt_date&per_page=100&contributor_employer=Goldman%20Sachs&two_year_transaction_period=2008&api_key=AcVZVok6ajttkDVo4aQBvIyfgMLC2dEPjvtDrAUB&last_index=4032620071076122159&last_contribution_receipt_date=2007-02-15T00:00:00\n"
     ]
    },
    {
     "data": {
      "text/plain": [
       "100"
      ]
     },
     "execution_count": 49,
     "metadata": {},
     "output_type": "execute_result"
    }
   ],
   "source": [
    "start_url = req_start_url_schedule_a(\"Goldman Sachs\", \"2008\", api_key)\n",
    "data = get_url(start_url)\n",
    "print(data['pagination'])\n",
    "last_indexes = get_last_index_contrib(data)\n",
    "next_url = req_loop_url_schedule_a(start_url, last_indexes)\n",
    "print(next_url)\n",
    "still_results(data)"
   ]
  },
  {
   "cell_type": "code",
   "execution_count": 111,
   "metadata": {
    "collapsed": false
   },
   "outputs": [],
   "source": [
    "def get_schedule_a_employer_year(employer, year, api_key=api_key):\n",
    "    start_url = req_start_url_schedule_a(employer, year, api_key)\n",
    "    data = get_url(start_url)\n",
    "    if still_results(data) <= 0:\n",
    "        warnings.warn('WARNING: no data found for requested year')\n",
    "        return\n",
    "    \n",
    "    \n",
    "\n",
    "    #Repeated Internal Function\n",
    "    def write_json_to_csv():\n",
    "        print(\"[*] getting FEC SCHEDULE A results for {} in {}...page {} of {}\".format(employer, year, page, (pages)))\n",
    "        filename = \"{}_{}_schedule_a_{}.csv\".format(year, employer.replace(\" \", \"_\"), page)\n",
    "        write_csv_json_dict(data['results'], filename)\n",
    "    \n",
    "    #Looping\n",
    "    page = 1\n",
    "    pages = get_pages(data)\n",
    "    results_count = still_results(data)\n",
    "    last_indexes = get_last_index_contrib(data)\n",
    "    \n",
    "    #First Page\n",
    "    write_json_to_csv()\n",
    "    \n",
    "    while results_count > 0:\n",
    "        page +=1\n",
    "        #Last Indexes From the Most Recent Data\n",
    "        last_indexes = get_last_index_contrib(data)\n",
    "        next_url = req_loop_url_schedule_a(start_url, last_indexes)\n",
    "        data = get_url(next_url)\n",
    "        results_count = still_results(data)\n",
    "        try:\n",
    "            if results_count > 0:\n",
    "                write_json_to_csv()\n",
    "            else:\n",
    "                pass\n",
    "        except:\n",
    "            if results_count <= 0:\n",
    "                pass\n",
    "            else:\n",
    "                print(\"[*] ERROR: there are still api results, unknown error in writing json...\")\n",
    "                break\n",
    "        \n",
    "    else:\n",
    "        print(\"[*] SUCCESS: collected all api results requested.\")\n",
    "        pass"
   ]
  },
  {
   "cell_type": "code",
   "execution_count": 112,
   "metadata": {
    "collapsed": false
   },
   "outputs": [
    {
     "name": "stdout",
     "output_type": "stream",
     "text": [
      "[*] getting FEC SCHEDULE A results for Goldman Sachs in 2008...page 1 of 43\n",
      "[*] getting FEC SCHEDULE A results for Goldman Sachs in 2008...page 2 of 43\n",
      "[*] getting FEC SCHEDULE A results for Goldman Sachs in 2008...page 3 of 43\n",
      "[*] getting FEC SCHEDULE A results for Goldman Sachs in 2008...page 4 of 43\n",
      "[*] getting FEC SCHEDULE A results for Goldman Sachs in 2008...page 5 of 43\n",
      "[*] getting FEC SCHEDULE A results for Goldman Sachs in 2008...page 6 of 43\n",
      "[*] getting FEC SCHEDULE A results for Goldman Sachs in 2008...page 7 of 43\n",
      "[*] getting FEC SCHEDULE A results for Goldman Sachs in 2008...page 8 of 43\n",
      "[*] getting FEC SCHEDULE A results for Goldman Sachs in 2008...page 9 of 43\n",
      "[*] getting FEC SCHEDULE A results for Goldman Sachs in 2008...page 10 of 43\n",
      "[*] getting FEC SCHEDULE A results for Goldman Sachs in 2008...page 11 of 43\n",
      "[*] getting FEC SCHEDULE A results for Goldman Sachs in 2008...page 12 of 43\n",
      "[*] getting FEC SCHEDULE A results for Goldman Sachs in 2008...page 13 of 43\n",
      "[*] getting FEC SCHEDULE A results for Goldman Sachs in 2008...page 14 of 43\n",
      "[*] getting FEC SCHEDULE A results for Goldman Sachs in 2008...page 15 of 43\n",
      "[*] getting FEC SCHEDULE A results for Goldman Sachs in 2008...page 16 of 43\n",
      "[*] getting FEC SCHEDULE A results for Goldman Sachs in 2008...page 17 of 43\n",
      "[*] getting FEC SCHEDULE A results for Goldman Sachs in 2008...page 18 of 43\n",
      "[*] getting FEC SCHEDULE A results for Goldman Sachs in 2008...page 19 of 43\n",
      "[*] getting FEC SCHEDULE A results for Goldman Sachs in 2008...page 20 of 43\n",
      "[*] getting FEC SCHEDULE A results for Goldman Sachs in 2008...page 21 of 43\n",
      "[*] getting FEC SCHEDULE A results for Goldman Sachs in 2008...page 22 of 43\n",
      "[*] getting FEC SCHEDULE A results for Goldman Sachs in 2008...page 23 of 43\n",
      "[*] getting FEC SCHEDULE A results for Goldman Sachs in 2008...page 24 of 43\n",
      "[*] getting FEC SCHEDULE A results for Goldman Sachs in 2008...page 25 of 43\n",
      "[*] getting FEC SCHEDULE A results for Goldman Sachs in 2008...page 26 of 43\n",
      "[*] getting FEC SCHEDULE A results for Goldman Sachs in 2008...page 27 of 43\n",
      "[*] getting FEC SCHEDULE A results for Goldman Sachs in 2008...page 28 of 43\n",
      "[*] getting FEC SCHEDULE A results for Goldman Sachs in 2008...page 29 of 43\n",
      "[*] getting FEC SCHEDULE A results for Goldman Sachs in 2008...page 30 of 43\n",
      "[*] getting FEC SCHEDULE A results for Goldman Sachs in 2008...page 31 of 43\n",
      "[*] getting FEC SCHEDULE A results for Goldman Sachs in 2008...page 32 of 43\n",
      "[*] getting FEC SCHEDULE A results for Goldman Sachs in 2008...page 33 of 43\n",
      "[*] getting FEC SCHEDULE A results for Goldman Sachs in 2008...page 34 of 43\n",
      "[*] getting FEC SCHEDULE A results for Goldman Sachs in 2008...page 35 of 43\n",
      "[*] getting FEC SCHEDULE A results for Goldman Sachs in 2008...page 36 of 43\n",
      "[*] getting FEC SCHEDULE A results for Goldman Sachs in 2008...page 37 of 43\n",
      "[*] getting FEC SCHEDULE A results for Goldman Sachs in 2008...page 38 of 43\n",
      "[*] getting FEC SCHEDULE A results for Goldman Sachs in 2008...page 39 of 43\n",
      "[*] getting FEC SCHEDULE A results for Goldman Sachs in 2008...page 40 of 43\n",
      "[*] getting FEC SCHEDULE A results for Goldman Sachs in 2008...page 41 of 43\n",
      "[*] getting FEC SCHEDULE A results for Goldman Sachs in 2008...page 42 of 43\n",
      "[*] getting FEC SCHEDULE A results for Goldman Sachs in 2008...page 43 of 43\n",
      "[*] SUCCESS: collected all api results requested.\n"
     ]
    }
   ],
   "source": [
    "get_schedule_a_employer_year(\"Goldman Sachs\", \"2008\")"
   ]
  },
  {
   "cell_type": "code",
   "execution_count": 113,
   "metadata": {
    "collapsed": false
   },
   "outputs": [
    {
     "name": "stdout",
     "output_type": "stream",
     "text": [
      "Goldman_Sachs_schedule_a\n",
      "[*] collapsing 43 csv files...\n",
      "[*] done\n"
     ]
    }
   ],
   "source": [
    "def collapse_csvs(company, schedule_type, year=None):\n",
    "    company = str(company).replace(\" \", \"_\")\n",
    "    schedule_type = str(schedule_type).replace(\" \", \"_\")\n",
    "    \n",
    "    if year is None:\n",
    "        file_type = \"{}_{}\".format(company, schedule_type)\n",
    "        print(file_type)\n",
    "        filenames = glob('*{}*'.format(file_type))\n",
    "    else:\n",
    "        file_type = \"{}_{}_{}\".format(year, company, schedule_type)\n",
    "        print(file_type)\n",
    "        filenames = glob('*{}*'.format(file_type))\n",
    "    \n",
    "    assert len(filenames) > 0, \"No matching file types, check filename input\"\n",
    "    print(\"[*] collapsing {} csv files...\".format(len(filenames)))\n",
    "    combined_csv = pd.concat( [ pd.read_csv(f) for f in filenames ] )\n",
    "    dedupe_csv = combined_csv.drop_duplicates()\n",
    "    dedupe_csv.to_csv(\"pandas_test_GS2008_dedupe.csv\", index=False)\n",
    "    print(\"[*] done\")\n",
    "\n",
    "collapse_csvs(\"Goldman Sachs\", \"schedule a\")\n",
    "#collapse_csvs(\"Goldman Sachs\", \"schedule a\", \"2010\")"
   ]
  },
  {
   "cell_type": "code",
   "execution_count": 108,
   "metadata": {
    "collapsed": false
   },
   "outputs": [
    {
     "name": "stdout",
     "output_type": "stream",
     "text": [
      "https://api.open.fec.gov/v1/schedules/schedule_a/?sort=contribution_receipt_date&per_page=100&contributor_employer=Goldman%20Sachs&two_year_transaction_period=2015&api_key=AcVZVok6ajttkDVo4aQBvIyfgMLC2dEPjvtDrAUB\n",
      "{'results': [], 'pagination': {'count': 0, 'pages': 0, 'last_indexes': None, 'per_page': 100}, 'api_version': '1.0'}\n",
      "pass\n"
     ]
    },
    {
     "name": "stderr",
     "output_type": "stream",
     "text": [
      "/usr/local/lib/python3.5/site-packages/ipykernel/__main__.py:8: UserWarning: WARNING: no data found for requested year\n"
     ]
    }
   ],
   "source": [
    "get_schedule_a_employer_year(\"Goldman Sachs\", \"2015\")"
   ]
  }
 ],
 "metadata": {
  "kernelspec": {
   "display_name": "Python 3",
   "language": "python",
   "name": "python3"
  },
  "language_info": {
   "codemirror_mode": {
    "name": "ipython",
    "version": 3
   },
   "file_extension": ".py",
   "mimetype": "text/x-python",
   "name": "python",
   "nbconvert_exporter": "python",
   "pygments_lexer": "ipython3",
   "version": "3.5.1"
  }
 },
 "nbformat": 4,
 "nbformat_minor": 0
}
