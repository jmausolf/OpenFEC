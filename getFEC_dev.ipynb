{
 "cells": [
  {
   "cell_type": "code",
   "execution_count": 17,
   "metadata": {
    "collapsed": false
   },
   "outputs": [],
   "source": [
    "from credentials import *\n",
    "import requests\n",
    "import json, csv\n",
    "\n",
    "\n",
    "#REQUEST URL\n",
    "#example\n",
    "url = \"https://api.data.gov/nrel/alt-fuel-stations/v1/nearest.json?api_key={}&location=Denver+CO\".format(api_key)\n",
    "\n",
    "response = requests.get(url)\n",
    "\n",
    "data = response.json()\n",
    "#print(data)\n"
   ]
  },
  {
   "cell_type": "code",
   "execution_count": 5,
   "metadata": {
    "collapsed": false
   },
   "outputs": [
    {
     "name": "stdout",
     "output_type": "stream",
     "text": [
      "station_locator_url\n",
      "latitude\n",
      "offset\n",
      "precision\n",
      "fuel_stations\n",
      "longitude\n",
      "station_counts\n",
      "total_results\n"
     ]
    }
   ],
   "source": [
    "for k in data:\n",
    "    print(k)"
   ]
  },
  {
   "cell_type": "code",
   "execution_count": 8,
   "metadata": {
    "collapsed": false
   },
   "outputs": [],
   "source": [
    "def return_total_results(data):\n",
    "    total = data['total_results']\n",
    "    print(\"[*] you have {} results for your query...\".format(total))\n",
    "    return total\n",
    "\n"
   ]
  },
  {
   "cell_type": "code",
   "execution_count": 9,
   "metadata": {
    "collapsed": false
   },
   "outputs": [
    {
     "name": "stdout",
     "output_type": "stream",
     "text": [
      "[*] you have 71 results for your query...\n"
     ]
    },
    {
     "data": {
      "text/plain": [
       "71"
      ]
     },
     "execution_count": 9,
     "metadata": {},
     "output_type": "execute_result"
    }
   ],
   "source": [
    "return_total_results(data)"
   ]
  },
  {
   "cell_type": "code",
   "execution_count": 10,
   "metadata": {
    "collapsed": true
   },
   "outputs": [],
   "source": [
    "stations = data['fuel_stations']"
   ]
  },
  {
   "cell_type": "code",
   "execution_count": 13,
   "metadata": {
    "collapsed": false
   },
   "outputs": [
    {
     "data": {
      "text/plain": [
       "20"
      ]
     },
     "execution_count": 13,
     "metadata": {},
     "output_type": "execute_result"
    }
   ],
   "source": [
    "len(stations)"
   ]
  },
  {
   "cell_type": "code",
   "execution_count": null,
   "metadata": {
    "collapsed": true
   },
   "outputs": [],
   "source": [
    "def get_pagination(request):\n",
    "    \"pagination\":{\"page\":12,\"per_page\":100,\"count\":1054,\"pages\":11}}\n",
    "    "
   ]
  },
  {
   "cell_type": "code",
   "execution_count": null,
   "metadata": {
    "collapsed": true
   },
   "outputs": [],
   "source": []
  },
  {
   "cell_type": "code",
   "execution_count": 15,
   "metadata": {
    "collapsed": false
   },
   "outputs": [
    {
     "data": {
      "text/plain": [
       "{'fuel_stations': [{'access_days_time': '24 hours daily',\n",
       "   'bd_blends': None,\n",
       "   'cards_accepted': None,\n",
       "   'city': 'Denver',\n",
       "   'date_last_confirmed': '2017-09-23',\n",
       "   'distance': 0.24074,\n",
       "   'e85_blender_pump': None,\n",
       "   'ev_connector_types': ['J1772'],\n",
       "   'ev_dc_fast_num': None,\n",
       "   'ev_level1_evse_num': None,\n",
       "   'ev_level2_evse_num': 1,\n",
       "   'ev_network': 'ChargePoint Network',\n",
       "   'ev_network_ids': {'posts': ['1:183793']},\n",
       "   'ev_network_web': 'http://www.chargepoint.com/',\n",
       "   'ev_other_evse': None,\n",
       "   'expected_date': None,\n",
       "   'fuel_type_code': 'ELEC',\n",
       "   'geocode_status': 'GPS',\n",
       "   'groups_with_access_code': 'Public',\n",
       "   'hy_status_link': None,\n",
       "   'id': 85932,\n",
       "   'intersection_directions': 'CULTURAL CTR 3A; On Level 3 near the elevators',\n",
       "   'latitude': 39.7360835,\n",
       "   'longitude': -104.9881709,\n",
       "   'lpg_primary': None,\n",
       "   'ng_fill_type_code': None,\n",
       "   'ng_psi': None,\n",
       "   'ng_vehicle_class': None,\n",
       "   'open_date': None,\n",
       "   'owner_type_code': None,\n",
       "   'plus4': None,\n",
       "   'state': 'CO',\n",
       "   'station_name': 'PUBLIC STATIONS',\n",
       "   'station_phone': '888-758-4389',\n",
       "   'status_code': 'E',\n",
       "   'street_address': '55 W 12th Ave',\n",
       "   'updated_at': '2017-09-23T08:09:09Z',\n",
       "   'zip': '80204'},\n",
       "  {'access_days_time': 'Garage business hours; pay lot',\n",
       "   'bd_blends': None,\n",
       "   'cards_accepted': None,\n",
       "   'city': 'Denver',\n",
       "   'date_last_confirmed': '2016-11-02',\n",
       "   'distance': 0.29384,\n",
       "   'e85_blender_pump': None,\n",
       "   'ev_connector_types': ['J1772', 'CHADEMO'],\n",
       "   'ev_dc_fast_num': 1,\n",
       "   'ev_level1_evse_num': None,\n",
       "   'ev_level2_evse_num': 2,\n",
       "   'ev_network': None,\n",
       "   'ev_network_web': None,\n",
       "   'ev_other_evse': None,\n",
       "   'expected_date': None,\n",
       "   'fuel_type_code': 'ELEC',\n",
       "   'geocode_status': '200-8',\n",
       "   'groups_with_access_code': 'Public',\n",
       "   'hy_status_link': None,\n",
       "   'id': 50065,\n",
       "   'intersection_directions': 'Located on level 3 by the elevator',\n",
       "   'latitude': 39.735271,\n",
       "   'longitude': -104.9885199,\n",
       "   'lpg_primary': None,\n",
       "   'ng_fill_type_code': None,\n",
       "   'ng_psi': None,\n",
       "   'ng_vehicle_class': None,\n",
       "   'open_date': '2012-12-01',\n",
       "   'owner_type_code': 'LG',\n",
       "   'plus4': None,\n",
       "   'state': 'CO',\n",
       "   'station_name': 'City of Denver - Cultural Center Complex Garage',\n",
       "   'station_phone': '303-640-1096',\n",
       "   'status_code': 'E',\n",
       "   'street_address': '65 W 12th Ave',\n",
       "   'updated_at': '2017-01-18T01:27:23Z',\n",
       "   'zip': '80204'},\n",
       "  {'access_days_time': '24 hours daily',\n",
       "   'bd_blends': None,\n",
       "   'cards_accepted': None,\n",
       "   'city': 'Denver',\n",
       "   'date_last_confirmed': '2017-09-23',\n",
       "   'distance': 0.30101,\n",
       "   'e85_blender_pump': None,\n",
       "   'ev_connector_types': ['J1772'],\n",
       "   'ev_dc_fast_num': None,\n",
       "   'ev_level1_evse_num': None,\n",
       "   'ev_level2_evse_num': 1,\n",
       "   'ev_network': 'ChargePoint Network',\n",
       "   'ev_network_ids': {'posts': ['1:74433']},\n",
       "   'ev_network_web': 'http://www.chargepoint.com/',\n",
       "   'ev_other_evse': None,\n",
       "   'expected_date': None,\n",
       "   'fuel_type_code': 'ELEC',\n",
       "   'geocode_status': 'GPS',\n",
       "   'groups_with_access_code': 'Public',\n",
       "   'hy_status_link': None,\n",
       "   'id': 53942,\n",
       "   'intersection_directions': 'BANNOCK LOT 1; -',\n",
       "   'latitude': 39.7376694,\n",
       "   'longitude': -104.9904124,\n",
       "   'lpg_primary': None,\n",
       "   'ng_fill_type_code': None,\n",
       "   'ng_psi': None,\n",
       "   'ng_vehicle_class': None,\n",
       "   'open_date': None,\n",
       "   'owner_type_code': None,\n",
       "   'plus4': None,\n",
       "   'state': 'CO',\n",
       "   'station_name': 'PUBLIC STATIONS',\n",
       "   'station_phone': '888-758-4389',\n",
       "   'status_code': 'E',\n",
       "   'street_address': '1345 Bannock St',\n",
       "   'updated_at': '2017-09-23T09:29:27Z',\n",
       "   'zip': '80204'},\n",
       "  {'access_days_time': 'MO: 12:00am-12:00am; TU: 12:00am-12:00am; WE: 12:00am-12:00am; TH: 12:00am-12:00am; FR: 12:00am-12:00am; SA: 12:00am-12:00am; SU: 12:00am-12:00am',\n",
       "   'bd_blends': None,\n",
       "   'cards_accepted': None,\n",
       "   'city': 'Denver',\n",
       "   'date_last_confirmed': '2017-09-23',\n",
       "   'distance': 0.35886,\n",
       "   'e85_blender_pump': None,\n",
       "   'ev_connector_types': ['J1772'],\n",
       "   'ev_dc_fast_num': None,\n",
       "   'ev_level1_evse_num': None,\n",
       "   'ev_level2_evse_num': 4,\n",
       "   'ev_network': 'SemaCharge Network',\n",
       "   'ev_network_ids': {'posts': ['4405', '4406', '4407', '4408'],\n",
       "    'station': ['1620']},\n",
       "   'ev_network_web': 'http://www.semacharge.com/',\n",
       "   'ev_other_evse': None,\n",
       "   'expected_date': None,\n",
       "   'fuel_type_code': 'ELEC',\n",
       "   'geocode_status': 'GPS',\n",
       "   'groups_with_access_code': 'Public - Card key at all times',\n",
       "   'hy_status_link': None,\n",
       "   'id': 80053,\n",
       "   'intersection_directions': 'The stations are on level 2 of the garage.\\nThe stations are on level 2 of the garage.\\nThe stations are on level 2 of the garage.\\nThe stations are on level 2 of the garage.',\n",
       "   'latitude': 39.743633,\n",
       "   'longitude': -104.9854667,\n",
       "   'lpg_primary': None,\n",
       "   'ng_fill_type_code': None,\n",
       "   'ng_psi': None,\n",
       "   'ng_vehicle_class': None,\n",
       "   'open_date': None,\n",
       "   'owner_type_code': None,\n",
       "   'plus4': None,\n",
       "   'state': 'CO',\n",
       "   'station_name': 'Wells Fargo Center',\n",
       "   'station_phone': '800-663-5633',\n",
       "   'status_code': 'E',\n",
       "   'street_address': '1700 Sherman Street',\n",
       "   'updated_at': '2017-09-23T07:54:24Z',\n",
       "   'zip': '80203'},\n",
       "  {'access_days_time': '24 hours daily; pay lot',\n",
       "   'bd_blends': None,\n",
       "   'cards_accepted': None,\n",
       "   'city': 'Denver',\n",
       "   'date_last_confirmed': '2016-11-02',\n",
       "   'distance': 0.43288,\n",
       "   'e85_blender_pump': None,\n",
       "   'ev_connector_types': ['NEMA515', 'J1772'],\n",
       "   'ev_dc_fast_num': None,\n",
       "   'ev_level1_evse_num': 2,\n",
       "   'ev_level2_evse_num': 2,\n",
       "   'ev_network': None,\n",
       "   'ev_network_web': None,\n",
       "   'ev_other_evse': None,\n",
       "   'expected_date': None,\n",
       "   'fuel_type_code': 'ELEC',\n",
       "   'geocode_status': '200-8',\n",
       "   'groups_with_access_code': 'Public',\n",
       "   'hy_status_link': None,\n",
       "   'id': 43833,\n",
       "   'intersection_directions': None,\n",
       "   'latitude': 39.7421201,\n",
       "   'longitude': -104.9914479,\n",
       "   'lpg_primary': None,\n",
       "   'ng_fill_type_code': None,\n",
       "   'ng_psi': None,\n",
       "   'ng_vehicle_class': None,\n",
       "   'open_date': '2011-02-28',\n",
       "   'owner_type_code': 'P',\n",
       "   'plus4': None,\n",
       "   'state': 'CO',\n",
       "   'station_name': 'Tremont Street Garage',\n",
       "   'station_phone': '303-534-7559',\n",
       "   'status_code': 'E',\n",
       "   'street_address': '400 15th St',\n",
       "   'updated_at': '2017-01-18T02:47:58Z',\n",
       "   'zip': '80202'},\n",
       "  {'access_days_time': '24 hours daily',\n",
       "   'bd_blends': None,\n",
       "   'cards_accepted': None,\n",
       "   'city': 'Denver',\n",
       "   'date_last_confirmed': '2016-11-02',\n",
       "   'distance': 0.47617,\n",
       "   'e85_blender_pump': None,\n",
       "   'ev_connector_types': ['J1772'],\n",
       "   'ev_dc_fast_num': None,\n",
       "   'ev_level1_evse_num': None,\n",
       "   'ev_level2_evse_num': 1,\n",
       "   'ev_network': None,\n",
       "   'ev_network_web': None,\n",
       "   'ev_other_evse': None,\n",
       "   'expected_date': None,\n",
       "   'fuel_type_code': 'ELEC',\n",
       "   'geocode_status': '200-8',\n",
       "   'groups_with_access_code': 'Public',\n",
       "   'hy_status_link': None,\n",
       "   'id': 53945,\n",
       "   'intersection_directions': 'Level 2, at the top of the entrance ramp, SW corner',\n",
       "   'latitude': 39.738334,\n",
       "   'longitude': -104.9937917,\n",
       "   'lpg_primary': None,\n",
       "   'ng_fill_type_code': None,\n",
       "   'ng_psi': None,\n",
       "   'ng_vehicle_class': None,\n",
       "   'open_date': '2013-06-01',\n",
       "   'owner_type_code': 'LG',\n",
       "   'plus4': None,\n",
       "   'state': 'CO',\n",
       "   'station_name': 'City of Denver - Denver Justice Center Garage',\n",
       "   'station_phone': '303-607-9093  720-913-1750',\n",
       "   'status_code': 'E',\n",
       "   'street_address': '490 W 14th Ave',\n",
       "   'updated_at': '2017-01-18T01:51:53Z',\n",
       "   'zip': '80204'},\n",
       "  {'access_days_time': '24 hours daily',\n",
       "   'bd_blends': None,\n",
       "   'cards_accepted': None,\n",
       "   'city': 'Denver',\n",
       "   'date_last_confirmed': '2017-09-23',\n",
       "   'distance': 0.48894,\n",
       "   'e85_blender_pump': None,\n",
       "   'ev_connector_types': ['J1772'],\n",
       "   'ev_dc_fast_num': None,\n",
       "   'ev_level1_evse_num': None,\n",
       "   'ev_level2_evse_num': 1,\n",
       "   'ev_network': 'ChargePoint Network',\n",
       "   'ev_network_ids': {'posts': ['1:74363']},\n",
       "   'ev_network_web': 'http://www.chargepoint.com/',\n",
       "   'ev_other_evse': None,\n",
       "   'expected_date': None,\n",
       "   'fuel_type_code': 'ELEC',\n",
       "   'geocode_status': 'GPS',\n",
       "   'groups_with_access_code': 'Public',\n",
       "   'hy_status_link': None,\n",
       "   'id': 65434,\n",
       "   'intersection_directions': 'JUSTICE CENTER; Adjacent to space 32 on level 2',\n",
       "   'latitude': 39.737921,\n",
       "   'longitude': -104.9940067,\n",
       "   'lpg_primary': None,\n",
       "   'ng_fill_type_code': None,\n",
       "   'ng_psi': None,\n",
       "   'ng_vehicle_class': None,\n",
       "   'open_date': None,\n",
       "   'owner_type_code': None,\n",
       "   'plus4': None,\n",
       "   'state': 'CO',\n",
       "   'station_name': 'PUBLIC STATIONS',\n",
       "   'station_phone': '888-758-4389',\n",
       "   'status_code': 'E',\n",
       "   'street_address': '1370 Elati St',\n",
       "   'updated_at': '2017-09-23T09:29:27Z',\n",
       "   'zip': '80204'},\n",
       "  {'access_days_time': '24 hours daily',\n",
       "   'bd_blends': None,\n",
       "   'cards_accepted': None,\n",
       "   'city': 'Denver',\n",
       "   'date_last_confirmed': '2017-09-23',\n",
       "   'distance': 0.55266,\n",
       "   'e85_blender_pump': None,\n",
       "   'ev_connector_types': ['J1772'],\n",
       "   'ev_dc_fast_num': None,\n",
       "   'ev_level1_evse_num': None,\n",
       "   'ev_level2_evse_num': 2,\n",
       "   'ev_network': 'ChargePoint Network',\n",
       "   'ev_network_ids': {'posts': ['1:149247']},\n",
       "   'ev_network_web': 'http://www.chargepoint.com/',\n",
       "   'ev_other_evse': None,\n",
       "   'expected_date': None,\n",
       "   'fuel_type_code': 'ELEC',\n",
       "   'geocode_status': 'GPS',\n",
       "   'groups_with_access_code': 'Public',\n",
       "   'hy_status_link': None,\n",
       "   'id': 75913,\n",
       "   'intersection_directions': 'LEVEL 2; Floor 2, residents and guests only',\n",
       "   'latitude': 39.7325675,\n",
       "   'longitude': -104.9918917,\n",
       "   'lpg_primary': None,\n",
       "   'ng_fill_type_code': None,\n",
       "   'ng_psi': None,\n",
       "   'ng_vehicle_class': None,\n",
       "   'open_date': None,\n",
       "   'owner_type_code': None,\n",
       "   'plus4': None,\n",
       "   'state': 'CO',\n",
       "   'station_name': 'JOULE',\n",
       "   'station_phone': '888-758-4389',\n",
       "   'status_code': 'E',\n",
       "   'street_address': '1000 Speer',\n",
       "   'updated_at': '2017-09-23T08:30:47Z',\n",
       "   'zip': '80204'},\n",
       "  {'access_days_time': '24 hours daily',\n",
       "   'bd_blends': None,\n",
       "   'cards_accepted': None,\n",
       "   'city': 'Denver',\n",
       "   'date_last_confirmed': '2017-09-23',\n",
       "   'distance': 0.5553,\n",
       "   'e85_blender_pump': None,\n",
       "   'ev_connector_types': ['J1772'],\n",
       "   'ev_dc_fast_num': None,\n",
       "   'ev_level1_evse_num': None,\n",
       "   'ev_level2_evse_num': 2,\n",
       "   'ev_network': 'ChargePoint Network',\n",
       "   'ev_network_ids': {'posts': ['1:150057']},\n",
       "   'ev_network_web': 'http://www.chargepoint.com/',\n",
       "   'ev_other_evse': None,\n",
       "   'expected_date': None,\n",
       "   'fuel_type_code': 'ELEC',\n",
       "   'geocode_status': 'GPS',\n",
       "   'groups_with_access_code': 'Public',\n",
       "   'hy_status_link': None,\n",
       "   'id': 75910,\n",
       "   'intersection_directions': 'LEVEL 1; Garage entrance, residents and guests only',\n",
       "   'latitude': 39.7325011,\n",
       "   'longitude': -104.9918712,\n",
       "   'lpg_primary': None,\n",
       "   'ng_fill_type_code': None,\n",
       "   'ng_psi': None,\n",
       "   'ng_vehicle_class': None,\n",
       "   'open_date': None,\n",
       "   'owner_type_code': None,\n",
       "   'plus4': None,\n",
       "   'state': 'CO',\n",
       "   'station_name': 'JOULE',\n",
       "   'station_phone': '888-758-4389',\n",
       "   'status_code': 'E',\n",
       "   'street_address': '1000 Speer Blvd',\n",
       "   'updated_at': '2017-09-23T08:30:09Z',\n",
       "   'zip': '80204'},\n",
       "  {'access_days_time': '24 hours daily; pay lot',\n",
       "   'bd_blends': None,\n",
       "   'cards_accepted': None,\n",
       "   'city': 'Denver',\n",
       "   'date_last_confirmed': '2016-11-02',\n",
       "   'distance': 0.57515,\n",
       "   'e85_blender_pump': None,\n",
       "   'ev_connector_types': ['NEMA520'],\n",
       "   'ev_dc_fast_num': None,\n",
       "   'ev_level1_evse_num': 4,\n",
       "   'ev_level2_evse_num': None,\n",
       "   'ev_network': None,\n",
       "   'ev_network_web': None,\n",
       "   'ev_other_evse': None,\n",
       "   'expected_date': None,\n",
       "   'fuel_type_code': 'ELEC',\n",
       "   'geocode_status': '200-8',\n",
       "   'groups_with_access_code': 'Public',\n",
       "   'hy_status_link': None,\n",
       "   'id': 36353,\n",
       "   'intersection_directions': 'At Colorado Convention Center, level 2',\n",
       "   'latitude': 39.7435358,\n",
       "   'longitude': -104.9934125,\n",
       "   'lpg_primary': None,\n",
       "   'ng_fill_type_code': None,\n",
       "   'ng_psi': None,\n",
       "   'ng_vehicle_class': None,\n",
       "   'open_date': '2010-03-15',\n",
       "   'owner_type_code': 'P',\n",
       "   'plus4': None,\n",
       "   'state': 'CO',\n",
       "   'station_name': 'Hyatt Regency Denver',\n",
       "   'station_phone': '303-486-4467',\n",
       "   'status_code': 'E',\n",
       "   'street_address': '650 15th St',\n",
       "   'updated_at': '2017-01-18T02:56:29Z',\n",
       "   'zip': '80202'},\n",
       "  {'access_days_time': '24 hours daily',\n",
       "   'bd_blends': None,\n",
       "   'cards_accepted': None,\n",
       "   'city': 'Denver',\n",
       "   'date_last_confirmed': '2017-09-23',\n",
       "   'distance': 0.61061,\n",
       "   'e85_blender_pump': None,\n",
       "   'ev_connector_types': ['J1772'],\n",
       "   'ev_dc_fast_num': None,\n",
       "   'ev_level1_evse_num': None,\n",
       "   'ev_level2_evse_num': 2,\n",
       "   'ev_network': 'ChargePoint Network',\n",
       "   'ev_network_ids': {'posts': ['1:118249']},\n",
       "   'ev_network_web': 'http://www.chargepoint.com/',\n",
       "   'ev_other_evse': None,\n",
       "   'expected_date': None,\n",
       "   'fuel_type_code': 'ELEC',\n",
       "   'geocode_status': 'GPS',\n",
       "   'groups_with_access_code': 'Public',\n",
       "   'hy_status_link': None,\n",
       "   'id': 66897,\n",
       "   'intersection_directions': '816 ACOMA 1; For residents only - 5th Floor',\n",
       "   'latitude': 39.7300224,\n",
       "   'longitude': -104.9883424,\n",
       "   'lpg_primary': None,\n",
       "   'ng_fill_type_code': None,\n",
       "   'ng_psi': None,\n",
       "   'ng_vehicle_class': None,\n",
       "   'open_date': None,\n",
       "   'owner_type_code': None,\n",
       "   'plus4': None,\n",
       "   'state': 'CO',\n",
       "   'station_name': 'UDR',\n",
       "   'station_phone': '888-758-4389',\n",
       "   'status_code': 'E',\n",
       "   'street_address': '800 Acoma St',\n",
       "   'updated_at': '2017-09-23T08:54:22Z',\n",
       "   'zip': '80204'},\n",
       "  {'access_days_time': '24 hours daily',\n",
       "   'bd_blends': None,\n",
       "   'cards_accepted': None,\n",
       "   'city': 'Denver',\n",
       "   'date_last_confirmed': '2017-09-23',\n",
       "   'distance': 0.69017,\n",
       "   'e85_blender_pump': None,\n",
       "   'ev_connector_types': ['J1772'],\n",
       "   'ev_dc_fast_num': None,\n",
       "   'ev_level1_evse_num': None,\n",
       "   'ev_level2_evse_num': 2,\n",
       "   'ev_network': 'ChargePoint Network',\n",
       "   'ev_network_ids': {'posts': ['1:107401']},\n",
       "   'ev_network_web': 'http://www.chargepoint.com/',\n",
       "   'ev_other_evse': None,\n",
       "   'expected_date': None,\n",
       "   'fuel_type_code': 'ELEC',\n",
       "   'geocode_status': 'GPS',\n",
       "   'groups_with_access_code': 'Public',\n",
       "   'hy_status_link': None,\n",
       "   'id': 65319,\n",
       "   'intersection_directions': '1801 CAL 01; -',\n",
       "   'latitude': 39.7477036,\n",
       "   'longitude': -104.9897862,\n",
       "   'lpg_primary': None,\n",
       "   'ng_fill_type_code': None,\n",
       "   'ng_psi': None,\n",
       "   'ng_vehicle_class': None,\n",
       "   'open_date': None,\n",
       "   'owner_type_code': None,\n",
       "   'plus4': None,\n",
       "   'state': 'CO',\n",
       "   'station_name': 'BROOKFIELD WEST',\n",
       "   'station_phone': '888-758-4389',\n",
       "   'status_code': 'E',\n",
       "   'street_address': '1801 California St',\n",
       "   'updated_at': '2017-09-23T09:10:22Z',\n",
       "   'zip': '80202'},\n",
       "  {'access_days_time': '24 hours daily',\n",
       "   'bd_blends': None,\n",
       "   'cards_accepted': None,\n",
       "   'city': 'Denver',\n",
       "   'date_last_confirmed': '2016-11-02',\n",
       "   'distance': 0.72698,\n",
       "   'e85_blender_pump': None,\n",
       "   'ev_connector_types': ['J1772'],\n",
       "   'ev_dc_fast_num': None,\n",
       "   'ev_level1_evse_num': None,\n",
       "   'ev_level2_evse_num': 1,\n",
       "   'ev_network': None,\n",
       "   'ev_network_web': None,\n",
       "   'ev_other_evse': None,\n",
       "   'expected_date': None,\n",
       "   'fuel_type_code': 'ELEC',\n",
       "   'geocode_status': 'GPS',\n",
       "   'groups_with_access_code': 'Public',\n",
       "   'hy_status_link': None,\n",
       "   'id': 53944,\n",
       "   'intersection_directions': 'Parking space 1081. Level P-1, half way down the level near the freight elevator',\n",
       "   'latitude': 39.742308,\n",
       "   'longitude': -104.997556,\n",
       "   'lpg_primary': None,\n",
       "   'ng_fill_type_code': None,\n",
       "   'ng_psi': None,\n",
       "   'ng_vehicle_class': None,\n",
       "   'open_date': '2013-06-01',\n",
       "   'owner_type_code': 'LG',\n",
       "   'plus4': None,\n",
       "   'state': 'CO',\n",
       "   'station_name': 'City of Denver - Colorado Convention Center Garage',\n",
       "   'station_phone': '303-228-8071  720-913-1750',\n",
       "   'status_code': 'E',\n",
       "   'street_address': '1104 Champa St',\n",
       "   'updated_at': '2017-01-18T01:27:40Z',\n",
       "   'zip': '80202'},\n",
       "  {'access_days_time': '24 hours daily',\n",
       "   'bd_blends': None,\n",
       "   'cards_accepted': None,\n",
       "   'city': 'Denver',\n",
       "   'date_last_confirmed': '2017-09-23',\n",
       "   'distance': 0.73327,\n",
       "   'e85_blender_pump': None,\n",
       "   'ev_connector_types': ['J1772'],\n",
       "   'ev_dc_fast_num': None,\n",
       "   'ev_level1_evse_num': None,\n",
       "   'ev_level2_evse_num': 1,\n",
       "   'ev_network': 'ChargePoint Network',\n",
       "   'ev_network_ids': {'posts': ['1:113141']},\n",
       "   'ev_network_web': 'http://www.chargepoint.com/',\n",
       "   'ev_other_evse': None,\n",
       "   'expected_date': None,\n",
       "   'fuel_type_code': 'ELEC',\n",
       "   'geocode_status': 'GPS',\n",
       "   'groups_with_access_code': 'Public',\n",
       "   'hy_status_link': None,\n",
       "   'id': 65578,\n",
       "   'intersection_directions': 'PORTE COCHERE; Located in the Spire porte cochere off Champa. Available to the public while charging a vehicle at $5 per hour.  Registered resident rate is $2 per hour.',\n",
       "   'latitude': 39.7448438,\n",
       "   'longitude': -104.9958538,\n",
       "   'lpg_primary': None,\n",
       "   'ng_fill_type_code': None,\n",
       "   'ng_psi': None,\n",
       "   'ng_vehicle_class': None,\n",
       "   'open_date': None,\n",
       "   'owner_type_code': None,\n",
       "   'plus4': None,\n",
       "   'state': 'CO',\n",
       "   'station_name': 'SPIRE',\n",
       "   'station_phone': '888-758-4389',\n",
       "   'status_code': 'E',\n",
       "   'street_address': '891 14th St',\n",
       "   'updated_at': '2017-09-23T09:03:26Z',\n",
       "   'zip': '80202'},\n",
       "  {'access_days_time': '24 hours daily',\n",
       "   'bd_blends': None,\n",
       "   'cards_accepted': None,\n",
       "   'city': 'Denver',\n",
       "   'date_last_confirmed': '2017-09-23',\n",
       "   'distance': 0.74554,\n",
       "   'e85_blender_pump': None,\n",
       "   'ev_connector_types': ['J1772'],\n",
       "   'ev_dc_fast_num': None,\n",
       "   'ev_level1_evse_num': None,\n",
       "   'ev_level2_evse_num': 1,\n",
       "   'ev_network': 'ChargePoint Network',\n",
       "   'ev_network_ids': {'posts': ['1:74153']},\n",
       "   'ev_network_web': 'http://www.chargepoint.com/',\n",
       "   'ev_other_evse': None,\n",
       "   'expected_date': None,\n",
       "   'fuel_type_code': 'ELEC',\n",
       "   'geocode_status': 'GPS',\n",
       "   'groups_with_access_code': 'Public',\n",
       "   'hy_status_link': None,\n",
       "   'id': 65432,\n",
       "   'intersection_directions': 'CONVENTION CTR; Enter garage off Speer before Champa. Located in space 1081 on Level 1',\n",
       "   'latitude': 39.7431367,\n",
       "   'longitude': -104.9974677,\n",
       "   'lpg_primary': None,\n",
       "   'ng_fill_type_code': None,\n",
       "   'ng_psi': None,\n",
       "   'ng_vehicle_class': None,\n",
       "   'open_date': None,\n",
       "   'owner_type_code': None,\n",
       "   'plus4': None,\n",
       "   'state': 'CO',\n",
       "   'station_name': 'PUBLIC STATIONS',\n",
       "   'station_phone': '888-758-4389',\n",
       "   'status_code': 'E',\n",
       "   'street_address': '1286-1296 Stout St',\n",
       "   'updated_at': '2017-09-23T09:29:28Z',\n",
       "   'zip': '80202'},\n",
       "  {'access_days_time': '24 hours daily; pay lot',\n",
       "   'bd_blends': None,\n",
       "   'cards_accepted': None,\n",
       "   'city': 'Denver',\n",
       "   'date_last_confirmed': '2016-11-02',\n",
       "   'distance': 0.79883,\n",
       "   'e85_blender_pump': None,\n",
       "   'ev_connector_types': ['J1772', 'CHADEMO'],\n",
       "   'ev_dc_fast_num': 1,\n",
       "   'ev_level1_evse_num': None,\n",
       "   'ev_level2_evse_num': 2,\n",
       "   'ev_network': None,\n",
       "   'ev_network_web': None,\n",
       "   'ev_other_evse': None,\n",
       "   'expected_date': None,\n",
       "   'fuel_type_code': 'ELEC',\n",
       "   'geocode_status': 'GPS',\n",
       "   'groups_with_access_code': 'Public',\n",
       "   'hy_status_link': None,\n",
       "   'id': 50066,\n",
       "   'intersection_directions': 'Located on level 4 by the elevators',\n",
       "   'latitude': 39.743919,\n",
       "   'longitude': -104.998075,\n",
       "   'lpg_primary': None,\n",
       "   'ng_fill_type_code': None,\n",
       "   'ng_psi': None,\n",
       "   'ng_vehicle_class': None,\n",
       "   'open_date': '2012-12-01',\n",
       "   'owner_type_code': 'LG',\n",
       "   'plus4': None,\n",
       "   'state': 'CO',\n",
       "   'station_name': 'City of Denver - Denver Performing Arts Center Garage',\n",
       "   'station_phone': '303-607-9093  720-913-1750',\n",
       "   'status_code': 'E',\n",
       "   'street_address': '1055 13th St',\n",
       "   'updated_at': '2017-01-18T01:27:39Z',\n",
       "   'zip': '80204'},\n",
       "  {'access_days_time': '24 hours daily',\n",
       "   'bd_blends': None,\n",
       "   'cards_accepted': None,\n",
       "   'city': 'Denver',\n",
       "   'date_last_confirmed': '2017-09-23',\n",
       "   'distance': 0.80931,\n",
       "   'e85_blender_pump': None,\n",
       "   'ev_connector_types': ['J1772'],\n",
       "   'ev_dc_fast_num': None,\n",
       "   'ev_level1_evse_num': None,\n",
       "   'ev_level2_evse_num': 4,\n",
       "   'ev_network': 'ChargePoint Network',\n",
       "   'ev_network_ids': {'posts': ['1:192263', '1:190855']},\n",
       "   'ev_network_web': 'http://www.chargepoint.com/',\n",
       "   'ev_other_evse': None,\n",
       "   'expected_date': None,\n",
       "   'fuel_type_code': 'ELEC',\n",
       "   'geocode_status': '200-8',\n",
       "   'groups_with_access_code': 'Public',\n",
       "   'hy_status_link': None,\n",
       "   'id': 85916,\n",
       "   'intersection_directions': 'DENVERPLACE02; Parking garage rates plus EV charging station fees apply \\nDENVERPLACE01; -Parking garage rates plus EV charging station fees apply ',\n",
       "   'latitude': 39.748797,\n",
       "   'longitude': -104.99202,\n",
       "   'lpg_primary': None,\n",
       "   'ng_fill_type_code': None,\n",
       "   'ng_psi': None,\n",
       "   'ng_vehicle_class': None,\n",
       "   'open_date': None,\n",
       "   'owner_type_code': None,\n",
       "   'plus4': None,\n",
       "   'state': 'CO',\n",
       "   'station_name': 'LBA REALTY',\n",
       "   'station_phone': '888-758-4389',\n",
       "   'status_code': 'E',\n",
       "   'street_address': '999 18th St',\n",
       "   'updated_at': '2017-09-23T08:03:57Z',\n",
       "   'zip': '80202'},\n",
       "  {'access_days_time': 'MO: 12:00am-12:00am; TU: 12:00am-12:00am; WE: 12:00am-12:00am; TH: 12:00am-12:00am; FR: 12:00am-12:00am; SA: 12:00am-12:00am; SU: 12:00am-12:00am',\n",
       "   'bd_blends': None,\n",
       "   'cards_accepted': None,\n",
       "   'city': 'Denver',\n",
       "   'date_last_confirmed': '2017-09-23',\n",
       "   'distance': 0.8538,\n",
       "   'e85_blender_pump': None,\n",
       "   'ev_connector_types': ['J1772'],\n",
       "   'ev_dc_fast_num': None,\n",
       "   'ev_level1_evse_num': None,\n",
       "   'ev_level2_evse_num': 1,\n",
       "   'ev_network': 'SemaCharge Network',\n",
       "   'ev_network_ids': {'posts': ['3239'], 'station': ['1300']},\n",
       "   'ev_network_web': 'http://www.semacharge.com/',\n",
       "   'ev_other_evse': None,\n",
       "   'expected_date': None,\n",
       "   'fuel_type_code': 'ELEC',\n",
       "   'geocode_status': 'GPS',\n",
       "   'groups_with_access_code': 'Public - Card key at all times',\n",
       "   'hy_status_link': None,\n",
       "   'id': 72629,\n",
       "   'intersection_directions': 'Stations are located on P1 Level',\n",
       "   'latitude': 39.7487525,\n",
       "   'longitude': -104.9937407,\n",
       "   'lpg_primary': None,\n",
       "   'ng_fill_type_code': None,\n",
       "   'ng_psi': None,\n",
       "   'ng_vehicle_class': None,\n",
       "   'open_date': None,\n",
       "   'owner_type_code': None,\n",
       "   'plus4': None,\n",
       "   'state': 'CO',\n",
       "   'station_name': '1001 - 17th Street',\n",
       "   'station_phone': '800-663-5633',\n",
       "   'status_code': 'E',\n",
       "   'street_address': '1001 - 17th Street',\n",
       "   'updated_at': '2017-09-23T07:54:24Z',\n",
       "   'zip': '80202'},\n",
       "  {'access_days_time': '24 hours daily; for Tesla use only; see valet for access',\n",
       "   'bd_blends': None,\n",
       "   'cards_accepted': None,\n",
       "   'city': 'Denver ',\n",
       "   'date_last_confirmed': '2016-09-02',\n",
       "   'distance': 0.8825,\n",
       "   'e85_blender_pump': None,\n",
       "   'ev_connector_types': ['TESLA'],\n",
       "   'ev_dc_fast_num': None,\n",
       "   'ev_level1_evse_num': None,\n",
       "   'ev_level2_evse_num': 2,\n",
       "   'ev_network': 'Tesla',\n",
       "   'ev_network_web': 'http://www.teslamotors.com/supercharger',\n",
       "   'ev_other_evse': None,\n",
       "   'expected_date': None,\n",
       "   'fuel_type_code': 'ELEC',\n",
       "   'geocode_status': '200-8',\n",
       "   'groups_with_access_code': 'Public',\n",
       "   'hy_status_link': None,\n",
       "   'id': 77499,\n",
       "   'intersection_directions': None,\n",
       "   'latitude': 39.7499978,\n",
       "   'longitude': -104.9919883,\n",
       "   'lpg_primary': None,\n",
       "   'ng_fill_type_code': None,\n",
       "   'ng_psi': None,\n",
       "   'ng_vehicle_class': None,\n",
       "   'open_date': '2016-07-15',\n",
       "   'owner_type_code': 'P',\n",
       "   'plus4': None,\n",
       "   'state': 'CO',\n",
       "   'station_name': 'The Ritz-Carlton - Tesla',\n",
       "   'station_phone': '303-312-3800  877-798-3789',\n",
       "   'status_code': 'E',\n",
       "   'street_address': '1881 Curtis St',\n",
       "   'updated_at': '2017-01-18T01:05:37Z',\n",
       "   'zip': '80202'},\n",
       "  {'access_days_time': '24 hours daily; for patron use only; see valet for access',\n",
       "   'bd_blends': None,\n",
       "   'cards_accepted': None,\n",
       "   'city': 'Denver',\n",
       "   'date_last_confirmed': '2016-05-09',\n",
       "   'distance': 0.89667,\n",
       "   'e85_blender_pump': None,\n",
       "   'ev_connector_types': ['TESLA', 'J1772'],\n",
       "   'ev_dc_fast_num': None,\n",
       "   'ev_level1_evse_num': None,\n",
       "   'ev_level2_evse_num': 4,\n",
       "   'ev_network': 'Tesla',\n",
       "   'ev_network_web': 'http://www.teslamotors.com/supercharger',\n",
       "   'ev_other_evse': None,\n",
       "   'expected_date': None,\n",
       "   'fuel_type_code': 'ELEC',\n",
       "   'geocode_status': '200-8',\n",
       "   'groups_with_access_code': 'Public',\n",
       "   'hy_status_link': None,\n",
       "   'id': 70744,\n",
       "   'intersection_directions': None,\n",
       "   'latitude': 39.7465555,\n",
       "   'longitude': -104.9980168,\n",
       "   'lpg_primary': None,\n",
       "   'ng_fill_type_code': None,\n",
       "   'ng_psi': None,\n",
       "   'ng_vehicle_class': None,\n",
       "   'open_date': '2015-10-01',\n",
       "   'owner_type_code': 'P',\n",
       "   'plus4': None,\n",
       "   'state': 'CO',\n",
       "   'station_name': 'Four Seasons Hotel Denver',\n",
       "   'station_phone': '303-389-3000  877-798-3752',\n",
       "   'status_code': 'E',\n",
       "   'street_address': '1111 14th St',\n",
       "   'updated_at': '2017-01-18T01:23:39Z',\n",
       "   'zip': '80202'}],\n",
       " 'latitude': 39.738453,\n",
       " 'longitude': -104.984853,\n",
       " 'offset': 0,\n",
       " 'precision': {'name': 'locality',\n",
       "  'types': ['locality', 'political'],\n",
       "  'value': 4},\n",
       " 'station_counts': {'fuels': {'BD': {'total': 0},\n",
       "   'CNG': {'total': 3},\n",
       "   'E85': {'total': 1},\n",
       "   'ELEC': {'stations': {'total': 61}, 'total': 138},\n",
       "   'HY': {'total': 0},\n",
       "   'LNG': {'total': 0},\n",
       "   'LPG': {'total': 6}},\n",
       "  'total': 148},\n",
       " 'station_locator_url': 'http://www.afdc.energy.gov/afdc/locator/stations/',\n",
       " 'total_results': 71}"
      ]
     },
     "execution_count": 15,
     "metadata": {},
     "output_type": "execute_result"
    }
   ],
   "source": [
    "response.json()"
   ]
  },
  {
   "cell_type": "code",
   "execution_count": 69,
   "metadata": {
    "collapsed": false
   },
   "outputs": [],
   "source": [
    "url = \"https://api.open.fec.gov/v1/schedules/schedule_a/by_employer/?employer=Goldman%20Sachs&per_page=100&api_key=DEMO_KEY&page=12\""
   ]
  },
  {
   "cell_type": "code",
   "execution_count": 18,
   "metadata": {
    "collapsed": false
   },
   "outputs": [
    {
     "data": {
      "text/plain": [
       "{'api_version': '1.0',\n",
       " 'pagination': {'count': 1054, 'page': 12, 'pages': 11, 'per_page': 100},\n",
       " 'results': []}"
      ]
     },
     "execution_count": 18,
     "metadata": {},
     "output_type": "execute_result"
    }
   ],
   "source": [
    "response.json()"
   ]
  },
  {
   "cell_type": "code",
   "execution_count": 93,
   "metadata": {
    "collapsed": true
   },
   "outputs": [],
   "source": [
    "def get_url(url):\n",
    "    #data = json.loads(requests.get(url))\n",
    "    data = requests.get(url).json()\n",
    "    #response = requests.get(url)\n",
    "    #data = response.json(object_pairs_hook=OrderedDict)\n",
    "    #from collections import OrderedDict\n",
    "    #data = requests.get(url).json(object_pairs_hook=OrderedDict)\n",
    "    #data = requests.get(url).json.loads()\n",
    "    return(data)"
   ]
  },
  {
   "cell_type": "code",
   "execution_count": 72,
   "metadata": {
    "collapsed": false
   },
   "outputs": [
    {
     "name": "stdout",
     "output_type": "stream",
     "text": [
      "OrderedDict([('pagination', OrderedDict([('pages', 11), ('count', 1054), ('page', 12), ('per_page', 100)])), ('results', []), ('api_version', '1.0')])\n"
     ]
    }
   ],
   "source": [
    "test = get_url(url)\n",
    "print(test)"
   ]
  },
  {
   "cell_type": "code",
   "execution_count": 4,
   "metadata": {
    "collapsed": true
   },
   "outputs": [],
   "source": [
    "def get_pages(data):\n",
    "    pages = data['pagination']['pages']\n",
    "    return pages\n",
    "\n",
    "def get_count(data):\n",
    "    count = data['pagination']['count']\n",
    "    return count"
   ]
  },
  {
   "cell_type": "code",
   "execution_count": 34,
   "metadata": {
    "collapsed": false
   },
   "outputs": [
    {
     "data": {
      "text/plain": [
       "11"
      ]
     },
     "execution_count": 34,
     "metadata": {},
     "output_type": "execute_result"
    }
   ],
   "source": [
    "get_pages(test)"
   ]
  },
  {
   "cell_type": "code",
   "execution_count": 31,
   "metadata": {
    "collapsed": false
   },
   "outputs": [
    {
     "data": {
      "text/plain": [
       "1054"
      ]
     },
     "execution_count": 31,
     "metadata": {},
     "output_type": "execute_result"
    }
   ],
   "source": [
    "get_count(test)"
   ]
  },
  {
   "cell_type": "code",
   "execution_count": null,
   "metadata": {
    "collapsed": true
   },
   "outputs": [],
   "source": [
    "url = \"https://api.open.fec.gov/v1/schedules/schedule_a/by_employer/?employer=Goldman%20Sachs&per_page=100&api_key={}&page={}\".format(api_key, page)"
   ]
  },
  {
   "cell_type": "code",
   "execution_count": 44,
   "metadata": {
    "collapsed": false
   },
   "outputs": [
    {
     "name": "stdout",
     "output_type": "stream",
     "text": [
      "100\n",
      "100\n",
      "100\n",
      "100\n",
      "100\n",
      "100\n",
      "100\n",
      "100\n",
      "100\n",
      "100\n",
      "54\n"
     ]
    }
   ],
   "source": [
    "pages = get_pages(test)\n",
    "for page in range(1, pages+1):\n",
    "    stem = \"https://api.open.fec.gov/v1/schedules/schedule_a/by_employer/\"\n",
    "    end = \"?employer=Goldman%20Sachs&per_page=100&api_key={}&page={}\".format(api_key, page)\n",
    "    url = stem+end\n",
    "    data = get_url(url)\n",
    "    results = data['results']\n",
    "    print(len(results))"
   ]
  },
  {
   "cell_type": "code",
   "execution_count": 112,
   "metadata": {
    "collapsed": false
   },
   "outputs": [
    {
     "name": "stdout",
     "output_type": "stream",
     "text": [
      "<class 'dict'>\n",
      "idx\n",
      "total\n",
      "cycle\n",
      "committee_id\n",
      "count\n",
      "employer\n"
     ]
    },
    {
     "data": {
      "text/plain": [
       "dict_keys(['idx', 'total', 'cycle', 'committee_id', 'count', 'employer'])"
      ]
     },
     "execution_count": 112,
     "metadata": {},
     "output_type": "execute_result"
    }
   ],
   "source": [
    "data = get_url(url)\n",
    "columns = data['results'][1]\n",
    "print(type(columns))\n",
    "for k in columns:\n",
    "    print(k)\n",
    "    \n",
    "\n",
    "columns.keys()\n"
   ]
  },
  {
   "cell_type": "code",
   "execution_count": 119,
   "metadata": {
    "collapsed": false
   },
   "outputs": [],
   "source": [
    "def flattenjson( b, delim ):\n",
    "    val = {}\n",
    "    for i in b.keys():\n",
    "        if isinstance( b[i], dict ):\n",
    "            get = flattenjson( b[i], delim )\n",
    "            for j in get.keys():\n",
    "                val[ i + delim + j ] = get[j]\n",
    "        else:\n",
    "            val[i] = b[i]\n",
    "\n",
    "    return val\n",
    "\n",
    "\n",
    "\n",
    "\n"
   ]
  },
  {
   "cell_type": "code",
   "execution_count": 120,
   "metadata": {
    "collapsed": false
   },
   "outputs": [],
   "source": [
    "# open a file for writing\n",
    "import csv\n",
    "results = data['results']\n",
    "employ_data = open('/tmp/EmployData.csv', 'w')\n",
    "\n",
    "# create the csv writer object\n",
    "csv_file = open('test_fec', 'w')\n",
    "csvwriter = csv.writer(csv_file)\n",
    "\n",
    "count = 0\n",
    "for row in results:\n",
    "    if count == 0:\n",
    "        header = row.keys()\n",
    "        csvwriter.writerow(header)\n",
    "        count += 1\n",
    "    \n",
    "    csvwriter.writerow(row.values())\n",
    "\n",
    "csv_file.close()"
   ]
  },
  {
   "cell_type": "code",
   "execution_count": 19,
   "metadata": {
    "collapsed": true
   },
   "outputs": [],
   "source": [
    "def write_csv_json(json_results, filename=\"jsondata.csv\"):\n",
    "\n",
    "    \n",
    "    # create the csv and writer\n",
    "    csv_file = open(filename, 'a')\n",
    "    csvwriter = csv.writer(csv_file)\n",
    "\n",
    "    count = 0\n",
    "    for row in json_results:\n",
    "        if count == 0:\n",
    "            header = row.keys()\n",
    "            csvwriter.writerow(header)\n",
    "            count += 1\n",
    "\n",
    "        csvwriter.writerow(row.values())\n",
    "\n",
    "    csv_file.close()"
   ]
  },
  {
   "cell_type": "code",
   "execution_count": 108,
   "metadata": {
    "collapsed": true
   },
   "outputs": [],
   "source": [
    "def write_csv_json_dict(json_results, filename=\"jsondata.csv\"):\n",
    "\n",
    "    with open(filename, 'a') as csvfile:\n",
    "        #fieldnames = ['first_name', 'last_name']\n",
    "        #print(json_results)\n",
    "        writer = csv.DictWriter(csvfile, json_results[0].keys())\n",
    "\n",
    "        count = 0\n",
    "        for row in json_results:\n",
    "            if count == 0:\n",
    "                writer.writeheader()\n",
    "                count += 1\n",
    "            else:\n",
    "                writer.writerow(row)         \n",
    "        csvfile.close()\n"
   ]
  },
  {
   "cell_type": "code",
   "execution_count": 122,
   "metadata": {
    "collapsed": true
   },
   "outputs": [],
   "source": [
    "write_csv_json(results, \"mytest.csv\")"
   ]
  },
  {
   "cell_type": "code",
   "execution_count": 94,
   "metadata": {
    "collapsed": false
   },
   "outputs": [],
   "source": [
    "data = get_url(\"https://api.open.fec.gov/v1/schedules/schedule_a/?per_page=100&sort=contribution_receipt_date&contributor_employer=Goldman%20Sachs&api_key=DEMO_KEY&two_year_transaction_period=1996\")\n",
    "results = data['results']"
   ]
  },
  {
   "cell_type": "code",
   "execution_count": 95,
   "metadata": {
    "collapsed": true
   },
   "outputs": [],
   "source": [
    "write_csv_json(results, \"mytest_1996.csv\")"
   ]
  },
  {
   "cell_type": "code",
   "execution_count": 110,
   "metadata": {
    "collapsed": false
   },
   "outputs": [],
   "source": [
    "write_csv_json_dict(results, \"mytest_1996_dict.csv\")"
   ]
  },
  {
   "cell_type": "code",
   "execution_count": 134,
   "metadata": {
    "collapsed": true
   },
   "outputs": [],
   "source": [
    "data = get_url(\"https://api.open.fec.gov/v1/schedules/schedule_a/?per_page=100&sort=contribution_receipt_date&contributor_employer=Goldman%20Sachs&api_key=DEMO_KEY&two_year_transaction_period=2008\")\n",
    "results = data['results']\n",
    "write_csv_json(results, \"mytest_2008.csv\")"
   ]
  },
  {
   "cell_type": "code",
   "execution_count": null,
   "metadata": {
    "collapsed": true
   },
   "outputs": [],
   "source": []
  },
  {
   "cell_type": "code",
   "execution_count": 41,
   "metadata": {
    "collapsed": false
   },
   "outputs": [
    {
     "name": "stdout",
     "output_type": "stream",
     "text": [
      "[*] AYOTTE, KELLY A, REP, candidate for Senate\n"
     ]
    },
    {
     "data": {
      "text/plain": [
       "'REP'"
      ]
     },
     "execution_count": 41,
     "metadata": {},
     "output_type": "execute_result"
    }
   ],
   "source": [
    "#function to label party from contribtion dest\n",
    "def get_party_id(committee_id):\n",
    "    stem = \"https://api.open.fec.gov/v1/committee/\"\n",
    "    end = \"{}/candidates/?sort=name&page=1&api_key={}&per_page=100\".format(committee_id, api_key)\n",
    "    url = stem+end\n",
    "\n",
    "    data = get_url(url)\n",
    "    party_id = data['results'][0]['party']\n",
    "    office = data['results'][0]['office_full']\n",
    "    name = data['results'][0]['name']\n",
    "    print(\"[*] {}, {}, candidate for {}\".format(name, party_id, office))\n",
    "    return party_id\n",
    "    \n",
    "get_party_id(\"C00464297\")\n",
    "#get_party_id(\"C00401224\") #this one gets error, seems to be no party\n",
    "#get_party_id(\"C00571380\")"
   ]
  },
  {
   "cell_type": "code",
   "execution_count": 30,
   "metadata": {
    "collapsed": true
   },
   "outputs": [],
   "source": [
    "#function to label party from contribtion dest\n",
    "def get_party_ids(committee_id):\n",
    "    stem = \"https://api.open.fec.gov/v1/committee/\"\n",
    "    end = \"{}/candidates/?sort=name&page=1&api_key={}&per_page=100\".format(committee_id, api_key)\n",
    "    url = stem+end\n",
    "\n",
    "    data = get_url(url)\n",
    "    results = data['results'][0]\n",
    "    results['committee_id'] = str(committee_id)\n",
    "    return results"
   ]
  },
  {
   "cell_type": "code",
   "execution_count": null,
   "metadata": {
    "collapsed": true
   },
   "outputs": [],
   "source": [
    "def get_committee_details(comittee_id)"
   ]
  },
  {
   "cell_type": "code",
   "execution_count": 32,
   "metadata": {
    "collapsed": false
   },
   "outputs": [],
   "source": [
    "results = get_party_ids(\"C00431916\")\n"
   ]
  },
  {
   "cell_type": "code",
   "execution_count": 33,
   "metadata": {
    "collapsed": false
   },
   "outputs": [
    {
     "data": {
      "text/plain": [
       "{'active_through': 2008,\n",
       " 'address_city': 'WILMINGTON',\n",
       " 'address_state': 'DE',\n",
       " 'address_street_1': 'PO BOX 438',\n",
       " 'address_street_2': None,\n",
       " 'address_zip': '19899',\n",
       " 'candidate_id': 'P80000722',\n",
       " 'candidate_inactive': False,\n",
       " 'candidate_status': 'P',\n",
       " 'committee_id': 'C00431916',\n",
       " 'cycles': [1988, 1990, 2008, 2010, 2012],\n",
       " 'district': '00',\n",
       " 'district_number': 0,\n",
       " 'election_districts': ['00', '00'],\n",
       " 'election_years': [1988, 2008],\n",
       " 'federal_funds_flag': True,\n",
       " 'first_file_date': '1987-04-03',\n",
       " 'flags': 'P80000722',\n",
       " 'has_raised_funds': True,\n",
       " 'incumbent_challenge': 'O',\n",
       " 'incumbent_challenge_full': 'Open seat',\n",
       " 'last_f2_date': '2007-01-31',\n",
       " 'last_file_date': '2007-01-31',\n",
       " 'load_date': '2011-06-21T09:19:07',\n",
       " 'name': 'BIDEN, JOSEPH R JR',\n",
       " 'office': 'P',\n",
       " 'office_full': 'President',\n",
       " 'party': 'DEM',\n",
       " 'party_full': 'DEMOCRATIC PARTY',\n",
       " 'state': 'US'}"
      ]
     },
     "execution_count": 33,
     "metadata": {},
     "output_type": "execute_result"
    }
   ],
   "source": [
    "results"
   ]
  },
  {
   "cell_type": "code",
   "execution_count": 29,
   "metadata": {
    "collapsed": false
   },
   "outputs": [
    {
     "data": {
      "text/plain": [
       "dict"
      ]
     },
     "execution_count": 29,
     "metadata": {},
     "output_type": "execute_result"
    }
   ],
   "source": [
    "type(results)"
   ]
  },
  {
   "cell_type": "code",
   "execution_count": 40,
   "metadata": {
    "collapsed": false
   },
   "outputs": [
    {
     "ename": "IndexError",
     "evalue": "list index out of range",
     "output_type": "error",
     "traceback": [
      "\u001b[0;31m---------------------------------------------------------------------------\u001b[0m",
      "\u001b[0;31mIndexError\u001b[0m                                Traceback (most recent call last)",
      "\u001b[0;32m<ipython-input-40-032b10f35973>\u001b[0m in \u001b[0;36m<module>\u001b[0;34m()\u001b[0m\n\u001b[1;32m      1\u001b[0m \u001b[0;31m#https://api.open.fec.gov/v1/committee/C00401224/schedules/schedule_b/by_recipient_id/?per_page=20&api_key=DEMO_KEY&page=1\u001b[0m\u001b[0;34m\u001b[0m\u001b[0;34m\u001b[0m\u001b[0m\n\u001b[1;32m      2\u001b[0m \u001b[0;31m#returns 1st recipient C00000935\u001b[0m\u001b[0;34m\u001b[0m\u001b[0;34m\u001b[0m\u001b[0m\n\u001b[0;32m----> 3\u001b[0;31m \u001b[0mget_party_id\u001b[0m\u001b[0;34m(\u001b[0m\u001b[0;34m\"C00000935\"\u001b[0m\u001b[0;34m)\u001b[0m\u001b[0;34m\u001b[0m\u001b[0m\n\u001b[0m",
      "\u001b[0;32m<ipython-input-39-c558f0699f9c>\u001b[0m in \u001b[0;36mget_party_id\u001b[0;34m(committee_id)\u001b[0m\n\u001b[1;32m      6\u001b[0m \u001b[0;34m\u001b[0m\u001b[0m\n\u001b[1;32m      7\u001b[0m     \u001b[0mdata\u001b[0m \u001b[0;34m=\u001b[0m \u001b[0mget_url\u001b[0m\u001b[0;34m(\u001b[0m\u001b[0murl\u001b[0m\u001b[0;34m)\u001b[0m\u001b[0;34m\u001b[0m\u001b[0m\n\u001b[0;32m----> 8\u001b[0;31m     \u001b[0mparty_id\u001b[0m \u001b[0;34m=\u001b[0m \u001b[0mdata\u001b[0m\u001b[0;34m[\u001b[0m\u001b[0;34m'results'\u001b[0m\u001b[0;34m]\u001b[0m\u001b[0;34m[\u001b[0m\u001b[0;36m0\u001b[0m\u001b[0;34m]\u001b[0m\u001b[0;34m[\u001b[0m\u001b[0;34m'party'\u001b[0m\u001b[0;34m]\u001b[0m\u001b[0;34m\u001b[0m\u001b[0m\n\u001b[0m\u001b[1;32m      9\u001b[0m     \u001b[0moffice\u001b[0m \u001b[0;34m=\u001b[0m \u001b[0mdata\u001b[0m\u001b[0;34m[\u001b[0m\u001b[0;34m'results'\u001b[0m\u001b[0;34m]\u001b[0m\u001b[0;34m[\u001b[0m\u001b[0;36m0\u001b[0m\u001b[0;34m]\u001b[0m\u001b[0;34m[\u001b[0m\u001b[0;34m'office_full'\u001b[0m\u001b[0;34m]\u001b[0m\u001b[0;34m\u001b[0m\u001b[0m\n\u001b[1;32m     10\u001b[0m     \u001b[0mname\u001b[0m \u001b[0;34m=\u001b[0m \u001b[0mdata\u001b[0m\u001b[0;34m[\u001b[0m\u001b[0;34m'results'\u001b[0m\u001b[0;34m]\u001b[0m\u001b[0;34m[\u001b[0m\u001b[0;36m0\u001b[0m\u001b[0;34m]\u001b[0m\u001b[0;34m[\u001b[0m\u001b[0;34m'name'\u001b[0m\u001b[0;34m]\u001b[0m\u001b[0;34m\u001b[0m\u001b[0m\n",
      "\u001b[0;31mIndexError\u001b[0m: list index out of range"
     ]
    }
   ],
   "source": [
    "#https://api.open.fec.gov/v1/committee/C00401224/schedules/schedule_b/by_recipient_id/?per_page=20&api_key=DEMO_KEY&page=1\n",
    "#returns 1st recipient C00000935\n",
    "get_party_id(\"C00000935\")"
   ]
  },
  {
   "cell_type": "code",
   "execution_count": 23,
   "metadata": {
    "collapsed": false
   },
   "outputs": [
    {
     "name": "stdout",
     "output_type": "stream",
     "text": [
      "[*] BIDEN, JOSEPH R JR, DEM, candidate for President\n"
     ]
    },
    {
     "data": {
      "text/plain": [
       "'DEM'"
      ]
     },
     "execution_count": 23,
     "metadata": {},
     "output_type": "execute_result"
    }
   ],
   "source": [
    "get_party_id(\"C00431916\")\n"
   ]
  },
  {
   "cell_type": "code",
   "execution_count": 157,
   "metadata": {
    "collapsed": false
   },
   "outputs": [
    {
     "name": "stdout",
     "output_type": "stream",
     "text": [
      "[*] BONILLA, HENRY, REPUBLICAN PARTY, candidate for House\n"
     ]
    },
    {
     "data": {
      "text/plain": [
       "'REPUBLICAN PARTY'"
      ]
     },
     "execution_count": 157,
     "metadata": {},
     "output_type": "execute_result"
    }
   ],
   "source": [
    "get_party_id(\"C00257402\")"
   ]
  },
  {
   "cell_type": "code",
   "execution_count": null,
   "metadata": {
    "collapsed": true
   },
   "outputs": [],
   "source": []
  },
  {
   "cell_type": "code",
   "execution_count": 5,
   "metadata": {
    "collapsed": false
   },
   "outputs": [
    {
     "ename": "NameError",
     "evalue": "name 'test' is not defined",
     "output_type": "error",
     "traceback": [
      "\u001b[0;31m---------------------------------------------------------------------------\u001b[0m",
      "\u001b[0;31mNameError\u001b[0m                                 Traceback (most recent call last)",
      "\u001b[0;32m<ipython-input-5-eb227ecbe367>\u001b[0m in \u001b[0;36m<module>\u001b[0;34m()\u001b[0m\n\u001b[0;32m----> 1\u001b[0;31m \u001b[0mpages\u001b[0m \u001b[0;34m=\u001b[0m \u001b[0mget_pages\u001b[0m\u001b[0;34m(\u001b[0m\u001b[0mtest\u001b[0m\u001b[0;34m)\u001b[0m\u001b[0;34m\u001b[0m\u001b[0m\n\u001b[0m\u001b[1;32m      2\u001b[0m \u001b[0;32mfor\u001b[0m \u001b[0mpage\u001b[0m \u001b[0;32min\u001b[0m \u001b[0mrange\u001b[0m\u001b[0;34m(\u001b[0m\u001b[0;36m1\u001b[0m\u001b[0;34m,\u001b[0m \u001b[0mpages\u001b[0m\u001b[0;34m+\u001b[0m\u001b[0;36m1\u001b[0m\u001b[0;34m)\u001b[0m\u001b[0;34m:\u001b[0m\u001b[0;34m\u001b[0m\u001b[0m\n\u001b[1;32m      3\u001b[0m     \u001b[0mstem\u001b[0m \u001b[0;34m=\u001b[0m \u001b[0;34m\"https://api.open.fec.gov/v1/schedules/schedule_a/by_employer/\"\u001b[0m\u001b[0;34m\u001b[0m\u001b[0m\n\u001b[1;32m      4\u001b[0m     \u001b[0mend\u001b[0m \u001b[0;34m=\u001b[0m \u001b[0;34m\"?employer=Goldman%20Sachs&per_page=100&api_key={}&page={}\"\u001b[0m\u001b[0;34m.\u001b[0m\u001b[0mformat\u001b[0m\u001b[0;34m(\u001b[0m\u001b[0mapi_key\u001b[0m\u001b[0;34m,\u001b[0m \u001b[0mpage\u001b[0m\u001b[0;34m)\u001b[0m\u001b[0;34m\u001b[0m\u001b[0m\n\u001b[1;32m      5\u001b[0m     \u001b[0murl\u001b[0m \u001b[0;34m=\u001b[0m \u001b[0mstem\u001b[0m\u001b[0;34m+\u001b[0m\u001b[0mend\u001b[0m\u001b[0;34m\u001b[0m\u001b[0m\n",
      "\u001b[0;31mNameError\u001b[0m: name 'test' is not defined"
     ]
    }
   ],
   "source": [
    "pages = get_pages(test)\n",
    "for page in range(1, pages+1):\n",
    "    stem = \"https://api.open.fec.gov/v1/schedules/schedule_a/by_employer/\"\n",
    "    end = \"?employer=Goldman%20Sachs&per_page=100&api_key={}&page={}\".format(api_key, page)\n",
    "    url = stem+end\n",
    "    data = get_url(url)\n",
    "    results = data['results']\n",
    "    print(len(results))"
   ]
  },
  {
   "cell_type": "code",
   "execution_count": 133,
   "metadata": {
    "collapsed": false
   },
   "outputs": [
    {
     "name": "stdout",
     "output_type": "stream",
     "text": [
      "[*] getting FEC SCHEDULE A results for Goldman Sachs in 2008...page 1 of 43\n",
      "[*] getting FEC SCHEDULE A results for Goldman Sachs in 2008...page 2 of 43\n",
      "[*] getting FEC SCHEDULE A results for Goldman Sachs in 2008...page 3 of 43\n",
      "[*] getting FEC SCHEDULE A results for Goldman Sachs in 2008...page 4 of 43\n",
      "[*] getting FEC SCHEDULE A results for Goldman Sachs in 2008...page 5 of 43\n",
      "[*] getting FEC SCHEDULE A results for Goldman Sachs in 2008...page 6 of 43\n",
      "[*] getting FEC SCHEDULE A results for Goldman Sachs in 2008...page 7 of 43\n",
      "[*] getting FEC SCHEDULE A results for Goldman Sachs in 2008...page 8 of 43\n",
      "[*] getting FEC SCHEDULE A results for Goldman Sachs in 2008...page 9 of 43\n",
      "[*] getting FEC SCHEDULE A results for Goldman Sachs in 2008...page 10 of 43\n",
      "[*] getting FEC SCHEDULE A results for Goldman Sachs in 2008...page 11 of 43\n",
      "[*] getting FEC SCHEDULE A results for Goldman Sachs in 2008...page 12 of 43\n",
      "[*] getting FEC SCHEDULE A results for Goldman Sachs in 2008...page 13 of 43\n",
      "[*] getting FEC SCHEDULE A results for Goldman Sachs in 2008...page 14 of 43\n",
      "[*] getting FEC SCHEDULE A results for Goldman Sachs in 2008...page 15 of 43\n",
      "[*] getting FEC SCHEDULE A results for Goldman Sachs in 2008...page 16 of 43\n",
      "[*] getting FEC SCHEDULE A results for Goldman Sachs in 2008...page 17 of 43\n",
      "[*] getting FEC SCHEDULE A results for Goldman Sachs in 2008...page 18 of 43\n",
      "[*] getting FEC SCHEDULE A results for Goldman Sachs in 2008...page 19 of 43\n",
      "[*] getting FEC SCHEDULE A results for Goldman Sachs in 2008...page 20 of 43\n",
      "[*] getting FEC SCHEDULE A results for Goldman Sachs in 2008...page 21 of 43\n",
      "[*] getting FEC SCHEDULE A results for Goldman Sachs in 2008...page 22 of 43\n",
      "[*] getting FEC SCHEDULE A results for Goldman Sachs in 2008...page 23 of 43\n",
      "[*] getting FEC SCHEDULE A results for Goldman Sachs in 2008...page 24 of 43\n",
      "[*] getting FEC SCHEDULE A results for Goldman Sachs in 2008...page 25 of 43\n",
      "[*] getting FEC SCHEDULE A results for Goldman Sachs in 2008...page 26 of 43\n",
      "[*] getting FEC SCHEDULE A results for Goldman Sachs in 2008...page 27 of 43\n",
      "[*] getting FEC SCHEDULE A results for Goldman Sachs in 2008...page 28 of 43\n",
      "[*] getting FEC SCHEDULE A results for Goldman Sachs in 2008...page 29 of 43\n",
      "[*] getting FEC SCHEDULE A results for Goldman Sachs in 2008...page 30 of 43\n",
      "[*] getting FEC SCHEDULE A results for Goldman Sachs in 2008...page 31 of 43\n",
      "[*] getting FEC SCHEDULE A results for Goldman Sachs in 2008...page 32 of 43\n",
      "[*] getting FEC SCHEDULE A results for Goldman Sachs in 2008...page 33 of 43\n",
      "[*] getting FEC SCHEDULE A results for Goldman Sachs in 2008...page 34 of 43\n",
      "[*] getting FEC SCHEDULE A results for Goldman Sachs in 2008...page 35 of 43\n",
      "[*] getting FEC SCHEDULE A results for Goldman Sachs in 2008...page 36 of 43\n",
      "[*] getting FEC SCHEDULE A results for Goldman Sachs in 2008...page 37 of 43\n",
      "[*] getting FEC SCHEDULE A results for Goldman Sachs in 2008...page 38 of 43\n",
      "[*] getting FEC SCHEDULE A results for Goldman Sachs in 2008...page 39 of 43\n",
      "[*] getting FEC SCHEDULE A results for Goldman Sachs in 2008...page 40 of 43\n",
      "[*] getting FEC SCHEDULE A results for Goldman Sachs in 2008...page 41 of 43\n",
      "[*] getting FEC SCHEDULE A results for Goldman Sachs in 2008...page 42 of 43\n",
      "[*] getting FEC SCHEDULE A results for Goldman Sachs in 2008...page 43 of 43\n"
     ]
    }
   ],
   "source": [
    "def req_url_schedule_a(employer, api_key, year, page=1):\n",
    "    firm = employer.replace(\" \", \"%20\")\n",
    "    stem = \"https://api.open.fec.gov/v1/schedules/schedule_a/?per_page=100&sort=contribution_receipt_date&\"\n",
    "    end = \"contributor_employer={}&api_key={}&two_year_transaction_period={}&page={}\".format(firm, api_key, year, page)\n",
    "    url = stem+end\n",
    "    return url\n",
    "\n",
    "#req_url_schedule_a(\"Goldman Sachs\", api_key)\n",
    "\n",
    "\n",
    "#results = data['results']\n",
    "#write_csv_json(results, \"mytest_2008.csv\")\n",
    "\n",
    "def get_schedule_a_employer_year(employer, api_key, year):\n",
    "    firm = employer.replace(\" \", \"%20\")\n",
    "    \n",
    "    \n",
    "    url = req_url_schedule_a(firm, api_key, year)\n",
    "    #print(url)\n",
    "    data = get_url(url)\n",
    "    \n",
    "    #print(data)\n",
    "    #print(get_pages(data))\n",
    "    \n",
    "    pages = get_pages(data)\n",
    "    for page in range(1, pages+1):\n",
    "        print(\"[*] getting FEC SCHEDULE A results for {} in {}...page {} of {}\".format(employer, year, page, (pages)))\n",
    "        filename = \"{}_{}_schedule_a_{}.csv\".format(year, employer.replace(\" \", \"_\"), page)\n",
    "        url = req_url_schedule_a(firm, api_key, year, page)\n",
    "        page_data = get_url(url)\n",
    "        \n",
    "        #from collections import OrderedDict\n",
    "        #print(page_data)\n",
    "        #ud = json.loads(js)\n",
    "        #results = OrderedDict(page_data['results'][0])\n",
    "        results = page_data['results']\n",
    "        #print(results)\n",
    "        #from collections import OrderedDict\n",
    "        #sorted_data = json.loads(results, object_pairs_hook=OrderedDict)\n",
    "        \n",
    "        #print(type(results[0]))\n",
    "        #header = results[0].keys()\n",
    "        #print(len(header), type(header))\n",
    "        #write_csv_json(results, filename)\n",
    "        #for key, val in results\n",
    "        #print(len(results), results[0:5])\n",
    "        \n",
    "        write_csv_json_dict(results, filename)\n",
    "        \n",
    "\n",
    "get_schedule_a_employer_year(\"Goldman Sachs\", api_key, 2008)"
   ]
  },
  {
   "cell_type": "code",
   "execution_count": 135,
   "metadata": {
    "collapsed": false
   },
   "outputs": [],
   "source": [
    "#save as seperate csvs and sort and merge\n",
    "from glob import glob\n",
    "import pandas as pd\n",
    "\n",
    "filenames = glob('2008_Goldman_Sachs_*')\n",
    "#print(filenames)\n",
    "\n",
    "\n",
    "combined_csv = pd.concat( [ pd.read_csv(f) for f in filenames ] )\n",
    "combined_csv.drop_duplicates()\n",
    "combined_csv.to_csv(\"pandas_test_2008_dedupe.csv\", index=False \n",
    "#I get the same result with the drop_duplicates as before. Error in Excel drop duplicates? Perhaps test in R..."
   ]
  },
  {
   "cell_type": "code",
   "execution_count": 44,
   "metadata": {
    "collapsed": false
   },
   "outputs": [
    {
     "name": "stdout",
     "output_type": "stream",
     "text": [
      "[*] getting FEC SCHEDULE A results for Goldman Sachs in 2016...page 1 of 37\n",
      "100 [{'contributor_last_name': 'MCMAHON', 'candidate_id': None, 'contribution_receipt_amount': 2600.0, 'pdf_url': 'http://docquery.fec.gov/cgi-bin/fecimg/?15020135026', 'memo_text': None, 'timestamp': '2017-08-29T20:33:34.695796+00:00', 'candidate_office': None, 'link_id': 1071620150017645535, 'line_number': '11AI', 'receipt_type_desc': 'CONTRIBUTION', 'entity_type_desc': 'INDIVIDUAL', 'fec_election_year': None, 'cycle': 2016, 'filing_form': 'F3', 'contributor': None, 'contributor_id': None, 'candidate_first_name': None, 'receipt_type_full': None, 'committee_id': 'C00464297', 'conduit_committee_street1': None, 'contributor_prefix': None, 'candidate_middle_name': None, 'contributor_occupation': 'PARTNER', 'committee_name': None, 'contributor_state': 'CT', 'two_year_transaction_period': 2016, 'receipt_type': '15', 'contributor_first_name': 'JOHN', 'election_type': 'P', 'election_type_full': 'PRIMARY', 'original_sub_id': '2050620151243655162', 'line_number_label': 'Contributions From Individuals/Persons Other Than Political Committees', 'amendment_indicator_desc': 'NO CHANGE', 'candidate_last_name': None, 'contributor_city': 'GREENWICH', 'increased_limit': None, 'committee': {'designation': 'P', 'committee_type_full': 'Senate', 'street_2': None, 'state_full': 'New Hampshire', 'zip': '031050937', 'party': None, 'designation_full': 'Principal campaign committee', 'party_full': None, 'organization_type': None, 'candidate_ids': ['S0NH00235'], 'state': 'NH', 'city': 'MANCHESTER', 'street_1': 'PO BOX 937', 'cycle': 2016, 'cycles': [2016, 2014, 2012, 2018, 2010], 'treasurer_name': 'THEODORE V KOCH', 'committee_type': 'S', 'name': 'FRIENDS OF KELLY AYOTTE INC', 'organization_type_full': None, 'committee_id': 'C00464297'}, 'contributor_suffix': None, 'candidate_office_district': None, 'image_number': '15020135026', 'report_year': 2015, 'conduit_committee_id': None, 'schedule_type_full': 'ITEMIZED RECEIPTS', 'conduit_committee_name': None, 'file_number': 1006803, 'report_type': 'Q1', 'contributor_zip': '068314456', 'contribution_receipt_date': '2015-01-09T00:00:00', 'memo_code_full': None, 'fec_election_type_desc': 'PRIMARY', 'conduit_committee_state': None, 'back_reference_schedule_name': None, 'conduit_committee_street2': None, 'conduit_committee_zip': None, 'contributor_middle_name': None, 'candidate_prefix': None, 'donor_committee_name': None, 'load_date': '2017-08-29T20:33:34.695796+00:00', 'memoed_subtotal': False, 'candidate_name': None, 'contributor_street_1': '6 STILLMAN LANE', 'contributor_employer': 'GOLDMAN SACHS', 'national_committee_nonfederal_account': None, 'amendment_indicator': 'N', 'schedule_type': 'SA', 'candidate_office_state_full': None, 'candidate_suffix': None, 'contributor_name': 'MCMAHON, JOHN', 'contributor_street_2': None, 'sub_id': '1071620150017646091', 'candidate_office_state': None, 'entity_type': 'IND', 'transaction_id': None, 'candidate_office_full': None, 'unused_contbr_id': None, 'conduit_committee_city': None, 'memo_code': None, 'back_reference_transaction_id': None, 'contributor_aggregate_ytd': 2600.0, 'is_individual': True}, {'contributor_last_name': 'PARRIS', 'candidate_id': None, 'contribution_receipt_amount': 2.5, 'pdf_url': 'http://docquery.fec.gov/cgi-bin/fecimg/?201509149001709781', 'memo_text': 'CONTRIBUTION TO ACTBLUE', 'timestamp': '2017-08-29T20:33:34.695796+00:00', 'candidate_office': None, 'link_id': 4091420151251922915, 'line_number': '11AI', 'receipt_type_desc': None, 'entity_type_desc': 'INDIVIDUAL', 'fec_election_year': None, 'cycle': 2016, 'filing_form': 'F3X', 'contributor': None, 'contributor_id': None, 'candidate_first_name': None, 'receipt_type_full': 'CONTRIBUTION TO ACT BLUE', 'committee_id': 'C00401224', 'conduit_committee_street1': None, 'contributor_prefix': None, 'candidate_middle_name': None, 'contributor_occupation': 'ADMIN ASST', 'committee_name': None, 'contributor_state': 'NY', 'two_year_transaction_period': 2016, 'receipt_type': None, 'contributor_first_name': 'RENEE', 'election_type': None, 'election_type_full': None, 'original_sub_id': None, 'line_number_label': 'Contributions From Individuals/Persons Other Than Political Committees', 'amendment_indicator_desc': 'NO CHANGE', 'candidate_last_name': None, 'contributor_city': 'NEW YORK', 'increased_limit': None, 'committee': {'designation': 'U', 'committee_type_full': 'PAC with Non-Contribution Account - Qualified', 'street_2': None, 'state_full': 'Massachusetts', 'zip': '02144', 'party': None, 'designation_full': 'Unauthorized', 'party_full': None, 'organization_type': None, 'candidate_ids': [], 'state': 'MA', 'city': 'SOMERVILLE', 'street_1': 'P.O. BOX 441146', 'cycle': 2016, 'cycles': [2014, 2018, 2004, 2012, 2016, 2006, 2010, 2008], 'treasurer_name': 'HILL, ERIN', 'committee_type': 'W', 'name': 'ACTBLUE', 'organization_type_full': None, 'committee_id': 'C00401224'}, 'contributor_suffix': None, 'candidate_office_district': None, 'image_number': '201509149001709781', 'report_year': 2015, 'conduit_committee_id': None, 'schedule_type_full': 'ITEMIZED RECEIPTS', 'conduit_committee_name': None, 'file_number': 1024608, 'report_type': 'M2', 'contributor_zip': '10037', 'contribution_receipt_date': '2015-01-11T00:00:00', 'memo_code_full': None, 'fec_election_type_desc': None, 'conduit_committee_state': None, 'back_reference_schedule_name': None, 'conduit_committee_street2': None, 'conduit_committee_zip': None, 'contributor_middle_name': None, 'candidate_prefix': None, 'donor_committee_name': None, 'load_date': '2017-08-29T20:33:34.695796+00:00', 'memoed_subtotal': False, 'candidate_name': None, 'contributor_street_1': '2186 FIFTH AVE, APT 9F', 'contributor_employer': 'GOLDMAN SACHS', 'national_committee_nonfederal_account': None, 'amendment_indicator': 'N', 'schedule_type': 'SA', 'candidate_office_state_full': None, 'candidate_suffix': None, 'contributor_name': 'PARRIS, RENEE', 'contributor_street_2': None, 'sub_id': '4091620151252144500', 'candidate_office_state': None, 'entity_type': 'IND', 'transaction_id': 'SA11AI_24892308', 'candidate_office_full': None, 'unused_contbr_id': None, 'conduit_committee_city': None, 'memo_code': None, 'back_reference_transaction_id': None, 'contributor_aggregate_ytd': 15.0, 'is_individual': True}, {'contributor_last_name': 'PARRIS', 'candidate_id': None, 'contribution_receipt_amount': 25.0, 'pdf_url': 'http://docquery.fec.gov/cgi-bin/fecimg/?201509149001709782', 'memo_text': 'EARMARKED FOR DEMOCRATIC CONGRESSIONAL CAMPAIGN COMMITTEE (C00000935)', 'timestamp': '2017-08-29T20:33:34.695796+00:00', 'candidate_office': None, 'link_id': 4091420151251922915, 'line_number': '11AI', 'receipt_type_desc': None, 'entity_type_desc': 'INDIVIDUAL', 'fec_election_year': None, 'cycle': 2016, 'filing_form': 'F3X', 'contributor': None, 'contributor_id': None, 'candidate_first_name': None, 'receipt_type_full': 'EARMARK', 'committee_id': 'C00401224', 'conduit_committee_street1': None, 'contributor_prefix': None, 'candidate_middle_name': None, 'contributor_occupation': 'ADMIN ASST', 'committee_name': None, 'contributor_state': 'NY', 'two_year_transaction_period': 2016, 'receipt_type': None, 'contributor_first_name': 'RENEE', 'election_type': None, 'election_type_full': None, 'original_sub_id': None, 'line_number_label': 'Contributions From Individuals/Persons Other Than Political Committees', 'amendment_indicator_desc': 'NO CHANGE', 'candidate_last_name': None, 'contributor_city': 'NEW YORK', 'increased_limit': None, 'committee': {'designation': 'U', 'committee_type_full': 'PAC with Non-Contribution Account - Qualified', 'street_2': None, 'state_full': 'Massachusetts', 'zip': '02144', 'party': None, 'designation_full': 'Unauthorized', 'party_full': None, 'organization_type': None, 'candidate_ids': [], 'state': 'MA', 'city': 'SOMERVILLE', 'street_1': 'P.O. BOX 441146', 'cycle': 2016, 'cycles': [2014, 2018, 2004, 2012, 2016, 2006, 2010, 2008], 'treasurer_name': 'HILL, ERIN', 'committee_type': 'W', 'name': 'ACTBLUE', 'organization_type_full': None, 'committee_id': 'C00401224'}, 'contributor_suffix': None, 'candidate_office_district': None, 'image_number': '201509149001709782', 'report_year': 2015, 'conduit_committee_id': None, 'schedule_type_full': 'ITEMIZED RECEIPTS', 'conduit_committee_name': None, 'file_number': 1024608, 'report_type': 'M2', 'contributor_zip': '10037', 'contribution_receipt_date': '2015-01-11T00:00:00', 'memo_code_full': None, 'fec_election_type_desc': None, 'conduit_committee_state': None, 'back_reference_schedule_name': None, 'conduit_committee_street2': None, 'conduit_committee_zip': None, 'contributor_middle_name': None, 'candidate_prefix': None, 'donor_committee_name': None, 'load_date': '2017-08-29T20:33:34.695796+00:00', 'memoed_subtotal': False, 'candidate_name': None, 'contributor_street_1': '2186 FIFTH AVE, APT 9F', 'contributor_employer': 'GOLDMAN SACHS', 'national_committee_nonfederal_account': None, 'amendment_indicator': 'N', 'schedule_type': 'SA', 'candidate_office_state_full': None, 'candidate_suffix': None, 'contributor_name': 'PARRIS, RENEE', 'contributor_street_2': None, 'sub_id': '4091620151252144501', 'candidate_office_state': None, 'entity_type': 'IND', 'transaction_id': 'SA11AI_24892307', 'candidate_office_full': None, 'unused_contbr_id': None, 'conduit_committee_city': None, 'memo_code': None, 'back_reference_transaction_id': None, 'contributor_aggregate_ytd': 185.0, 'is_individual': True}, {'contributor_last_name': 'YOUNG', 'candidate_id': None, 'contribution_receipt_amount': 2600.0, 'pdf_url': 'http://docquery.fec.gov/cgi-bin/fecimg/?15020135210', 'memo_text': None, 'timestamp': '2017-08-29T20:33:34.695796+00:00', 'candidate_office': None, 'link_id': 1071620150017645535, 'line_number': '11AI', 'receipt_type_desc': 'CONTRIBUTION', 'entity_type_desc': 'INDIVIDUAL', 'fec_election_year': None, 'cycle': 2016, 'filing_form': 'F3', 'contributor': None, 'contributor_id': None, 'candidate_first_name': None, 'receipt_type_full': None, 'committee_id': 'C00464297', 'conduit_committee_street1': None, 'contributor_prefix': None, 'candidate_middle_name': None, 'contributor_occupation': 'BANKER', 'committee_name': None, 'contributor_state': 'NY', 'two_year_transaction_period': 2016, 'receipt_type': '15', 'contributor_first_name': 'PAUL', 'election_type': 'P', 'election_type_full': 'PRIMARY', 'original_sub_id': '2050620151243655713', 'line_number_label': 'Contributions From Individuals/Persons Other Than Political Committees', 'amendment_indicator_desc': 'NO CHANGE', 'candidate_last_name': None, 'contributor_city': 'NEW YORK', 'increased_limit': None, 'committee': {'designation': 'P', 'committee_type_full': 'Senate', 'street_2': None, 'state_full': 'New Hampshire', 'zip': '031050937', 'party': None, 'designation_full': 'Principal campaign committee', 'party_full': None, 'organization_type': None, 'candidate_ids': ['S0NH00235'], 'state': 'NH', 'city': 'MANCHESTER', 'street_1': 'PO BOX 937', 'cycle': 2016, 'cycles': [2016, 2014, 2012, 2018, 2010], 'treasurer_name': 'THEODORE V KOCH', 'committee_type': 'S', 'name': 'FRIENDS OF KELLY AYOTTE INC', 'organization_type_full': None, 'committee_id': 'C00464297'}, 'contributor_suffix': None, 'candidate_office_district': None, 'image_number': '15020135210', 'report_year': 2015, 'conduit_committee_id': None, 'schedule_type_full': 'ITEMIZED RECEIPTS', 'conduit_committee_name': None, 'file_number': 1006803, 'report_type': 'Q1', 'contributor_zip': '102822102', 'contribution_receipt_date': '2015-01-12T00:00:00', 'memo_code_full': None, 'fec_election_type_desc': 'PRIMARY', 'conduit_committee_state': None, 'back_reference_schedule_name': None, 'conduit_committee_street2': None, 'conduit_committee_zip': None, 'contributor_middle_name': None, 'candidate_prefix': None, 'donor_committee_name': None, 'load_date': '2017-08-29T20:33:34.695796+00:00', 'memoed_subtotal': False, 'candidate_name': None, 'contributor_street_1': '200 WEST STREET', 'contributor_employer': 'GOLDMAN SACHS', 'national_committee_nonfederal_account': None, 'amendment_indicator': 'N', 'schedule_type': 'SA', 'candidate_office_state_full': None, 'candidate_suffix': None, 'contributor_name': 'YOUNG, PAUL', 'contributor_street_2': None, 'sub_id': '1071620150017646026', 'candidate_office_state': None, 'entity_type': 'IND', 'transaction_id': None, 'candidate_office_full': None, 'unused_contbr_id': None, 'conduit_committee_city': None, 'memo_code': None, 'back_reference_transaction_id': None, 'contributor_aggregate_ytd': 2600.0, 'is_individual': True}, {'contributor_last_name': 'BRODERICK', 'candidate_id': None, 'contribution_receipt_amount': 2500.0, 'pdf_url': 'http://docquery.fec.gov/cgi-bin/fecimg/?201507319000513615', 'memo_text': None, 'timestamp': '2017-08-29T20:33:34.695796+00:00', 'candidate_office': None, 'link_id': 4073120151248079606, 'line_number': '11AI', 'receipt_type_desc': 'CONTRIBUTION', 'entity_type_desc': 'INDIVIDUAL', 'fec_election_year': None, 'cycle': 2016, 'filing_form': 'F3X', 'contributor': None, 'contributor_id': None, 'candidate_first_name': None, 'receipt_type_full': 'CONTRIBUTION', 'committee_id': 'C00571380', 'conduit_committee_street1': None, 'contributor_prefix': 'MR.', 'candidate_middle_name': None, 'contributor_occupation': 'BANKER', 'committee_name': None, 'contributor_state': 'CT', 'two_year_transaction_period': 2016, 'receipt_type': '15', 'contributor_first_name': 'CRAIG', 'election_type': 'P', 'election_type_full': None, 'original_sub_id': None, 'line_number_label': 'Contributions From Individuals/Persons Other Than Political Committees', 'amendment_indicator_desc': 'NO CHANGE', 'candidate_last_name': None, 'contributor_city': 'GREENWICH', 'increased_limit': None, 'committee': {'designation': 'U', 'committee_type_full': 'PAC - Qualified', 'street_2': None, 'state_full': 'North Carolina', 'zip': '28110', 'party': None, 'designation_full': 'Unauthorized', 'party_full': None, 'organization_type': None, 'candidate_ids': [], 'state': 'NC', 'city': 'MONROE', 'street_1': '6334 PUMPERNICKEL LANE', 'cycle': 2016, 'cycles': [2018, 2016], 'treasurer_name': 'SIMON, WILLIAM', 'committee_type': 'Q', 'name': 'RIGHT TO RISE PAC, INC.', 'organization_type_full': None, 'committee_id': 'C00571380'}, 'contributor_suffix': None, 'candidate_office_district': None, 'image_number': '201507319000513615', 'report_year': 2015, 'conduit_committee_id': None, 'schedule_type_full': 'ITEMIZED RECEIPTS', 'conduit_committee_name': None, 'file_number': 1019891, 'report_type': 'MY', 'contributor_zip': '068303510', 'contribution_receipt_date': '2015-01-14T00:00:00', 'memo_code_full': None, 'fec_election_type_desc': 'PRIMARY', 'conduit_committee_state': None, 'back_reference_schedule_name': None, 'conduit_committee_street2': None, 'conduit_committee_zip': None, 'contributor_middle_name': 'W.', 'candidate_prefix': None, 'donor_committee_name': None, 'load_date': '2017-08-29T20:33:34.695796+00:00', 'memoed_subtotal': False, 'candidate_name': None, 'contributor_street_1': '5 PERKINS ROAD', 'contributor_employer': 'GOLDMAN SACHS', 'national_committee_nonfederal_account': None, 'amendment_indicator': 'N', 'schedule_type': 'SA', 'candidate_office_state_full': None, 'candidate_suffix': None, 'contributor_name': 'BRODERICK, CRAIG W. MR.', 'contributor_street_2': None, 'sub_id': '4080320151248187793', 'candidate_office_state': None, 'entity_type': 'IND', 'transaction_id': 'SA11.27896', 'candidate_office_full': None, 'unused_contbr_id': None, 'conduit_committee_city': None, 'memo_code': None, 'back_reference_transaction_id': None, 'contributor_aggregate_ytd': 5000.0, 'is_individual': True}]\n",
      "[*] getting FEC SCHEDULE A results for Goldman Sachs in 2016...page 2 of 37\n",
      "100 [{'contributor_last_name': 'MCMAHON', 'candidate_office': None, 'pdf_url': 'http://docquery.fec.gov/cgi-bin/fecimg/?15020135026', 'memo_text': None, 'timestamp': '2017-08-29T20:33:34.695796+00:00', 'schedule_type_full': 'ITEMIZED RECEIPTS', 'contributor_street_2': None, 'line_number': '11AI', 'receipt_type_desc': 'CONTRIBUTION', 'receipt_type': '15', 'entity_type_desc': 'INDIVIDUAL', 'fec_election_year': None, 'is_individual': True, 'candidate_middle_name': None, 'candidate_first_name': None, 'contributor_id': None, 'contributor': None, 'receipt_type_full': None, 'committee_id': 'C00464297', 'conduit_committee_street1': None, 'contributor_occupation': 'PARTNER', 'conduit_committee_zip': None, 'contributor_state': 'CT', 'two_year_transaction_period': 2016, 'amendment_indicator': 'N', 'contributor_first_name': 'JOHN', 'election_type': 'P', 'election_type_full': 'PRIMARY', 'original_sub_id': '2050620151243655162', 'amendment_indicator_desc': 'NO CHANGE', 'candidate_id': None, 'candidate_last_name': None, 'contributor_city': 'GREENWICH', 'contribution_receipt_amount': 2600.0, 'committee': {'designation': 'P', 'committee_type_full': 'Senate', 'state_full': 'New Hampshire', 'street_2': None, 'party': None, 'designation_full': 'Principal campaign committee', 'party_full': None, 'organization_type': None, 'candidate_ids': ['S0NH00235'], 'organization_type_full': None, 'state': 'NH', 'zip': '031050937', 'street_1': 'PO BOX 937', 'committee_type': 'S', 'cycles': [2016, 2014, 2012, 2018, 2010], 'treasurer_name': 'THEODORE V KOCH', 'name': 'FRIENDS OF KELLY AYOTTE INC', 'city': 'MANCHESTER', 'committee_id': 'C00464297', 'cycle': 2016}, 'increased_limit': None, 'contributor_suffix': None, 'candidate_office_district': None, 'report_year': 2015, 'conduit_committee_id': None, 'image_number': '15020135026', 'conduit_committee_name': None, 'unused_contbr_id': None, 'report_type': 'Q1', 'contributor_zip': '068314456', 'contribution_receipt_date': '2015-01-09T00:00:00', 'candidate_name': None, 'fec_election_type_desc': 'PRIMARY', 'filing_form': 'F3', 'conduit_committee_state': None, 'back_reference_schedule_name': None, 'conduit_committee_street2': None, 'link_id': 1071620150017645535, 'committee_name': None, 'contributor_middle_name': None, 'candidate_prefix': None, 'donor_committee_name': None, 'load_date': '2017-08-29T20:33:34.695796+00:00', 'memoed_subtotal': False, 'memo_code_full': None, 'contributor_street_1': '6 STILLMAN LANE', 'contributor_employer': 'GOLDMAN SACHS', 'national_committee_nonfederal_account': None, 'contributor_prefix': None, 'schedule_type': 'SA', 'candidate_office_state_full': None, 'candidate_suffix': None, 'contributor_name': 'MCMAHON, JOHN', 'line_number_label': 'Contributions From Individuals/Persons Other Than Political Committees', 'sub_id': '1071620150017646091', 'candidate_office_state': None, 'entity_type': 'IND', 'transaction_id': None, 'candidate_office_full': None, 'file_number': 1006803, 'conduit_committee_city': None, 'memo_code': None, 'back_reference_transaction_id': None, 'contributor_aggregate_ytd': 2600.0, 'cycle': 2016}, {'contributor_last_name': 'PARRIS', 'candidate_office': None, 'pdf_url': 'http://docquery.fec.gov/cgi-bin/fecimg/?201509149001709781', 'memo_text': 'CONTRIBUTION TO ACTBLUE', 'timestamp': '2017-08-29T20:33:34.695796+00:00', 'schedule_type_full': 'ITEMIZED RECEIPTS', 'contributor_street_2': None, 'line_number': '11AI', 'receipt_type_desc': None, 'receipt_type': None, 'entity_type_desc': 'INDIVIDUAL', 'fec_election_year': None, 'is_individual': True, 'candidate_middle_name': None, 'candidate_first_name': None, 'contributor_id': None, 'contributor': None, 'receipt_type_full': 'CONTRIBUTION TO ACT BLUE', 'committee_id': 'C00401224', 'conduit_committee_street1': None, 'contributor_occupation': 'ADMIN ASST', 'conduit_committee_zip': None, 'contributor_state': 'NY', 'two_year_transaction_period': 2016, 'amendment_indicator': 'N', 'contributor_first_name': 'RENEE', 'election_type': None, 'election_type_full': None, 'original_sub_id': None, 'amendment_indicator_desc': 'NO CHANGE', 'candidate_id': None, 'candidate_last_name': None, 'contributor_city': 'NEW YORK', 'contribution_receipt_amount': 2.5, 'committee': {'designation': 'U', 'committee_type_full': 'PAC with Non-Contribution Account - Qualified', 'state_full': 'Massachusetts', 'street_2': None, 'party': None, 'designation_full': 'Unauthorized', 'party_full': None, 'organization_type': None, 'candidate_ids': [], 'organization_type_full': None, 'state': 'MA', 'zip': '02144', 'street_1': 'P.O. BOX 441146', 'committee_type': 'W', 'cycles': [2014, 2018, 2004, 2012, 2016, 2006, 2010, 2008], 'treasurer_name': 'HILL, ERIN', 'name': 'ACTBLUE', 'city': 'SOMERVILLE', 'committee_id': 'C00401224', 'cycle': 2016}, 'increased_limit': None, 'contributor_suffix': None, 'candidate_office_district': None, 'report_year': 2015, 'conduit_committee_id': None, 'image_number': '201509149001709781', 'conduit_committee_name': None, 'unused_contbr_id': None, 'report_type': 'M2', 'contributor_zip': '10037', 'contribution_receipt_date': '2015-01-11T00:00:00', 'candidate_name': None, 'fec_election_type_desc': None, 'filing_form': 'F3X', 'conduit_committee_state': None, 'back_reference_schedule_name': None, 'conduit_committee_street2': None, 'link_id': 4091420151251922915, 'committee_name': None, 'contributor_middle_name': None, 'candidate_prefix': None, 'donor_committee_name': None, 'load_date': '2017-08-29T20:33:34.695796+00:00', 'memoed_subtotal': False, 'memo_code_full': None, 'contributor_street_1': '2186 FIFTH AVE, APT 9F', 'contributor_employer': 'GOLDMAN SACHS', 'national_committee_nonfederal_account': None, 'contributor_prefix': None, 'schedule_type': 'SA', 'candidate_office_state_full': None, 'candidate_suffix': None, 'contributor_name': 'PARRIS, RENEE', 'line_number_label': 'Contributions From Individuals/Persons Other Than Political Committees', 'sub_id': '4091620151252144500', 'candidate_office_state': None, 'entity_type': 'IND', 'transaction_id': 'SA11AI_24892308', 'candidate_office_full': None, 'file_number': 1024608, 'conduit_committee_city': None, 'memo_code': None, 'back_reference_transaction_id': None, 'contributor_aggregate_ytd': 15.0, 'cycle': 2016}, {'contributor_last_name': 'PARRIS', 'candidate_office': None, 'pdf_url': 'http://docquery.fec.gov/cgi-bin/fecimg/?201509149001709782', 'memo_text': 'EARMARKED FOR DEMOCRATIC CONGRESSIONAL CAMPAIGN COMMITTEE (C00000935)', 'timestamp': '2017-08-29T20:33:34.695796+00:00', 'schedule_type_full': 'ITEMIZED RECEIPTS', 'contributor_street_2': None, 'line_number': '11AI', 'receipt_type_desc': None, 'receipt_type': None, 'entity_type_desc': 'INDIVIDUAL', 'fec_election_year': None, 'is_individual': True, 'candidate_middle_name': None, 'candidate_first_name': None, 'contributor_id': None, 'contributor': None, 'receipt_type_full': 'EARMARK', 'committee_id': 'C00401224', 'conduit_committee_street1': None, 'contributor_occupation': 'ADMIN ASST', 'conduit_committee_zip': None, 'contributor_state': 'NY', 'two_year_transaction_period': 2016, 'amendment_indicator': 'N', 'contributor_first_name': 'RENEE', 'election_type': None, 'election_type_full': None, 'original_sub_id': None, 'amendment_indicator_desc': 'NO CHANGE', 'candidate_id': None, 'candidate_last_name': None, 'contributor_city': 'NEW YORK', 'contribution_receipt_amount': 25.0, 'committee': {'designation': 'U', 'committee_type_full': 'PAC with Non-Contribution Account - Qualified', 'state_full': 'Massachusetts', 'street_2': None, 'party': None, 'designation_full': 'Unauthorized', 'party_full': None, 'organization_type': None, 'candidate_ids': [], 'organization_type_full': None, 'state': 'MA', 'zip': '02144', 'street_1': 'P.O. BOX 441146', 'committee_type': 'W', 'cycles': [2014, 2018, 2004, 2012, 2016, 2006, 2010, 2008], 'treasurer_name': 'HILL, ERIN', 'name': 'ACTBLUE', 'city': 'SOMERVILLE', 'committee_id': 'C00401224', 'cycle': 2016}, 'increased_limit': None, 'contributor_suffix': None, 'candidate_office_district': None, 'report_year': 2015, 'conduit_committee_id': None, 'image_number': '201509149001709782', 'conduit_committee_name': None, 'unused_contbr_id': None, 'report_type': 'M2', 'contributor_zip': '10037', 'contribution_receipt_date': '2015-01-11T00:00:00', 'candidate_name': None, 'fec_election_type_desc': None, 'filing_form': 'F3X', 'conduit_committee_state': None, 'back_reference_schedule_name': None, 'conduit_committee_street2': None, 'link_id': 4091420151251922915, 'committee_name': None, 'contributor_middle_name': None, 'candidate_prefix': None, 'donor_committee_name': None, 'load_date': '2017-08-29T20:33:34.695796+00:00', 'memoed_subtotal': False, 'memo_code_full': None, 'contributor_street_1': '2186 FIFTH AVE, APT 9F', 'contributor_employer': 'GOLDMAN SACHS', 'national_committee_nonfederal_account': None, 'contributor_prefix': None, 'schedule_type': 'SA', 'candidate_office_state_full': None, 'candidate_suffix': None, 'contributor_name': 'PARRIS, RENEE', 'line_number_label': 'Contributions From Individuals/Persons Other Than Political Committees', 'sub_id': '4091620151252144501', 'candidate_office_state': None, 'entity_type': 'IND', 'transaction_id': 'SA11AI_24892307', 'candidate_office_full': None, 'file_number': 1024608, 'conduit_committee_city': None, 'memo_code': None, 'back_reference_transaction_id': None, 'contributor_aggregate_ytd': 185.0, 'cycle': 2016}, {'contributor_last_name': 'YOUNG', 'candidate_office': None, 'pdf_url': 'http://docquery.fec.gov/cgi-bin/fecimg/?15020135210', 'memo_text': None, 'timestamp': '2017-08-29T20:33:34.695796+00:00', 'schedule_type_full': 'ITEMIZED RECEIPTS', 'contributor_street_2': None, 'line_number': '11AI', 'receipt_type_desc': 'CONTRIBUTION', 'receipt_type': '15', 'entity_type_desc': 'INDIVIDUAL', 'fec_election_year': None, 'is_individual': True, 'candidate_middle_name': None, 'candidate_first_name': None, 'contributor_id': None, 'contributor': None, 'receipt_type_full': None, 'committee_id': 'C00464297', 'conduit_committee_street1': None, 'contributor_occupation': 'BANKER', 'conduit_committee_zip': None, 'contributor_state': 'NY', 'two_year_transaction_period': 2016, 'amendment_indicator': 'N', 'contributor_first_name': 'PAUL', 'election_type': 'P', 'election_type_full': 'PRIMARY', 'original_sub_id': '2050620151243655713', 'amendment_indicator_desc': 'NO CHANGE', 'candidate_id': None, 'candidate_last_name': None, 'contributor_city': 'NEW YORK', 'contribution_receipt_amount': 2600.0, 'committee': {'designation': 'P', 'committee_type_full': 'Senate', 'state_full': 'New Hampshire', 'street_2': None, 'party': None, 'designation_full': 'Principal campaign committee', 'party_full': None, 'organization_type': None, 'candidate_ids': ['S0NH00235'], 'organization_type_full': None, 'state': 'NH', 'zip': '031050937', 'street_1': 'PO BOX 937', 'committee_type': 'S', 'cycles': [2016, 2014, 2012, 2018, 2010], 'treasurer_name': 'THEODORE V KOCH', 'name': 'FRIENDS OF KELLY AYOTTE INC', 'city': 'MANCHESTER', 'committee_id': 'C00464297', 'cycle': 2016}, 'increased_limit': None, 'contributor_suffix': None, 'candidate_office_district': None, 'report_year': 2015, 'conduit_committee_id': None, 'image_number': '15020135210', 'conduit_committee_name': None, 'unused_contbr_id': None, 'report_type': 'Q1', 'contributor_zip': '102822102', 'contribution_receipt_date': '2015-01-12T00:00:00', 'candidate_name': None, 'fec_election_type_desc': 'PRIMARY', 'filing_form': 'F3', 'conduit_committee_state': None, 'back_reference_schedule_name': None, 'conduit_committee_street2': None, 'link_id': 1071620150017645535, 'committee_name': None, 'contributor_middle_name': None, 'candidate_prefix': None, 'donor_committee_name': None, 'load_date': '2017-08-29T20:33:34.695796+00:00', 'memoed_subtotal': False, 'memo_code_full': None, 'contributor_street_1': '200 WEST STREET', 'contributor_employer': 'GOLDMAN SACHS', 'national_committee_nonfederal_account': None, 'contributor_prefix': None, 'schedule_type': 'SA', 'candidate_office_state_full': None, 'candidate_suffix': None, 'contributor_name': 'YOUNG, PAUL', 'line_number_label': 'Contributions From Individuals/Persons Other Than Political Committees', 'sub_id': '1071620150017646026', 'candidate_office_state': None, 'entity_type': 'IND', 'transaction_id': None, 'candidate_office_full': None, 'file_number': 1006803, 'conduit_committee_city': None, 'memo_code': None, 'back_reference_transaction_id': None, 'contributor_aggregate_ytd': 2600.0, 'cycle': 2016}, {'contributor_last_name': 'BRODERICK', 'candidate_office': None, 'pdf_url': 'http://docquery.fec.gov/cgi-bin/fecimg/?201507319000513615', 'memo_text': None, 'timestamp': '2017-08-29T20:33:34.695796+00:00', 'schedule_type_full': 'ITEMIZED RECEIPTS', 'contributor_street_2': None, 'line_number': '11AI', 'receipt_type_desc': 'CONTRIBUTION', 'receipt_type': '15', 'entity_type_desc': 'INDIVIDUAL', 'fec_election_year': None, 'is_individual': True, 'candidate_middle_name': None, 'candidate_first_name': None, 'contributor_id': None, 'contributor': None, 'receipt_type_full': 'CONTRIBUTION', 'committee_id': 'C00571380', 'conduit_committee_street1': None, 'contributor_occupation': 'BANKER', 'conduit_committee_zip': None, 'contributor_state': 'CT', 'two_year_transaction_period': 2016, 'amendment_indicator': 'N', 'contributor_first_name': 'CRAIG', 'election_type': 'P', 'election_type_full': None, 'original_sub_id': None, 'amendment_indicator_desc': 'NO CHANGE', 'candidate_id': None, 'candidate_last_name': None, 'contributor_city': 'GREENWICH', 'contribution_receipt_amount': 2500.0, 'committee': {'designation': 'U', 'committee_type_full': 'PAC - Qualified', 'state_full': 'North Carolina', 'street_2': None, 'party': None, 'designation_full': 'Unauthorized', 'party_full': None, 'organization_type': None, 'candidate_ids': [], 'organization_type_full': None, 'state': 'NC', 'zip': '28110', 'street_1': '6334 PUMPERNICKEL LANE', 'committee_type': 'Q', 'cycles': [2018, 2016], 'treasurer_name': 'SIMON, WILLIAM', 'name': 'RIGHT TO RISE PAC, INC.', 'city': 'MONROE', 'committee_id': 'C00571380', 'cycle': 2016}, 'increased_limit': None, 'contributor_suffix': None, 'candidate_office_district': None, 'report_year': 2015, 'conduit_committee_id': None, 'image_number': '201507319000513615', 'conduit_committee_name': None, 'unused_contbr_id': None, 'report_type': 'MY', 'contributor_zip': '068303510', 'contribution_receipt_date': '2015-01-14T00:00:00', 'candidate_name': None, 'fec_election_type_desc': 'PRIMARY', 'filing_form': 'F3X', 'conduit_committee_state': None, 'back_reference_schedule_name': None, 'conduit_committee_street2': None, 'link_id': 4073120151248079606, 'committee_name': None, 'contributor_middle_name': 'W.', 'candidate_prefix': None, 'donor_committee_name': None, 'load_date': '2017-08-29T20:33:34.695796+00:00', 'memoed_subtotal': False, 'memo_code_full': None, 'contributor_street_1': '5 PERKINS ROAD', 'contributor_employer': 'GOLDMAN SACHS', 'national_committee_nonfederal_account': None, 'contributor_prefix': 'MR.', 'schedule_type': 'SA', 'candidate_office_state_full': None, 'candidate_suffix': None, 'contributor_name': 'BRODERICK, CRAIG W. MR.', 'line_number_label': 'Contributions From Individuals/Persons Other Than Political Committees', 'sub_id': '4080320151248187793', 'candidate_office_state': None, 'entity_type': 'IND', 'transaction_id': 'SA11.27896', 'candidate_office_full': None, 'file_number': 1019891, 'conduit_committee_city': None, 'memo_code': None, 'back_reference_transaction_id': None, 'contributor_aggregate_ytd': 5000.0, 'cycle': 2016}]\n",
      "[*] getting FEC SCHEDULE A results for Goldman Sachs in 2016...page 3 of 37\n",
      "100 [{'contributor_last_name': 'MCMAHON', 'candidate_office': None, 'pdf_url': 'http://docquery.fec.gov/cgi-bin/fecimg/?15020135026', 'memo_text': None, 'timestamp': '2017-08-29T20:33:34.695796+00:00', 'schedule_type_full': 'ITEMIZED RECEIPTS', 'contributor_street_2': None, 'line_number': '11AI', 'receipt_type_desc': 'CONTRIBUTION', 'receipt_type': '15', 'entity_type_desc': 'INDIVIDUAL', 'fec_election_year': None, 'is_individual': True, 'candidate_middle_name': None, 'candidate_first_name': None, 'contributor_id': None, 'contributor': None, 'receipt_type_full': None, 'committee_id': 'C00464297', 'conduit_committee_street1': None, 'contributor_occupation': 'PARTNER', 'conduit_committee_zip': None, 'contributor_state': 'CT', 'two_year_transaction_period': 2016, 'amendment_indicator': 'N', 'contributor_first_name': 'JOHN', 'election_type': 'P', 'election_type_full': 'PRIMARY', 'original_sub_id': '2050620151243655162', 'amendment_indicator_desc': 'NO CHANGE', 'candidate_id': None, 'candidate_last_name': None, 'contributor_city': 'GREENWICH', 'contribution_receipt_amount': 2600.0, 'committee': {'designation': 'P', 'committee_type_full': 'Senate', 'state_full': 'New Hampshire', 'street_2': None, 'party': None, 'designation_full': 'Principal campaign committee', 'party_full': None, 'organization_type': None, 'candidate_ids': ['S0NH00235'], 'organization_type_full': None, 'state': 'NH', 'zip': '031050937', 'street_1': 'PO BOX 937', 'committee_type': 'S', 'cycles': [2016, 2014, 2012, 2018, 2010], 'treasurer_name': 'THEODORE V KOCH', 'name': 'FRIENDS OF KELLY AYOTTE INC', 'city': 'MANCHESTER', 'committee_id': 'C00464297', 'cycle': 2016}, 'increased_limit': None, 'contributor_suffix': None, 'candidate_office_district': None, 'report_year': 2015, 'conduit_committee_id': None, 'image_number': '15020135026', 'conduit_committee_name': None, 'unused_contbr_id': None, 'report_type': 'Q1', 'contributor_zip': '068314456', 'contribution_receipt_date': '2015-01-09T00:00:00', 'candidate_name': None, 'fec_election_type_desc': 'PRIMARY', 'filing_form': 'F3', 'conduit_committee_state': None, 'back_reference_schedule_name': None, 'conduit_committee_street2': None, 'link_id': 1071620150017645535, 'committee_name': None, 'contributor_middle_name': None, 'candidate_prefix': None, 'donor_committee_name': None, 'load_date': '2017-08-29T20:33:34.695796+00:00', 'memoed_subtotal': False, 'memo_code_full': None, 'contributor_street_1': '6 STILLMAN LANE', 'contributor_employer': 'GOLDMAN SACHS', 'national_committee_nonfederal_account': None, 'contributor_prefix': None, 'schedule_type': 'SA', 'candidate_office_state_full': None, 'candidate_suffix': None, 'contributor_name': 'MCMAHON, JOHN', 'line_number_label': 'Contributions From Individuals/Persons Other Than Political Committees', 'sub_id': '1071620150017646091', 'candidate_office_state': None, 'entity_type': 'IND', 'transaction_id': None, 'candidate_office_full': None, 'file_number': 1006803, 'conduit_committee_city': None, 'memo_code': None, 'back_reference_transaction_id': None, 'contributor_aggregate_ytd': 2600.0, 'cycle': 2016}, {'contributor_last_name': 'PARRIS', 'candidate_office': None, 'pdf_url': 'http://docquery.fec.gov/cgi-bin/fecimg/?201509149001709781', 'memo_text': 'CONTRIBUTION TO ACTBLUE', 'timestamp': '2017-08-29T20:33:34.695796+00:00', 'schedule_type_full': 'ITEMIZED RECEIPTS', 'contributor_street_2': None, 'line_number': '11AI', 'receipt_type_desc': None, 'receipt_type': None, 'entity_type_desc': 'INDIVIDUAL', 'fec_election_year': None, 'is_individual': True, 'candidate_middle_name': None, 'candidate_first_name': None, 'contributor_id': None, 'contributor': None, 'receipt_type_full': 'CONTRIBUTION TO ACT BLUE', 'committee_id': 'C00401224', 'conduit_committee_street1': None, 'contributor_occupation': 'ADMIN ASST', 'conduit_committee_zip': None, 'contributor_state': 'NY', 'two_year_transaction_period': 2016, 'amendment_indicator': 'N', 'contributor_first_name': 'RENEE', 'election_type': None, 'election_type_full': None, 'original_sub_id': None, 'amendment_indicator_desc': 'NO CHANGE', 'candidate_id': None, 'candidate_last_name': None, 'contributor_city': 'NEW YORK', 'contribution_receipt_amount': 2.5, 'committee': {'designation': 'U', 'committee_type_full': 'PAC with Non-Contribution Account - Qualified', 'state_full': 'Massachusetts', 'street_2': None, 'party': None, 'designation_full': 'Unauthorized', 'party_full': None, 'organization_type': None, 'candidate_ids': [], 'organization_type_full': None, 'state': 'MA', 'zip': '02144', 'street_1': 'P.O. BOX 441146', 'committee_type': 'W', 'cycles': [2014, 2018, 2004, 2012, 2016, 2006, 2010, 2008], 'treasurer_name': 'HILL, ERIN', 'name': 'ACTBLUE', 'city': 'SOMERVILLE', 'committee_id': 'C00401224', 'cycle': 2016}, 'increased_limit': None, 'contributor_suffix': None, 'candidate_office_district': None, 'report_year': 2015, 'conduit_committee_id': None, 'image_number': '201509149001709781', 'conduit_committee_name': None, 'unused_contbr_id': None, 'report_type': 'M2', 'contributor_zip': '10037', 'contribution_receipt_date': '2015-01-11T00:00:00', 'candidate_name': None, 'fec_election_type_desc': None, 'filing_form': 'F3X', 'conduit_committee_state': None, 'back_reference_schedule_name': None, 'conduit_committee_street2': None, 'link_id': 4091420151251922915, 'committee_name': None, 'contributor_middle_name': None, 'candidate_prefix': None, 'donor_committee_name': None, 'load_date': '2017-08-29T20:33:34.695796+00:00', 'memoed_subtotal': False, 'memo_code_full': None, 'contributor_street_1': '2186 FIFTH AVE, APT 9F', 'contributor_employer': 'GOLDMAN SACHS', 'national_committee_nonfederal_account': None, 'contributor_prefix': None, 'schedule_type': 'SA', 'candidate_office_state_full': None, 'candidate_suffix': None, 'contributor_name': 'PARRIS, RENEE', 'line_number_label': 'Contributions From Individuals/Persons Other Than Political Committees', 'sub_id': '4091620151252144500', 'candidate_office_state': None, 'entity_type': 'IND', 'transaction_id': 'SA11AI_24892308', 'candidate_office_full': None, 'file_number': 1024608, 'conduit_committee_city': None, 'memo_code': None, 'back_reference_transaction_id': None, 'contributor_aggregate_ytd': 15.0, 'cycle': 2016}, {'contributor_last_name': 'PARRIS', 'candidate_office': None, 'pdf_url': 'http://docquery.fec.gov/cgi-bin/fecimg/?201509149001709782', 'memo_text': 'EARMARKED FOR DEMOCRATIC CONGRESSIONAL CAMPAIGN COMMITTEE (C00000935)', 'timestamp': '2017-08-29T20:33:34.695796+00:00', 'schedule_type_full': 'ITEMIZED RECEIPTS', 'contributor_street_2': None, 'line_number': '11AI', 'receipt_type_desc': None, 'receipt_type': None, 'entity_type_desc': 'INDIVIDUAL', 'fec_election_year': None, 'is_individual': True, 'candidate_middle_name': None, 'candidate_first_name': None, 'contributor_id': None, 'contributor': None, 'receipt_type_full': 'EARMARK', 'committee_id': 'C00401224', 'conduit_committee_street1': None, 'contributor_occupation': 'ADMIN ASST', 'conduit_committee_zip': None, 'contributor_state': 'NY', 'two_year_transaction_period': 2016, 'amendment_indicator': 'N', 'contributor_first_name': 'RENEE', 'election_type': None, 'election_type_full': None, 'original_sub_id': None, 'amendment_indicator_desc': 'NO CHANGE', 'candidate_id': None, 'candidate_last_name': None, 'contributor_city': 'NEW YORK', 'contribution_receipt_amount': 25.0, 'committee': {'designation': 'U', 'committee_type_full': 'PAC with Non-Contribution Account - Qualified', 'state_full': 'Massachusetts', 'street_2': None, 'party': None, 'designation_full': 'Unauthorized', 'party_full': None, 'organization_type': None, 'candidate_ids': [], 'organization_type_full': None, 'state': 'MA', 'zip': '02144', 'street_1': 'P.O. BOX 441146', 'committee_type': 'W', 'cycles': [2014, 2018, 2004, 2012, 2016, 2006, 2010, 2008], 'treasurer_name': 'HILL, ERIN', 'name': 'ACTBLUE', 'city': 'SOMERVILLE', 'committee_id': 'C00401224', 'cycle': 2016}, 'increased_limit': None, 'contributor_suffix': None, 'candidate_office_district': None, 'report_year': 2015, 'conduit_committee_id': None, 'image_number': '201509149001709782', 'conduit_committee_name': None, 'unused_contbr_id': None, 'report_type': 'M2', 'contributor_zip': '10037', 'contribution_receipt_date': '2015-01-11T00:00:00', 'candidate_name': None, 'fec_election_type_desc': None, 'filing_form': 'F3X', 'conduit_committee_state': None, 'back_reference_schedule_name': None, 'conduit_committee_street2': None, 'link_id': 4091420151251922915, 'committee_name': None, 'contributor_middle_name': None, 'candidate_prefix': None, 'donor_committee_name': None, 'load_date': '2017-08-29T20:33:34.695796+00:00', 'memoed_subtotal': False, 'memo_code_full': None, 'contributor_street_1': '2186 FIFTH AVE, APT 9F', 'contributor_employer': 'GOLDMAN SACHS', 'national_committee_nonfederal_account': None, 'contributor_prefix': None, 'schedule_type': 'SA', 'candidate_office_state_full': None, 'candidate_suffix': None, 'contributor_name': 'PARRIS, RENEE', 'line_number_label': 'Contributions From Individuals/Persons Other Than Political Committees', 'sub_id': '4091620151252144501', 'candidate_office_state': None, 'entity_type': 'IND', 'transaction_id': 'SA11AI_24892307', 'candidate_office_full': None, 'file_number': 1024608, 'conduit_committee_city': None, 'memo_code': None, 'back_reference_transaction_id': None, 'contributor_aggregate_ytd': 185.0, 'cycle': 2016}, {'contributor_last_name': 'YOUNG', 'candidate_office': None, 'pdf_url': 'http://docquery.fec.gov/cgi-bin/fecimg/?15020135210', 'memo_text': None, 'timestamp': '2017-08-29T20:33:34.695796+00:00', 'schedule_type_full': 'ITEMIZED RECEIPTS', 'contributor_street_2': None, 'line_number': '11AI', 'receipt_type_desc': 'CONTRIBUTION', 'receipt_type': '15', 'entity_type_desc': 'INDIVIDUAL', 'fec_election_year': None, 'is_individual': True, 'candidate_middle_name': None, 'candidate_first_name': None, 'contributor_id': None, 'contributor': None, 'receipt_type_full': None, 'committee_id': 'C00464297', 'conduit_committee_street1': None, 'contributor_occupation': 'BANKER', 'conduit_committee_zip': None, 'contributor_state': 'NY', 'two_year_transaction_period': 2016, 'amendment_indicator': 'N', 'contributor_first_name': 'PAUL', 'election_type': 'P', 'election_type_full': 'PRIMARY', 'original_sub_id': '2050620151243655713', 'amendment_indicator_desc': 'NO CHANGE', 'candidate_id': None, 'candidate_last_name': None, 'contributor_city': 'NEW YORK', 'contribution_receipt_amount': 2600.0, 'committee': {'designation': 'P', 'committee_type_full': 'Senate', 'state_full': 'New Hampshire', 'street_2': None, 'party': None, 'designation_full': 'Principal campaign committee', 'party_full': None, 'organization_type': None, 'candidate_ids': ['S0NH00235'], 'organization_type_full': None, 'state': 'NH', 'zip': '031050937', 'street_1': 'PO BOX 937', 'committee_type': 'S', 'cycles': [2016, 2014, 2012, 2018, 2010], 'treasurer_name': 'THEODORE V KOCH', 'name': 'FRIENDS OF KELLY AYOTTE INC', 'city': 'MANCHESTER', 'committee_id': 'C00464297', 'cycle': 2016}, 'increased_limit': None, 'contributor_suffix': None, 'candidate_office_district': None, 'report_year': 2015, 'conduit_committee_id': None, 'image_number': '15020135210', 'conduit_committee_name': None, 'unused_contbr_id': None, 'report_type': 'Q1', 'contributor_zip': '102822102', 'contribution_receipt_date': '2015-01-12T00:00:00', 'candidate_name': None, 'fec_election_type_desc': 'PRIMARY', 'filing_form': 'F3', 'conduit_committee_state': None, 'back_reference_schedule_name': None, 'conduit_committee_street2': None, 'link_id': 1071620150017645535, 'committee_name': None, 'contributor_middle_name': None, 'candidate_prefix': None, 'donor_committee_name': None, 'load_date': '2017-08-29T20:33:34.695796+00:00', 'memoed_subtotal': False, 'memo_code_full': None, 'contributor_street_1': '200 WEST STREET', 'contributor_employer': 'GOLDMAN SACHS', 'national_committee_nonfederal_account': None, 'contributor_prefix': None, 'schedule_type': 'SA', 'candidate_office_state_full': None, 'candidate_suffix': None, 'contributor_name': 'YOUNG, PAUL', 'line_number_label': 'Contributions From Individuals/Persons Other Than Political Committees', 'sub_id': '1071620150017646026', 'candidate_office_state': None, 'entity_type': 'IND', 'transaction_id': None, 'candidate_office_full': None, 'file_number': 1006803, 'conduit_committee_city': None, 'memo_code': None, 'back_reference_transaction_id': None, 'contributor_aggregate_ytd': 2600.0, 'cycle': 2016}, {'contributor_last_name': 'BRODERICK', 'candidate_office': None, 'pdf_url': 'http://docquery.fec.gov/cgi-bin/fecimg/?201507319000513615', 'memo_text': None, 'timestamp': '2017-08-29T20:33:34.695796+00:00', 'schedule_type_full': 'ITEMIZED RECEIPTS', 'contributor_street_2': None, 'line_number': '11AI', 'receipt_type_desc': 'CONTRIBUTION', 'receipt_type': '15', 'entity_type_desc': 'INDIVIDUAL', 'fec_election_year': None, 'is_individual': True, 'candidate_middle_name': None, 'candidate_first_name': None, 'contributor_id': None, 'contributor': None, 'receipt_type_full': 'CONTRIBUTION', 'committee_id': 'C00571380', 'conduit_committee_street1': None, 'contributor_occupation': 'BANKER', 'conduit_committee_zip': None, 'contributor_state': 'CT', 'two_year_transaction_period': 2016, 'amendment_indicator': 'N', 'contributor_first_name': 'CRAIG', 'election_type': 'P', 'election_type_full': None, 'original_sub_id': None, 'amendment_indicator_desc': 'NO CHANGE', 'candidate_id': None, 'candidate_last_name': None, 'contributor_city': 'GREENWICH', 'contribution_receipt_amount': 2500.0, 'committee': {'designation': 'U', 'committee_type_full': 'PAC - Qualified', 'state_full': 'North Carolina', 'street_2': None, 'party': None, 'designation_full': 'Unauthorized', 'party_full': None, 'organization_type': None, 'candidate_ids': [], 'organization_type_full': None, 'state': 'NC', 'zip': '28110', 'street_1': '6334 PUMPERNICKEL LANE', 'committee_type': 'Q', 'cycles': [2018, 2016], 'treasurer_name': 'SIMON, WILLIAM', 'name': 'RIGHT TO RISE PAC, INC.', 'city': 'MONROE', 'committee_id': 'C00571380', 'cycle': 2016}, 'increased_limit': None, 'contributor_suffix': None, 'candidate_office_district': None, 'report_year': 2015, 'conduit_committee_id': None, 'image_number': '201507319000513615', 'conduit_committee_name': None, 'unused_contbr_id': None, 'report_type': 'MY', 'contributor_zip': '068303510', 'contribution_receipt_date': '2015-01-14T00:00:00', 'candidate_name': None, 'fec_election_type_desc': 'PRIMARY', 'filing_form': 'F3X', 'conduit_committee_state': None, 'back_reference_schedule_name': None, 'conduit_committee_street2': None, 'link_id': 4073120151248079606, 'committee_name': None, 'contributor_middle_name': 'W.', 'candidate_prefix': None, 'donor_committee_name': None, 'load_date': '2017-08-29T20:33:34.695796+00:00', 'memoed_subtotal': False, 'memo_code_full': None, 'contributor_street_1': '5 PERKINS ROAD', 'contributor_employer': 'GOLDMAN SACHS', 'national_committee_nonfederal_account': None, 'contributor_prefix': 'MR.', 'schedule_type': 'SA', 'candidate_office_state_full': None, 'candidate_suffix': None, 'contributor_name': 'BRODERICK, CRAIG W. MR.', 'line_number_label': 'Contributions From Individuals/Persons Other Than Political Committees', 'sub_id': '4080320151248187793', 'candidate_office_state': None, 'entity_type': 'IND', 'transaction_id': 'SA11.27896', 'candidate_office_full': None, 'file_number': 1019891, 'conduit_committee_city': None, 'memo_code': None, 'back_reference_transaction_id': None, 'contributor_aggregate_ytd': 5000.0, 'cycle': 2016}]\n",
      "[*] getting FEC SCHEDULE A results for Goldman Sachs in 2016...page 4 of 37\n",
      "100 [{'contributor_last_name': 'MCMAHON', 'candidate_office': None, 'pdf_url': 'http://docquery.fec.gov/cgi-bin/fecimg/?15020135026', 'memo_text': None, 'filing_form': 'F3', 'image_number': '15020135026', 'line_number_label': 'Contributions From Individuals/Persons Other Than Political Committees', 'receipt_type_desc': 'CONTRIBUTION', 'contributor_street_2': None, 'committee_name': None, 'candidate_suffix': None, 'fec_election_year': None, 'is_individual': True, 'candidate_middle_name': None, 'line_number': '11AI', 'contributor_id': None, 'candidate_first_name': None, 'contributor': None, 'receipt_type_full': None, 'committee_id': 'C00464297', 'contributor_suffix': None, 'contributor_occupation': 'PARTNER', 'conduit_committee_zip': None, 'contributor_state': 'CT', 'two_year_transaction_period': 2016, 'receipt_type': '15', 'contributor_first_name': 'JOHN', 'election_type': 'P', 'election_type_full': 'PRIMARY', 'original_sub_id': '2050620151243655162', 'candidate_office_full': None, 'amendment_indicator_desc': 'NO CHANGE', 'candidate_id': None, 'candidate_last_name': None, 'contributor_city': 'GREENWICH', 'contribution_receipt_amount': 2600.0, 'committee': {'designation': 'P', 'state_full': 'New Hampshire', 'committee_type_full': 'Senate', 'street_2': None, 'party': None, 'designation_full': 'Principal campaign committee', 'party_full': None, 'organization_type': None, 'candidate_ids': ['S0NH00235'], 'state': 'NH', 'city': 'MANCHESTER', 'street_1': 'PO BOX 937', 'cycle': 2016, 'zip': '031050937', 'cycles': [2016, 2014, 2012, 2018, 2010], 'treasurer_name': 'THEODORE V KOCH', 'committee_type': 'S', 'name': 'FRIENDS OF KELLY AYOTTE INC', 'organization_type_full': None, 'committee_id': 'C00464297'}, 'increased_limit': None, 'candidate_office_district': None, 'report_year': 2015, 'conduit_committee_id': None, 'schedule_type_full': 'ITEMIZED RECEIPTS', 'conduit_committee_name': None, 'entity_type_desc': 'INDIVIDUAL', 'file_number': 1006803, 'conduit_committee_street1': None, 'report_type': 'Q1', 'contributor_zip': '068314456', 'contribution_receipt_date': '2015-01-09T00:00:00', 'candidate_name': None, 'conduit_committee_state': None, 'back_reference_schedule_name': None, 'conduit_committee_street2': None, 'link_id': 1071620150017645535, 'national_committee_nonfederal_account': None, 'contributor_middle_name': None, 'candidate_prefix': None, 'donor_committee_name': None, 'memoed_subtotal': False, 'memo_code_full': None, 'contributor_street_1': '6 STILLMAN LANE', 'contributor_employer': 'GOLDMAN SACHS', 'load_date': '2017-08-29T20:33:34.695796+00:00', 'contributor_prefix': None, 'schedule_type': 'SA', 'candidate_office_state_full': None, 'contributor_name': 'MCMAHON, JOHN', 'fec_election_type_desc': 'PRIMARY', 'sub_id': '1071620150017646091', 'candidate_office_state': None, 'entity_type': 'IND', 'transaction_id': None, 'amendment_indicator': 'N', 'timestamp': '2017-08-29T20:33:34.695796+00:00', 'unused_contbr_id': None, 'conduit_committee_city': None, 'memo_code': None, 'back_reference_transaction_id': None, 'contributor_aggregate_ytd': 2600.0, 'cycle': 2016}, {'contributor_last_name': 'PARRIS', 'candidate_office': None, 'pdf_url': 'http://docquery.fec.gov/cgi-bin/fecimg/?201509149001709781', 'memo_text': 'CONTRIBUTION TO ACTBLUE', 'filing_form': 'F3X', 'image_number': '201509149001709781', 'line_number_label': 'Contributions From Individuals/Persons Other Than Political Committees', 'receipt_type_desc': None, 'contributor_street_2': None, 'committee_name': None, 'candidate_suffix': None, 'fec_election_year': None, 'is_individual': True, 'candidate_middle_name': None, 'line_number': '11AI', 'contributor_id': None, 'candidate_first_name': None, 'contributor': None, 'receipt_type_full': 'CONTRIBUTION TO ACT BLUE', 'committee_id': 'C00401224', 'contributor_suffix': None, 'contributor_occupation': 'ADMIN ASST', 'conduit_committee_zip': None, 'contributor_state': 'NY', 'two_year_transaction_period': 2016, 'receipt_type': None, 'contributor_first_name': 'RENEE', 'election_type': None, 'election_type_full': None, 'original_sub_id': None, 'candidate_office_full': None, 'amendment_indicator_desc': 'NO CHANGE', 'candidate_id': None, 'candidate_last_name': None, 'contributor_city': 'NEW YORK', 'contribution_receipt_amount': 2.5, 'committee': {'designation': 'U', 'state_full': 'Massachusetts', 'committee_type_full': 'PAC with Non-Contribution Account - Qualified', 'street_2': None, 'party': None, 'designation_full': 'Unauthorized', 'party_full': None, 'organization_type': None, 'candidate_ids': [], 'state': 'MA', 'city': 'SOMERVILLE', 'street_1': 'P.O. BOX 441146', 'cycle': 2016, 'zip': '02144', 'cycles': [2014, 2018, 2004, 2012, 2016, 2006, 2010, 2008], 'treasurer_name': 'HILL, ERIN', 'committee_type': 'W', 'name': 'ACTBLUE', 'organization_type_full': None, 'committee_id': 'C00401224'}, 'increased_limit': None, 'candidate_office_district': None, 'report_year': 2015, 'conduit_committee_id': None, 'schedule_type_full': 'ITEMIZED RECEIPTS', 'conduit_committee_name': None, 'entity_type_desc': 'INDIVIDUAL', 'file_number': 1024608, 'conduit_committee_street1': None, 'report_type': 'M2', 'contributor_zip': '10037', 'contribution_receipt_date': '2015-01-11T00:00:00', 'candidate_name': None, 'conduit_committee_state': None, 'back_reference_schedule_name': None, 'conduit_committee_street2': None, 'link_id': 4091420151251922915, 'national_committee_nonfederal_account': None, 'contributor_middle_name': None, 'candidate_prefix': None, 'donor_committee_name': None, 'memoed_subtotal': False, 'memo_code_full': None, 'contributor_street_1': '2186 FIFTH AVE, APT 9F', 'contributor_employer': 'GOLDMAN SACHS', 'load_date': '2017-08-29T20:33:34.695796+00:00', 'contributor_prefix': None, 'schedule_type': 'SA', 'candidate_office_state_full': None, 'contributor_name': 'PARRIS, RENEE', 'fec_election_type_desc': None, 'sub_id': '4091620151252144500', 'candidate_office_state': None, 'entity_type': 'IND', 'transaction_id': 'SA11AI_24892308', 'amendment_indicator': 'N', 'timestamp': '2017-08-29T20:33:34.695796+00:00', 'unused_contbr_id': None, 'conduit_committee_city': None, 'memo_code': None, 'back_reference_transaction_id': None, 'contributor_aggregate_ytd': 15.0, 'cycle': 2016}, {'contributor_last_name': 'PARRIS', 'candidate_office': None, 'pdf_url': 'http://docquery.fec.gov/cgi-bin/fecimg/?201509149001709782', 'memo_text': 'EARMARKED FOR DEMOCRATIC CONGRESSIONAL CAMPAIGN COMMITTEE (C00000935)', 'filing_form': 'F3X', 'image_number': '201509149001709782', 'line_number_label': 'Contributions From Individuals/Persons Other Than Political Committees', 'receipt_type_desc': None, 'contributor_street_2': None, 'committee_name': None, 'candidate_suffix': None, 'fec_election_year': None, 'is_individual': True, 'candidate_middle_name': None, 'line_number': '11AI', 'contributor_id': None, 'candidate_first_name': None, 'contributor': None, 'receipt_type_full': 'EARMARK', 'committee_id': 'C00401224', 'contributor_suffix': None, 'contributor_occupation': 'ADMIN ASST', 'conduit_committee_zip': None, 'contributor_state': 'NY', 'two_year_transaction_period': 2016, 'receipt_type': None, 'contributor_first_name': 'RENEE', 'election_type': None, 'election_type_full': None, 'original_sub_id': None, 'candidate_office_full': None, 'amendment_indicator_desc': 'NO CHANGE', 'candidate_id': None, 'candidate_last_name': None, 'contributor_city': 'NEW YORK', 'contribution_receipt_amount': 25.0, 'committee': {'designation': 'U', 'state_full': 'Massachusetts', 'committee_type_full': 'PAC with Non-Contribution Account - Qualified', 'street_2': None, 'party': None, 'designation_full': 'Unauthorized', 'party_full': None, 'organization_type': None, 'candidate_ids': [], 'state': 'MA', 'city': 'SOMERVILLE', 'street_1': 'P.O. BOX 441146', 'cycle': 2016, 'zip': '02144', 'cycles': [2014, 2018, 2004, 2012, 2016, 2006, 2010, 2008], 'treasurer_name': 'HILL, ERIN', 'committee_type': 'W', 'name': 'ACTBLUE', 'organization_type_full': None, 'committee_id': 'C00401224'}, 'increased_limit': None, 'candidate_office_district': None, 'report_year': 2015, 'conduit_committee_id': None, 'schedule_type_full': 'ITEMIZED RECEIPTS', 'conduit_committee_name': None, 'entity_type_desc': 'INDIVIDUAL', 'file_number': 1024608, 'conduit_committee_street1': None, 'report_type': 'M2', 'contributor_zip': '10037', 'contribution_receipt_date': '2015-01-11T00:00:00', 'candidate_name': None, 'conduit_committee_state': None, 'back_reference_schedule_name': None, 'conduit_committee_street2': None, 'link_id': 4091420151251922915, 'national_committee_nonfederal_account': None, 'contributor_middle_name': None, 'candidate_prefix': None, 'donor_committee_name': None, 'memoed_subtotal': False, 'memo_code_full': None, 'contributor_street_1': '2186 FIFTH AVE, APT 9F', 'contributor_employer': 'GOLDMAN SACHS', 'load_date': '2017-08-29T20:33:34.695796+00:00', 'contributor_prefix': None, 'schedule_type': 'SA', 'candidate_office_state_full': None, 'contributor_name': 'PARRIS, RENEE', 'fec_election_type_desc': None, 'sub_id': '4091620151252144501', 'candidate_office_state': None, 'entity_type': 'IND', 'transaction_id': 'SA11AI_24892307', 'amendment_indicator': 'N', 'timestamp': '2017-08-29T20:33:34.695796+00:00', 'unused_contbr_id': None, 'conduit_committee_city': None, 'memo_code': None, 'back_reference_transaction_id': None, 'contributor_aggregate_ytd': 185.0, 'cycle': 2016}, {'contributor_last_name': 'YOUNG', 'candidate_office': None, 'pdf_url': 'http://docquery.fec.gov/cgi-bin/fecimg/?15020135210', 'memo_text': None, 'filing_form': 'F3', 'image_number': '15020135210', 'line_number_label': 'Contributions From Individuals/Persons Other Than Political Committees', 'receipt_type_desc': 'CONTRIBUTION', 'contributor_street_2': None, 'committee_name': None, 'candidate_suffix': None, 'fec_election_year': None, 'is_individual': True, 'candidate_middle_name': None, 'line_number': '11AI', 'contributor_id': None, 'candidate_first_name': None, 'contributor': None, 'receipt_type_full': None, 'committee_id': 'C00464297', 'contributor_suffix': None, 'contributor_occupation': 'BANKER', 'conduit_committee_zip': None, 'contributor_state': 'NY', 'two_year_transaction_period': 2016, 'receipt_type': '15', 'contributor_first_name': 'PAUL', 'election_type': 'P', 'election_type_full': 'PRIMARY', 'original_sub_id': '2050620151243655713', 'candidate_office_full': None, 'amendment_indicator_desc': 'NO CHANGE', 'candidate_id': None, 'candidate_last_name': None, 'contributor_city': 'NEW YORK', 'contribution_receipt_amount': 2600.0, 'committee': {'designation': 'P', 'state_full': 'New Hampshire', 'committee_type_full': 'Senate', 'street_2': None, 'party': None, 'designation_full': 'Principal campaign committee', 'party_full': None, 'organization_type': None, 'candidate_ids': ['S0NH00235'], 'state': 'NH', 'city': 'MANCHESTER', 'street_1': 'PO BOX 937', 'cycle': 2016, 'zip': '031050937', 'cycles': [2016, 2014, 2012, 2018, 2010], 'treasurer_name': 'THEODORE V KOCH', 'committee_type': 'S', 'name': 'FRIENDS OF KELLY AYOTTE INC', 'organization_type_full': None, 'committee_id': 'C00464297'}, 'increased_limit': None, 'candidate_office_district': None, 'report_year': 2015, 'conduit_committee_id': None, 'schedule_type_full': 'ITEMIZED RECEIPTS', 'conduit_committee_name': None, 'entity_type_desc': 'INDIVIDUAL', 'file_number': 1006803, 'conduit_committee_street1': None, 'report_type': 'Q1', 'contributor_zip': '102822102', 'contribution_receipt_date': '2015-01-12T00:00:00', 'candidate_name': None, 'conduit_committee_state': None, 'back_reference_schedule_name': None, 'conduit_committee_street2': None, 'link_id': 1071620150017645535, 'national_committee_nonfederal_account': None, 'contributor_middle_name': None, 'candidate_prefix': None, 'donor_committee_name': None, 'memoed_subtotal': False, 'memo_code_full': None, 'contributor_street_1': '200 WEST STREET', 'contributor_employer': 'GOLDMAN SACHS', 'load_date': '2017-08-29T20:33:34.695796+00:00', 'contributor_prefix': None, 'schedule_type': 'SA', 'candidate_office_state_full': None, 'contributor_name': 'YOUNG, PAUL', 'fec_election_type_desc': 'PRIMARY', 'sub_id': '1071620150017646026', 'candidate_office_state': None, 'entity_type': 'IND', 'transaction_id': None, 'amendment_indicator': 'N', 'timestamp': '2017-08-29T20:33:34.695796+00:00', 'unused_contbr_id': None, 'conduit_committee_city': None, 'memo_code': None, 'back_reference_transaction_id': None, 'contributor_aggregate_ytd': 2600.0, 'cycle': 2016}, {'contributor_last_name': 'BRODERICK', 'candidate_office': None, 'pdf_url': 'http://docquery.fec.gov/cgi-bin/fecimg/?201507319000513615', 'memo_text': None, 'filing_form': 'F3X', 'image_number': '201507319000513615', 'line_number_label': 'Contributions From Individuals/Persons Other Than Political Committees', 'receipt_type_desc': 'CONTRIBUTION', 'contributor_street_2': None, 'committee_name': None, 'candidate_suffix': None, 'fec_election_year': None, 'is_individual': True, 'candidate_middle_name': None, 'line_number': '11AI', 'contributor_id': None, 'candidate_first_name': None, 'contributor': None, 'receipt_type_full': 'CONTRIBUTION', 'committee_id': 'C00571380', 'contributor_suffix': None, 'contributor_occupation': 'BANKER', 'conduit_committee_zip': None, 'contributor_state': 'CT', 'two_year_transaction_period': 2016, 'receipt_type': '15', 'contributor_first_name': 'CRAIG', 'election_type': 'P', 'election_type_full': None, 'original_sub_id': None, 'candidate_office_full': None, 'amendment_indicator_desc': 'NO CHANGE', 'candidate_id': None, 'candidate_last_name': None, 'contributor_city': 'GREENWICH', 'contribution_receipt_amount': 2500.0, 'committee': {'designation': 'U', 'state_full': 'North Carolina', 'committee_type_full': 'PAC - Qualified', 'street_2': None, 'party': None, 'designation_full': 'Unauthorized', 'party_full': None, 'organization_type': None, 'candidate_ids': [], 'state': 'NC', 'city': 'MONROE', 'street_1': '6334 PUMPERNICKEL LANE', 'cycle': 2016, 'zip': '28110', 'cycles': [2018, 2016], 'treasurer_name': 'SIMON, WILLIAM', 'committee_type': 'Q', 'name': 'RIGHT TO RISE PAC, INC.', 'organization_type_full': None, 'committee_id': 'C00571380'}, 'increased_limit': None, 'candidate_office_district': None, 'report_year': 2015, 'conduit_committee_id': None, 'schedule_type_full': 'ITEMIZED RECEIPTS', 'conduit_committee_name': None, 'entity_type_desc': 'INDIVIDUAL', 'file_number': 1019891, 'conduit_committee_street1': None, 'report_type': 'MY', 'contributor_zip': '068303510', 'contribution_receipt_date': '2015-01-14T00:00:00', 'candidate_name': None, 'conduit_committee_state': None, 'back_reference_schedule_name': None, 'conduit_committee_street2': None, 'link_id': 4073120151248079606, 'national_committee_nonfederal_account': None, 'contributor_middle_name': 'W.', 'candidate_prefix': None, 'donor_committee_name': None, 'memoed_subtotal': False, 'memo_code_full': None, 'contributor_street_1': '5 PERKINS ROAD', 'contributor_employer': 'GOLDMAN SACHS', 'load_date': '2017-08-29T20:33:34.695796+00:00', 'contributor_prefix': 'MR.', 'schedule_type': 'SA', 'candidate_office_state_full': None, 'contributor_name': 'BRODERICK, CRAIG W. MR.', 'fec_election_type_desc': 'PRIMARY', 'sub_id': '4080320151248187793', 'candidate_office_state': None, 'entity_type': 'IND', 'transaction_id': 'SA11.27896', 'amendment_indicator': 'N', 'timestamp': '2017-08-29T20:33:34.695796+00:00', 'unused_contbr_id': None, 'conduit_committee_city': None, 'memo_code': None, 'back_reference_transaction_id': None, 'contributor_aggregate_ytd': 5000.0, 'cycle': 2016}]\n",
      "[*] getting FEC SCHEDULE A results for Goldman Sachs in 2016...page 5 of 37\n",
      "100 [{'contributor_last_name': 'MCMAHON', 'candidate_office': None, 'pdf_url': 'http://docquery.fec.gov/cgi-bin/fecimg/?15020135026', 'memo_text': None, 'filing_form': 'F3', 'image_number': '15020135026', 'line_number_label': 'Contributions From Individuals/Persons Other Than Political Committees', 'receipt_type_desc': 'CONTRIBUTION', 'contributor_street_2': None, 'committee_name': None, 'candidate_suffix': None, 'fec_election_year': None, 'is_individual': True, 'candidate_middle_name': None, 'line_number': '11AI', 'contributor_id': None, 'candidate_first_name': None, 'contributor': None, 'receipt_type_full': None, 'committee_id': 'C00464297', 'contributor_suffix': None, 'contributor_occupation': 'PARTNER', 'conduit_committee_zip': None, 'contributor_state': 'CT', 'two_year_transaction_period': 2016, 'receipt_type': '15', 'contributor_first_name': 'JOHN', 'election_type': 'P', 'election_type_full': 'PRIMARY', 'original_sub_id': '2050620151243655162', 'candidate_office_full': None, 'amendment_indicator_desc': 'NO CHANGE', 'candidate_id': None, 'candidate_last_name': None, 'contributor_city': 'GREENWICH', 'contribution_receipt_amount': 2600.0, 'committee': {'designation': 'P', 'state_full': 'New Hampshire', 'committee_type_full': 'Senate', 'street_2': None, 'party': None, 'designation_full': 'Principal campaign committee', 'party_full': None, 'organization_type': None, 'candidate_ids': ['S0NH00235'], 'state': 'NH', 'city': 'MANCHESTER', 'street_1': 'PO BOX 937', 'cycle': 2016, 'zip': '031050937', 'cycles': [2016, 2014, 2012, 2018, 2010], 'treasurer_name': 'THEODORE V KOCH', 'committee_type': 'S', 'name': 'FRIENDS OF KELLY AYOTTE INC', 'organization_type_full': None, 'committee_id': 'C00464297'}, 'increased_limit': None, 'candidate_office_district': None, 'report_year': 2015, 'conduit_committee_id': None, 'schedule_type_full': 'ITEMIZED RECEIPTS', 'conduit_committee_name': None, 'entity_type_desc': 'INDIVIDUAL', 'file_number': 1006803, 'conduit_committee_street1': None, 'report_type': 'Q1', 'contributor_zip': '068314456', 'contribution_receipt_date': '2015-01-09T00:00:00', 'candidate_name': None, 'conduit_committee_state': None, 'back_reference_schedule_name': None, 'conduit_committee_street2': None, 'link_id': 1071620150017645535, 'national_committee_nonfederal_account': None, 'contributor_middle_name': None, 'candidate_prefix': None, 'donor_committee_name': None, 'memoed_subtotal': False, 'memo_code_full': None, 'contributor_street_1': '6 STILLMAN LANE', 'contributor_employer': 'GOLDMAN SACHS', 'load_date': '2017-08-29T20:33:34.695796+00:00', 'contributor_prefix': None, 'schedule_type': 'SA', 'candidate_office_state_full': None, 'contributor_name': 'MCMAHON, JOHN', 'fec_election_type_desc': 'PRIMARY', 'sub_id': '1071620150017646091', 'candidate_office_state': None, 'entity_type': 'IND', 'transaction_id': None, 'amendment_indicator': 'N', 'timestamp': '2017-08-29T20:33:34.695796+00:00', 'unused_contbr_id': None, 'conduit_committee_city': None, 'memo_code': None, 'back_reference_transaction_id': None, 'contributor_aggregate_ytd': 2600.0, 'cycle': 2016}, {'contributor_last_name': 'PARRIS', 'candidate_office': None, 'pdf_url': 'http://docquery.fec.gov/cgi-bin/fecimg/?201509149001709781', 'memo_text': 'CONTRIBUTION TO ACTBLUE', 'filing_form': 'F3X', 'image_number': '201509149001709781', 'line_number_label': 'Contributions From Individuals/Persons Other Than Political Committees', 'receipt_type_desc': None, 'contributor_street_2': None, 'committee_name': None, 'candidate_suffix': None, 'fec_election_year': None, 'is_individual': True, 'candidate_middle_name': None, 'line_number': '11AI', 'contributor_id': None, 'candidate_first_name': None, 'contributor': None, 'receipt_type_full': 'CONTRIBUTION TO ACT BLUE', 'committee_id': 'C00401224', 'contributor_suffix': None, 'contributor_occupation': 'ADMIN ASST', 'conduit_committee_zip': None, 'contributor_state': 'NY', 'two_year_transaction_period': 2016, 'receipt_type': None, 'contributor_first_name': 'RENEE', 'election_type': None, 'election_type_full': None, 'original_sub_id': None, 'candidate_office_full': None, 'amendment_indicator_desc': 'NO CHANGE', 'candidate_id': None, 'candidate_last_name': None, 'contributor_city': 'NEW YORK', 'contribution_receipt_amount': 2.5, 'committee': {'designation': 'U', 'state_full': 'Massachusetts', 'committee_type_full': 'PAC with Non-Contribution Account - Qualified', 'street_2': None, 'party': None, 'designation_full': 'Unauthorized', 'party_full': None, 'organization_type': None, 'candidate_ids': [], 'state': 'MA', 'city': 'SOMERVILLE', 'street_1': 'P.O. BOX 441146', 'cycle': 2016, 'zip': '02144', 'cycles': [2014, 2018, 2004, 2012, 2016, 2006, 2010, 2008], 'treasurer_name': 'HILL, ERIN', 'committee_type': 'W', 'name': 'ACTBLUE', 'organization_type_full': None, 'committee_id': 'C00401224'}, 'increased_limit': None, 'candidate_office_district': None, 'report_year': 2015, 'conduit_committee_id': None, 'schedule_type_full': 'ITEMIZED RECEIPTS', 'conduit_committee_name': None, 'entity_type_desc': 'INDIVIDUAL', 'file_number': 1024608, 'conduit_committee_street1': None, 'report_type': 'M2', 'contributor_zip': '10037', 'contribution_receipt_date': '2015-01-11T00:00:00', 'candidate_name': None, 'conduit_committee_state': None, 'back_reference_schedule_name': None, 'conduit_committee_street2': None, 'link_id': 4091420151251922915, 'national_committee_nonfederal_account': None, 'contributor_middle_name': None, 'candidate_prefix': None, 'donor_committee_name': None, 'memoed_subtotal': False, 'memo_code_full': None, 'contributor_street_1': '2186 FIFTH AVE, APT 9F', 'contributor_employer': 'GOLDMAN SACHS', 'load_date': '2017-08-29T20:33:34.695796+00:00', 'contributor_prefix': None, 'schedule_type': 'SA', 'candidate_office_state_full': None, 'contributor_name': 'PARRIS, RENEE', 'fec_election_type_desc': None, 'sub_id': '4091620151252144500', 'candidate_office_state': None, 'entity_type': 'IND', 'transaction_id': 'SA11AI_24892308', 'amendment_indicator': 'N', 'timestamp': '2017-08-29T20:33:34.695796+00:00', 'unused_contbr_id': None, 'conduit_committee_city': None, 'memo_code': None, 'back_reference_transaction_id': None, 'contributor_aggregate_ytd': 15.0, 'cycle': 2016}, {'contributor_last_name': 'PARRIS', 'candidate_office': None, 'pdf_url': 'http://docquery.fec.gov/cgi-bin/fecimg/?201509149001709782', 'memo_text': 'EARMARKED FOR DEMOCRATIC CONGRESSIONAL CAMPAIGN COMMITTEE (C00000935)', 'filing_form': 'F3X', 'image_number': '201509149001709782', 'line_number_label': 'Contributions From Individuals/Persons Other Than Political Committees', 'receipt_type_desc': None, 'contributor_street_2': None, 'committee_name': None, 'candidate_suffix': None, 'fec_election_year': None, 'is_individual': True, 'candidate_middle_name': None, 'line_number': '11AI', 'contributor_id': None, 'candidate_first_name': None, 'contributor': None, 'receipt_type_full': 'EARMARK', 'committee_id': 'C00401224', 'contributor_suffix': None, 'contributor_occupation': 'ADMIN ASST', 'conduit_committee_zip': None, 'contributor_state': 'NY', 'two_year_transaction_period': 2016, 'receipt_type': None, 'contributor_first_name': 'RENEE', 'election_type': None, 'election_type_full': None, 'original_sub_id': None, 'candidate_office_full': None, 'amendment_indicator_desc': 'NO CHANGE', 'candidate_id': None, 'candidate_last_name': None, 'contributor_city': 'NEW YORK', 'contribution_receipt_amount': 25.0, 'committee': {'designation': 'U', 'state_full': 'Massachusetts', 'committee_type_full': 'PAC with Non-Contribution Account - Qualified', 'street_2': None, 'party': None, 'designation_full': 'Unauthorized', 'party_full': None, 'organization_type': None, 'candidate_ids': [], 'state': 'MA', 'city': 'SOMERVILLE', 'street_1': 'P.O. BOX 441146', 'cycle': 2016, 'zip': '02144', 'cycles': [2014, 2018, 2004, 2012, 2016, 2006, 2010, 2008], 'treasurer_name': 'HILL, ERIN', 'committee_type': 'W', 'name': 'ACTBLUE', 'organization_type_full': None, 'committee_id': 'C00401224'}, 'increased_limit': None, 'candidate_office_district': None, 'report_year': 2015, 'conduit_committee_id': None, 'schedule_type_full': 'ITEMIZED RECEIPTS', 'conduit_committee_name': None, 'entity_type_desc': 'INDIVIDUAL', 'file_number': 1024608, 'conduit_committee_street1': None, 'report_type': 'M2', 'contributor_zip': '10037', 'contribution_receipt_date': '2015-01-11T00:00:00', 'candidate_name': None, 'conduit_committee_state': None, 'back_reference_schedule_name': None, 'conduit_committee_street2': None, 'link_id': 4091420151251922915, 'national_committee_nonfederal_account': None, 'contributor_middle_name': None, 'candidate_prefix': None, 'donor_committee_name': None, 'memoed_subtotal': False, 'memo_code_full': None, 'contributor_street_1': '2186 FIFTH AVE, APT 9F', 'contributor_employer': 'GOLDMAN SACHS', 'load_date': '2017-08-29T20:33:34.695796+00:00', 'contributor_prefix': None, 'schedule_type': 'SA', 'candidate_office_state_full': None, 'contributor_name': 'PARRIS, RENEE', 'fec_election_type_desc': None, 'sub_id': '4091620151252144501', 'candidate_office_state': None, 'entity_type': 'IND', 'transaction_id': 'SA11AI_24892307', 'amendment_indicator': 'N', 'timestamp': '2017-08-29T20:33:34.695796+00:00', 'unused_contbr_id': None, 'conduit_committee_city': None, 'memo_code': None, 'back_reference_transaction_id': None, 'contributor_aggregate_ytd': 185.0, 'cycle': 2016}, {'contributor_last_name': 'YOUNG', 'candidate_office': None, 'pdf_url': 'http://docquery.fec.gov/cgi-bin/fecimg/?15020135210', 'memo_text': None, 'filing_form': 'F3', 'image_number': '15020135210', 'line_number_label': 'Contributions From Individuals/Persons Other Than Political Committees', 'receipt_type_desc': 'CONTRIBUTION', 'contributor_street_2': None, 'committee_name': None, 'candidate_suffix': None, 'fec_election_year': None, 'is_individual': True, 'candidate_middle_name': None, 'line_number': '11AI', 'contributor_id': None, 'candidate_first_name': None, 'contributor': None, 'receipt_type_full': None, 'committee_id': 'C00464297', 'contributor_suffix': None, 'contributor_occupation': 'BANKER', 'conduit_committee_zip': None, 'contributor_state': 'NY', 'two_year_transaction_period': 2016, 'receipt_type': '15', 'contributor_first_name': 'PAUL', 'election_type': 'P', 'election_type_full': 'PRIMARY', 'original_sub_id': '2050620151243655713', 'candidate_office_full': None, 'amendment_indicator_desc': 'NO CHANGE', 'candidate_id': None, 'candidate_last_name': None, 'contributor_city': 'NEW YORK', 'contribution_receipt_amount': 2600.0, 'committee': {'designation': 'P', 'state_full': 'New Hampshire', 'committee_type_full': 'Senate', 'street_2': None, 'party': None, 'designation_full': 'Principal campaign committee', 'party_full': None, 'organization_type': None, 'candidate_ids': ['S0NH00235'], 'state': 'NH', 'city': 'MANCHESTER', 'street_1': 'PO BOX 937', 'cycle': 2016, 'zip': '031050937', 'cycles': [2016, 2014, 2012, 2018, 2010], 'treasurer_name': 'THEODORE V KOCH', 'committee_type': 'S', 'name': 'FRIENDS OF KELLY AYOTTE INC', 'organization_type_full': None, 'committee_id': 'C00464297'}, 'increased_limit': None, 'candidate_office_district': None, 'report_year': 2015, 'conduit_committee_id': None, 'schedule_type_full': 'ITEMIZED RECEIPTS', 'conduit_committee_name': None, 'entity_type_desc': 'INDIVIDUAL', 'file_number': 1006803, 'conduit_committee_street1': None, 'report_type': 'Q1', 'contributor_zip': '102822102', 'contribution_receipt_date': '2015-01-12T00:00:00', 'candidate_name': None, 'conduit_committee_state': None, 'back_reference_schedule_name': None, 'conduit_committee_street2': None, 'link_id': 1071620150017645535, 'national_committee_nonfederal_account': None, 'contributor_middle_name': None, 'candidate_prefix': None, 'donor_committee_name': None, 'memoed_subtotal': False, 'memo_code_full': None, 'contributor_street_1': '200 WEST STREET', 'contributor_employer': 'GOLDMAN SACHS', 'load_date': '2017-08-29T20:33:34.695796+00:00', 'contributor_prefix': None, 'schedule_type': 'SA', 'candidate_office_state_full': None, 'contributor_name': 'YOUNG, PAUL', 'fec_election_type_desc': 'PRIMARY', 'sub_id': '1071620150017646026', 'candidate_office_state': None, 'entity_type': 'IND', 'transaction_id': None, 'amendment_indicator': 'N', 'timestamp': '2017-08-29T20:33:34.695796+00:00', 'unused_contbr_id': None, 'conduit_committee_city': None, 'memo_code': None, 'back_reference_transaction_id': None, 'contributor_aggregate_ytd': 2600.0, 'cycle': 2016}, {'contributor_last_name': 'BRODERICK', 'candidate_office': None, 'pdf_url': 'http://docquery.fec.gov/cgi-bin/fecimg/?201507319000513615', 'memo_text': None, 'filing_form': 'F3X', 'image_number': '201507319000513615', 'line_number_label': 'Contributions From Individuals/Persons Other Than Political Committees', 'receipt_type_desc': 'CONTRIBUTION', 'contributor_street_2': None, 'committee_name': None, 'candidate_suffix': None, 'fec_election_year': None, 'is_individual': True, 'candidate_middle_name': None, 'line_number': '11AI', 'contributor_id': None, 'candidate_first_name': None, 'contributor': None, 'receipt_type_full': 'CONTRIBUTION', 'committee_id': 'C00571380', 'contributor_suffix': None, 'contributor_occupation': 'BANKER', 'conduit_committee_zip': None, 'contributor_state': 'CT', 'two_year_transaction_period': 2016, 'receipt_type': '15', 'contributor_first_name': 'CRAIG', 'election_type': 'P', 'election_type_full': None, 'original_sub_id': None, 'candidate_office_full': None, 'amendment_indicator_desc': 'NO CHANGE', 'candidate_id': None, 'candidate_last_name': None, 'contributor_city': 'GREENWICH', 'contribution_receipt_amount': 2500.0, 'committee': {'designation': 'U', 'state_full': 'North Carolina', 'committee_type_full': 'PAC - Qualified', 'street_2': None, 'party': None, 'designation_full': 'Unauthorized', 'party_full': None, 'organization_type': None, 'candidate_ids': [], 'state': 'NC', 'city': 'MONROE', 'street_1': '6334 PUMPERNICKEL LANE', 'cycle': 2016, 'zip': '28110', 'cycles': [2018, 2016], 'treasurer_name': 'SIMON, WILLIAM', 'committee_type': 'Q', 'name': 'RIGHT TO RISE PAC, INC.', 'organization_type_full': None, 'committee_id': 'C00571380'}, 'increased_limit': None, 'candidate_office_district': None, 'report_year': 2015, 'conduit_committee_id': None, 'schedule_type_full': 'ITEMIZED RECEIPTS', 'conduit_committee_name': None, 'entity_type_desc': 'INDIVIDUAL', 'file_number': 1019891, 'conduit_committee_street1': None, 'report_type': 'MY', 'contributor_zip': '068303510', 'contribution_receipt_date': '2015-01-14T00:00:00', 'candidate_name': None, 'conduit_committee_state': None, 'back_reference_schedule_name': None, 'conduit_committee_street2': None, 'link_id': 4073120151248079606, 'national_committee_nonfederal_account': None, 'contributor_middle_name': 'W.', 'candidate_prefix': None, 'donor_committee_name': None, 'memoed_subtotal': False, 'memo_code_full': None, 'contributor_street_1': '5 PERKINS ROAD', 'contributor_employer': 'GOLDMAN SACHS', 'load_date': '2017-08-29T20:33:34.695796+00:00', 'contributor_prefix': 'MR.', 'schedule_type': 'SA', 'candidate_office_state_full': None, 'contributor_name': 'BRODERICK, CRAIG W. MR.', 'fec_election_type_desc': 'PRIMARY', 'sub_id': '4080320151248187793', 'candidate_office_state': None, 'entity_type': 'IND', 'transaction_id': 'SA11.27896', 'amendment_indicator': 'N', 'timestamp': '2017-08-29T20:33:34.695796+00:00', 'unused_contbr_id': None, 'conduit_committee_city': None, 'memo_code': None, 'back_reference_transaction_id': None, 'contributor_aggregate_ytd': 5000.0, 'cycle': 2016}]\n",
      "[*] getting FEC SCHEDULE A results for Goldman Sachs in 2016...page 6 of 37\n",
      "100 [{'contributor_last_name': 'MCMAHON', 'candidate_office': None, 'pdf_url': 'http://docquery.fec.gov/cgi-bin/fecimg/?15020135026', 'memo_text': None, 'filing_form': 'F3', 'image_number': '15020135026', 'line_number_label': 'Contributions From Individuals/Persons Other Than Political Committees', 'receipt_type_desc': 'CONTRIBUTION', 'contributor_street_2': None, 'committee_name': None, 'candidate_suffix': None, 'fec_election_year': None, 'is_individual': True, 'candidate_middle_name': None, 'line_number': '11AI', 'contributor_id': None, 'candidate_first_name': None, 'contributor': None, 'receipt_type_full': None, 'committee_id': 'C00464297', 'contributor_suffix': None, 'contributor_occupation': 'PARTNER', 'conduit_committee_zip': None, 'contributor_state': 'CT', 'two_year_transaction_period': 2016, 'receipt_type': '15', 'contributor_first_name': 'JOHN', 'election_type': 'P', 'election_type_full': 'PRIMARY', 'original_sub_id': '2050620151243655162', 'candidate_office_full': None, 'amendment_indicator_desc': 'NO CHANGE', 'candidate_id': None, 'candidate_last_name': None, 'contributor_city': 'GREENWICH', 'contribution_receipt_amount': 2600.0, 'committee': {'designation': 'P', 'state_full': 'New Hampshire', 'committee_type_full': 'Senate', 'street_2': None, 'party': None, 'designation_full': 'Principal campaign committee', 'party_full': None, 'organization_type': None, 'candidate_ids': ['S0NH00235'], 'state': 'NH', 'city': 'MANCHESTER', 'street_1': 'PO BOX 937', 'cycle': 2016, 'zip': '031050937', 'cycles': [2016, 2014, 2012, 2018, 2010], 'treasurer_name': 'THEODORE V KOCH', 'committee_type': 'S', 'name': 'FRIENDS OF KELLY AYOTTE INC', 'organization_type_full': None, 'committee_id': 'C00464297'}, 'increased_limit': None, 'candidate_office_district': None, 'report_year': 2015, 'conduit_committee_id': None, 'schedule_type_full': 'ITEMIZED RECEIPTS', 'conduit_committee_name': None, 'entity_type_desc': 'INDIVIDUAL', 'file_number': 1006803, 'conduit_committee_street1': None, 'report_type': 'Q1', 'contributor_zip': '068314456', 'contribution_receipt_date': '2015-01-09T00:00:00', 'candidate_name': None, 'conduit_committee_state': None, 'back_reference_schedule_name': None, 'conduit_committee_street2': None, 'link_id': 1071620150017645535, 'national_committee_nonfederal_account': None, 'contributor_middle_name': None, 'candidate_prefix': None, 'donor_committee_name': None, 'memoed_subtotal': False, 'memo_code_full': None, 'contributor_street_1': '6 STILLMAN LANE', 'contributor_employer': 'GOLDMAN SACHS', 'load_date': '2017-08-29T20:33:34.695796+00:00', 'contributor_prefix': None, 'schedule_type': 'SA', 'candidate_office_state_full': None, 'contributor_name': 'MCMAHON, JOHN', 'fec_election_type_desc': 'PRIMARY', 'sub_id': '1071620150017646091', 'candidate_office_state': None, 'entity_type': 'IND', 'transaction_id': None, 'amendment_indicator': 'N', 'timestamp': '2017-08-29T20:33:34.695796+00:00', 'unused_contbr_id': None, 'conduit_committee_city': None, 'memo_code': None, 'back_reference_transaction_id': None, 'contributor_aggregate_ytd': 2600.0, 'cycle': 2016}, {'contributor_last_name': 'PARRIS', 'candidate_office': None, 'pdf_url': 'http://docquery.fec.gov/cgi-bin/fecimg/?201509149001709781', 'memo_text': 'CONTRIBUTION TO ACTBLUE', 'filing_form': 'F3X', 'image_number': '201509149001709781', 'line_number_label': 'Contributions From Individuals/Persons Other Than Political Committees', 'receipt_type_desc': None, 'contributor_street_2': None, 'committee_name': None, 'candidate_suffix': None, 'fec_election_year': None, 'is_individual': True, 'candidate_middle_name': None, 'line_number': '11AI', 'contributor_id': None, 'candidate_first_name': None, 'contributor': None, 'receipt_type_full': 'CONTRIBUTION TO ACT BLUE', 'committee_id': 'C00401224', 'contributor_suffix': None, 'contributor_occupation': 'ADMIN ASST', 'conduit_committee_zip': None, 'contributor_state': 'NY', 'two_year_transaction_period': 2016, 'receipt_type': None, 'contributor_first_name': 'RENEE', 'election_type': None, 'election_type_full': None, 'original_sub_id': None, 'candidate_office_full': None, 'amendment_indicator_desc': 'NO CHANGE', 'candidate_id': None, 'candidate_last_name': None, 'contributor_city': 'NEW YORK', 'contribution_receipt_amount': 2.5, 'committee': {'designation': 'U', 'state_full': 'Massachusetts', 'committee_type_full': 'PAC with Non-Contribution Account - Qualified', 'street_2': None, 'party': None, 'designation_full': 'Unauthorized', 'party_full': None, 'organization_type': None, 'candidate_ids': [], 'state': 'MA', 'city': 'SOMERVILLE', 'street_1': 'P.O. BOX 441146', 'cycle': 2016, 'zip': '02144', 'cycles': [2014, 2018, 2004, 2012, 2016, 2006, 2010, 2008], 'treasurer_name': 'HILL, ERIN', 'committee_type': 'W', 'name': 'ACTBLUE', 'organization_type_full': None, 'committee_id': 'C00401224'}, 'increased_limit': None, 'candidate_office_district': None, 'report_year': 2015, 'conduit_committee_id': None, 'schedule_type_full': 'ITEMIZED RECEIPTS', 'conduit_committee_name': None, 'entity_type_desc': 'INDIVIDUAL', 'file_number': 1024608, 'conduit_committee_street1': None, 'report_type': 'M2', 'contributor_zip': '10037', 'contribution_receipt_date': '2015-01-11T00:00:00', 'candidate_name': None, 'conduit_committee_state': None, 'back_reference_schedule_name': None, 'conduit_committee_street2': None, 'link_id': 4091420151251922915, 'national_committee_nonfederal_account': None, 'contributor_middle_name': None, 'candidate_prefix': None, 'donor_committee_name': None, 'memoed_subtotal': False, 'memo_code_full': None, 'contributor_street_1': '2186 FIFTH AVE, APT 9F', 'contributor_employer': 'GOLDMAN SACHS', 'load_date': '2017-08-29T20:33:34.695796+00:00', 'contributor_prefix': None, 'schedule_type': 'SA', 'candidate_office_state_full': None, 'contributor_name': 'PARRIS, RENEE', 'fec_election_type_desc': None, 'sub_id': '4091620151252144500', 'candidate_office_state': None, 'entity_type': 'IND', 'transaction_id': 'SA11AI_24892308', 'amendment_indicator': 'N', 'timestamp': '2017-08-29T20:33:34.695796+00:00', 'unused_contbr_id': None, 'conduit_committee_city': None, 'memo_code': None, 'back_reference_transaction_id': None, 'contributor_aggregate_ytd': 15.0, 'cycle': 2016}, {'contributor_last_name': 'PARRIS', 'candidate_office': None, 'pdf_url': 'http://docquery.fec.gov/cgi-bin/fecimg/?201509149001709782', 'memo_text': 'EARMARKED FOR DEMOCRATIC CONGRESSIONAL CAMPAIGN COMMITTEE (C00000935)', 'filing_form': 'F3X', 'image_number': '201509149001709782', 'line_number_label': 'Contributions From Individuals/Persons Other Than Political Committees', 'receipt_type_desc': None, 'contributor_street_2': None, 'committee_name': None, 'candidate_suffix': None, 'fec_election_year': None, 'is_individual': True, 'candidate_middle_name': None, 'line_number': '11AI', 'contributor_id': None, 'candidate_first_name': None, 'contributor': None, 'receipt_type_full': 'EARMARK', 'committee_id': 'C00401224', 'contributor_suffix': None, 'contributor_occupation': 'ADMIN ASST', 'conduit_committee_zip': None, 'contributor_state': 'NY', 'two_year_transaction_period': 2016, 'receipt_type': None, 'contributor_first_name': 'RENEE', 'election_type': None, 'election_type_full': None, 'original_sub_id': None, 'candidate_office_full': None, 'amendment_indicator_desc': 'NO CHANGE', 'candidate_id': None, 'candidate_last_name': None, 'contributor_city': 'NEW YORK', 'contribution_receipt_amount': 25.0, 'committee': {'designation': 'U', 'state_full': 'Massachusetts', 'committee_type_full': 'PAC with Non-Contribution Account - Qualified', 'street_2': None, 'party': None, 'designation_full': 'Unauthorized', 'party_full': None, 'organization_type': None, 'candidate_ids': [], 'state': 'MA', 'city': 'SOMERVILLE', 'street_1': 'P.O. BOX 441146', 'cycle': 2016, 'zip': '02144', 'cycles': [2014, 2018, 2004, 2012, 2016, 2006, 2010, 2008], 'treasurer_name': 'HILL, ERIN', 'committee_type': 'W', 'name': 'ACTBLUE', 'organization_type_full': None, 'committee_id': 'C00401224'}, 'increased_limit': None, 'candidate_office_district': None, 'report_year': 2015, 'conduit_committee_id': None, 'schedule_type_full': 'ITEMIZED RECEIPTS', 'conduit_committee_name': None, 'entity_type_desc': 'INDIVIDUAL', 'file_number': 1024608, 'conduit_committee_street1': None, 'report_type': 'M2', 'contributor_zip': '10037', 'contribution_receipt_date': '2015-01-11T00:00:00', 'candidate_name': None, 'conduit_committee_state': None, 'back_reference_schedule_name': None, 'conduit_committee_street2': None, 'link_id': 4091420151251922915, 'national_committee_nonfederal_account': None, 'contributor_middle_name': None, 'candidate_prefix': None, 'donor_committee_name': None, 'memoed_subtotal': False, 'memo_code_full': None, 'contributor_street_1': '2186 FIFTH AVE, APT 9F', 'contributor_employer': 'GOLDMAN SACHS', 'load_date': '2017-08-29T20:33:34.695796+00:00', 'contributor_prefix': None, 'schedule_type': 'SA', 'candidate_office_state_full': None, 'contributor_name': 'PARRIS, RENEE', 'fec_election_type_desc': None, 'sub_id': '4091620151252144501', 'candidate_office_state': None, 'entity_type': 'IND', 'transaction_id': 'SA11AI_24892307', 'amendment_indicator': 'N', 'timestamp': '2017-08-29T20:33:34.695796+00:00', 'unused_contbr_id': None, 'conduit_committee_city': None, 'memo_code': None, 'back_reference_transaction_id': None, 'contributor_aggregate_ytd': 185.0, 'cycle': 2016}, {'contributor_last_name': 'YOUNG', 'candidate_office': None, 'pdf_url': 'http://docquery.fec.gov/cgi-bin/fecimg/?15020135210', 'memo_text': None, 'filing_form': 'F3', 'image_number': '15020135210', 'line_number_label': 'Contributions From Individuals/Persons Other Than Political Committees', 'receipt_type_desc': 'CONTRIBUTION', 'contributor_street_2': None, 'committee_name': None, 'candidate_suffix': None, 'fec_election_year': None, 'is_individual': True, 'candidate_middle_name': None, 'line_number': '11AI', 'contributor_id': None, 'candidate_first_name': None, 'contributor': None, 'receipt_type_full': None, 'committee_id': 'C00464297', 'contributor_suffix': None, 'contributor_occupation': 'BANKER', 'conduit_committee_zip': None, 'contributor_state': 'NY', 'two_year_transaction_period': 2016, 'receipt_type': '15', 'contributor_first_name': 'PAUL', 'election_type': 'P', 'election_type_full': 'PRIMARY', 'original_sub_id': '2050620151243655713', 'candidate_office_full': None, 'amendment_indicator_desc': 'NO CHANGE', 'candidate_id': None, 'candidate_last_name': None, 'contributor_city': 'NEW YORK', 'contribution_receipt_amount': 2600.0, 'committee': {'designation': 'P', 'state_full': 'New Hampshire', 'committee_type_full': 'Senate', 'street_2': None, 'party': None, 'designation_full': 'Principal campaign committee', 'party_full': None, 'organization_type': None, 'candidate_ids': ['S0NH00235'], 'state': 'NH', 'city': 'MANCHESTER', 'street_1': 'PO BOX 937', 'cycle': 2016, 'zip': '031050937', 'cycles': [2016, 2014, 2012, 2018, 2010], 'treasurer_name': 'THEODORE V KOCH', 'committee_type': 'S', 'name': 'FRIENDS OF KELLY AYOTTE INC', 'organization_type_full': None, 'committee_id': 'C00464297'}, 'increased_limit': None, 'candidate_office_district': None, 'report_year': 2015, 'conduit_committee_id': None, 'schedule_type_full': 'ITEMIZED RECEIPTS', 'conduit_committee_name': None, 'entity_type_desc': 'INDIVIDUAL', 'file_number': 1006803, 'conduit_committee_street1': None, 'report_type': 'Q1', 'contributor_zip': '102822102', 'contribution_receipt_date': '2015-01-12T00:00:00', 'candidate_name': None, 'conduit_committee_state': None, 'back_reference_schedule_name': None, 'conduit_committee_street2': None, 'link_id': 1071620150017645535, 'national_committee_nonfederal_account': None, 'contributor_middle_name': None, 'candidate_prefix': None, 'donor_committee_name': None, 'memoed_subtotal': False, 'memo_code_full': None, 'contributor_street_1': '200 WEST STREET', 'contributor_employer': 'GOLDMAN SACHS', 'load_date': '2017-08-29T20:33:34.695796+00:00', 'contributor_prefix': None, 'schedule_type': 'SA', 'candidate_office_state_full': None, 'contributor_name': 'YOUNG, PAUL', 'fec_election_type_desc': 'PRIMARY', 'sub_id': '1071620150017646026', 'candidate_office_state': None, 'entity_type': 'IND', 'transaction_id': None, 'amendment_indicator': 'N', 'timestamp': '2017-08-29T20:33:34.695796+00:00', 'unused_contbr_id': None, 'conduit_committee_city': None, 'memo_code': None, 'back_reference_transaction_id': None, 'contributor_aggregate_ytd': 2600.0, 'cycle': 2016}, {'contributor_last_name': 'BRODERICK', 'candidate_office': None, 'pdf_url': 'http://docquery.fec.gov/cgi-bin/fecimg/?201507319000513615', 'memo_text': None, 'filing_form': 'F3X', 'image_number': '201507319000513615', 'line_number_label': 'Contributions From Individuals/Persons Other Than Political Committees', 'receipt_type_desc': 'CONTRIBUTION', 'contributor_street_2': None, 'committee_name': None, 'candidate_suffix': None, 'fec_election_year': None, 'is_individual': True, 'candidate_middle_name': None, 'line_number': '11AI', 'contributor_id': None, 'candidate_first_name': None, 'contributor': None, 'receipt_type_full': 'CONTRIBUTION', 'committee_id': 'C00571380', 'contributor_suffix': None, 'contributor_occupation': 'BANKER', 'conduit_committee_zip': None, 'contributor_state': 'CT', 'two_year_transaction_period': 2016, 'receipt_type': '15', 'contributor_first_name': 'CRAIG', 'election_type': 'P', 'election_type_full': None, 'original_sub_id': None, 'candidate_office_full': None, 'amendment_indicator_desc': 'NO CHANGE', 'candidate_id': None, 'candidate_last_name': None, 'contributor_city': 'GREENWICH', 'contribution_receipt_amount': 2500.0, 'committee': {'designation': 'U', 'state_full': 'North Carolina', 'committee_type_full': 'PAC - Qualified', 'street_2': None, 'party': None, 'designation_full': 'Unauthorized', 'party_full': None, 'organization_type': None, 'candidate_ids': [], 'state': 'NC', 'city': 'MONROE', 'street_1': '6334 PUMPERNICKEL LANE', 'cycle': 2016, 'zip': '28110', 'cycles': [2018, 2016], 'treasurer_name': 'SIMON, WILLIAM', 'committee_type': 'Q', 'name': 'RIGHT TO RISE PAC, INC.', 'organization_type_full': None, 'committee_id': 'C00571380'}, 'increased_limit': None, 'candidate_office_district': None, 'report_year': 2015, 'conduit_committee_id': None, 'schedule_type_full': 'ITEMIZED RECEIPTS', 'conduit_committee_name': None, 'entity_type_desc': 'INDIVIDUAL', 'file_number': 1019891, 'conduit_committee_street1': None, 'report_type': 'MY', 'contributor_zip': '068303510', 'contribution_receipt_date': '2015-01-14T00:00:00', 'candidate_name': None, 'conduit_committee_state': None, 'back_reference_schedule_name': None, 'conduit_committee_street2': None, 'link_id': 4073120151248079606, 'national_committee_nonfederal_account': None, 'contributor_middle_name': 'W.', 'candidate_prefix': None, 'donor_committee_name': None, 'memoed_subtotal': False, 'memo_code_full': None, 'contributor_street_1': '5 PERKINS ROAD', 'contributor_employer': 'GOLDMAN SACHS', 'load_date': '2017-08-29T20:33:34.695796+00:00', 'contributor_prefix': 'MR.', 'schedule_type': 'SA', 'candidate_office_state_full': None, 'contributor_name': 'BRODERICK, CRAIG W. MR.', 'fec_election_type_desc': 'PRIMARY', 'sub_id': '4080320151248187793', 'candidate_office_state': None, 'entity_type': 'IND', 'transaction_id': 'SA11.27896', 'amendment_indicator': 'N', 'timestamp': '2017-08-29T20:33:34.695796+00:00', 'unused_contbr_id': None, 'conduit_committee_city': None, 'memo_code': None, 'back_reference_transaction_id': None, 'contributor_aggregate_ytd': 5000.0, 'cycle': 2016}]\n",
      "[*] getting FEC SCHEDULE A results for Goldman Sachs in 2016...page 7 of 37\n",
      "100 [{'contributor_last_name': 'MCMAHON', 'candidate_office': None, 'pdf_url': 'http://docquery.fec.gov/cgi-bin/fecimg/?15020135026', 'memo_text': None, 'filing_form': 'F3', 'image_number': '15020135026', 'line_number_label': 'Contributions From Individuals/Persons Other Than Political Committees', 'receipt_type_desc': 'CONTRIBUTION', 'contributor_street_2': None, 'committee_name': None, 'candidate_suffix': None, 'fec_election_year': None, 'is_individual': True, 'candidate_middle_name': None, 'line_number': '11AI', 'contributor_id': None, 'candidate_first_name': None, 'contributor': None, 'receipt_type_full': None, 'committee_id': 'C00464297', 'contributor_suffix': None, 'contributor_occupation': 'PARTNER', 'conduit_committee_zip': None, 'contributor_state': 'CT', 'two_year_transaction_period': 2016, 'receipt_type': '15', 'contributor_first_name': 'JOHN', 'election_type': 'P', 'election_type_full': 'PRIMARY', 'original_sub_id': '2050620151243655162', 'candidate_office_full': None, 'amendment_indicator_desc': 'NO CHANGE', 'candidate_id': None, 'candidate_last_name': None, 'contributor_city': 'GREENWICH', 'contribution_receipt_amount': 2600.0, 'committee': {'designation': 'P', 'state_full': 'New Hampshire', 'committee_type_full': 'Senate', 'street_2': None, 'party': None, 'designation_full': 'Principal campaign committee', 'party_full': None, 'organization_type': None, 'candidate_ids': ['S0NH00235'], 'state': 'NH', 'city': 'MANCHESTER', 'street_1': 'PO BOX 937', 'cycle': 2016, 'zip': '031050937', 'cycles': [2016, 2014, 2012, 2018, 2010], 'treasurer_name': 'THEODORE V KOCH', 'committee_type': 'S', 'name': 'FRIENDS OF KELLY AYOTTE INC', 'organization_type_full': None, 'committee_id': 'C00464297'}, 'increased_limit': None, 'candidate_office_district': None, 'report_year': 2015, 'conduit_committee_id': None, 'schedule_type_full': 'ITEMIZED RECEIPTS', 'conduit_committee_name': None, 'entity_type_desc': 'INDIVIDUAL', 'file_number': 1006803, 'conduit_committee_street1': None, 'report_type': 'Q1', 'contributor_zip': '068314456', 'contribution_receipt_date': '2015-01-09T00:00:00', 'candidate_name': None, 'conduit_committee_state': None, 'back_reference_schedule_name': None, 'conduit_committee_street2': None, 'link_id': 1071620150017645535, 'national_committee_nonfederal_account': None, 'contributor_middle_name': None, 'candidate_prefix': None, 'donor_committee_name': None, 'memoed_subtotal': False, 'memo_code_full': None, 'contributor_street_1': '6 STILLMAN LANE', 'contributor_employer': 'GOLDMAN SACHS', 'load_date': '2017-08-29T20:33:34.695796+00:00', 'contributor_prefix': None, 'schedule_type': 'SA', 'candidate_office_state_full': None, 'contributor_name': 'MCMAHON, JOHN', 'fec_election_type_desc': 'PRIMARY', 'sub_id': '1071620150017646091', 'candidate_office_state': None, 'entity_type': 'IND', 'transaction_id': None, 'amendment_indicator': 'N', 'timestamp': '2017-08-29T20:33:34.695796+00:00', 'unused_contbr_id': None, 'conduit_committee_city': None, 'memo_code': None, 'back_reference_transaction_id': None, 'contributor_aggregate_ytd': 2600.0, 'cycle': 2016}, {'contributor_last_name': 'PARRIS', 'candidate_office': None, 'pdf_url': 'http://docquery.fec.gov/cgi-bin/fecimg/?201509149001709781', 'memo_text': 'CONTRIBUTION TO ACTBLUE', 'filing_form': 'F3X', 'image_number': '201509149001709781', 'line_number_label': 'Contributions From Individuals/Persons Other Than Political Committees', 'receipt_type_desc': None, 'contributor_street_2': None, 'committee_name': None, 'candidate_suffix': None, 'fec_election_year': None, 'is_individual': True, 'candidate_middle_name': None, 'line_number': '11AI', 'contributor_id': None, 'candidate_first_name': None, 'contributor': None, 'receipt_type_full': 'CONTRIBUTION TO ACT BLUE', 'committee_id': 'C00401224', 'contributor_suffix': None, 'contributor_occupation': 'ADMIN ASST', 'conduit_committee_zip': None, 'contributor_state': 'NY', 'two_year_transaction_period': 2016, 'receipt_type': None, 'contributor_first_name': 'RENEE', 'election_type': None, 'election_type_full': None, 'original_sub_id': None, 'candidate_office_full': None, 'amendment_indicator_desc': 'NO CHANGE', 'candidate_id': None, 'candidate_last_name': None, 'contributor_city': 'NEW YORK', 'contribution_receipt_amount': 2.5, 'committee': {'designation': 'U', 'state_full': 'Massachusetts', 'committee_type_full': 'PAC with Non-Contribution Account - Qualified', 'street_2': None, 'party': None, 'designation_full': 'Unauthorized', 'party_full': None, 'organization_type': None, 'candidate_ids': [], 'state': 'MA', 'city': 'SOMERVILLE', 'street_1': 'P.O. BOX 441146', 'cycle': 2016, 'zip': '02144', 'cycles': [2014, 2018, 2004, 2012, 2016, 2006, 2010, 2008], 'treasurer_name': 'HILL, ERIN', 'committee_type': 'W', 'name': 'ACTBLUE', 'organization_type_full': None, 'committee_id': 'C00401224'}, 'increased_limit': None, 'candidate_office_district': None, 'report_year': 2015, 'conduit_committee_id': None, 'schedule_type_full': 'ITEMIZED RECEIPTS', 'conduit_committee_name': None, 'entity_type_desc': 'INDIVIDUAL', 'file_number': 1024608, 'conduit_committee_street1': None, 'report_type': 'M2', 'contributor_zip': '10037', 'contribution_receipt_date': '2015-01-11T00:00:00', 'candidate_name': None, 'conduit_committee_state': None, 'back_reference_schedule_name': None, 'conduit_committee_street2': None, 'link_id': 4091420151251922915, 'national_committee_nonfederal_account': None, 'contributor_middle_name': None, 'candidate_prefix': None, 'donor_committee_name': None, 'memoed_subtotal': False, 'memo_code_full': None, 'contributor_street_1': '2186 FIFTH AVE, APT 9F', 'contributor_employer': 'GOLDMAN SACHS', 'load_date': '2017-08-29T20:33:34.695796+00:00', 'contributor_prefix': None, 'schedule_type': 'SA', 'candidate_office_state_full': None, 'contributor_name': 'PARRIS, RENEE', 'fec_election_type_desc': None, 'sub_id': '4091620151252144500', 'candidate_office_state': None, 'entity_type': 'IND', 'transaction_id': 'SA11AI_24892308', 'amendment_indicator': 'N', 'timestamp': '2017-08-29T20:33:34.695796+00:00', 'unused_contbr_id': None, 'conduit_committee_city': None, 'memo_code': None, 'back_reference_transaction_id': None, 'contributor_aggregate_ytd': 15.0, 'cycle': 2016}, {'contributor_last_name': 'PARRIS', 'candidate_office': None, 'pdf_url': 'http://docquery.fec.gov/cgi-bin/fecimg/?201509149001709782', 'memo_text': 'EARMARKED FOR DEMOCRATIC CONGRESSIONAL CAMPAIGN COMMITTEE (C00000935)', 'filing_form': 'F3X', 'image_number': '201509149001709782', 'line_number_label': 'Contributions From Individuals/Persons Other Than Political Committees', 'receipt_type_desc': None, 'contributor_street_2': None, 'committee_name': None, 'candidate_suffix': None, 'fec_election_year': None, 'is_individual': True, 'candidate_middle_name': None, 'line_number': '11AI', 'contributor_id': None, 'candidate_first_name': None, 'contributor': None, 'receipt_type_full': 'EARMARK', 'committee_id': 'C00401224', 'contributor_suffix': None, 'contributor_occupation': 'ADMIN ASST', 'conduit_committee_zip': None, 'contributor_state': 'NY', 'two_year_transaction_period': 2016, 'receipt_type': None, 'contributor_first_name': 'RENEE', 'election_type': None, 'election_type_full': None, 'original_sub_id': None, 'candidate_office_full': None, 'amendment_indicator_desc': 'NO CHANGE', 'candidate_id': None, 'candidate_last_name': None, 'contributor_city': 'NEW YORK', 'contribution_receipt_amount': 25.0, 'committee': {'designation': 'U', 'state_full': 'Massachusetts', 'committee_type_full': 'PAC with Non-Contribution Account - Qualified', 'street_2': None, 'party': None, 'designation_full': 'Unauthorized', 'party_full': None, 'organization_type': None, 'candidate_ids': [], 'state': 'MA', 'city': 'SOMERVILLE', 'street_1': 'P.O. BOX 441146', 'cycle': 2016, 'zip': '02144', 'cycles': [2014, 2018, 2004, 2012, 2016, 2006, 2010, 2008], 'treasurer_name': 'HILL, ERIN', 'committee_type': 'W', 'name': 'ACTBLUE', 'organization_type_full': None, 'committee_id': 'C00401224'}, 'increased_limit': None, 'candidate_office_district': None, 'report_year': 2015, 'conduit_committee_id': None, 'schedule_type_full': 'ITEMIZED RECEIPTS', 'conduit_committee_name': None, 'entity_type_desc': 'INDIVIDUAL', 'file_number': 1024608, 'conduit_committee_street1': None, 'report_type': 'M2', 'contributor_zip': '10037', 'contribution_receipt_date': '2015-01-11T00:00:00', 'candidate_name': None, 'conduit_committee_state': None, 'back_reference_schedule_name': None, 'conduit_committee_street2': None, 'link_id': 4091420151251922915, 'national_committee_nonfederal_account': None, 'contributor_middle_name': None, 'candidate_prefix': None, 'donor_committee_name': None, 'memoed_subtotal': False, 'memo_code_full': None, 'contributor_street_1': '2186 FIFTH AVE, APT 9F', 'contributor_employer': 'GOLDMAN SACHS', 'load_date': '2017-08-29T20:33:34.695796+00:00', 'contributor_prefix': None, 'schedule_type': 'SA', 'candidate_office_state_full': None, 'contributor_name': 'PARRIS, RENEE', 'fec_election_type_desc': None, 'sub_id': '4091620151252144501', 'candidate_office_state': None, 'entity_type': 'IND', 'transaction_id': 'SA11AI_24892307', 'amendment_indicator': 'N', 'timestamp': '2017-08-29T20:33:34.695796+00:00', 'unused_contbr_id': None, 'conduit_committee_city': None, 'memo_code': None, 'back_reference_transaction_id': None, 'contributor_aggregate_ytd': 185.0, 'cycle': 2016}, {'contributor_last_name': 'YOUNG', 'candidate_office': None, 'pdf_url': 'http://docquery.fec.gov/cgi-bin/fecimg/?15020135210', 'memo_text': None, 'filing_form': 'F3', 'image_number': '15020135210', 'line_number_label': 'Contributions From Individuals/Persons Other Than Political Committees', 'receipt_type_desc': 'CONTRIBUTION', 'contributor_street_2': None, 'committee_name': None, 'candidate_suffix': None, 'fec_election_year': None, 'is_individual': True, 'candidate_middle_name': None, 'line_number': '11AI', 'contributor_id': None, 'candidate_first_name': None, 'contributor': None, 'receipt_type_full': None, 'committee_id': 'C00464297', 'contributor_suffix': None, 'contributor_occupation': 'BANKER', 'conduit_committee_zip': None, 'contributor_state': 'NY', 'two_year_transaction_period': 2016, 'receipt_type': '15', 'contributor_first_name': 'PAUL', 'election_type': 'P', 'election_type_full': 'PRIMARY', 'original_sub_id': '2050620151243655713', 'candidate_office_full': None, 'amendment_indicator_desc': 'NO CHANGE', 'candidate_id': None, 'candidate_last_name': None, 'contributor_city': 'NEW YORK', 'contribution_receipt_amount': 2600.0, 'committee': {'designation': 'P', 'state_full': 'New Hampshire', 'committee_type_full': 'Senate', 'street_2': None, 'party': None, 'designation_full': 'Principal campaign committee', 'party_full': None, 'organization_type': None, 'candidate_ids': ['S0NH00235'], 'state': 'NH', 'city': 'MANCHESTER', 'street_1': 'PO BOX 937', 'cycle': 2016, 'zip': '031050937', 'cycles': [2016, 2014, 2012, 2018, 2010], 'treasurer_name': 'THEODORE V KOCH', 'committee_type': 'S', 'name': 'FRIENDS OF KELLY AYOTTE INC', 'organization_type_full': None, 'committee_id': 'C00464297'}, 'increased_limit': None, 'candidate_office_district': None, 'report_year': 2015, 'conduit_committee_id': None, 'schedule_type_full': 'ITEMIZED RECEIPTS', 'conduit_committee_name': None, 'entity_type_desc': 'INDIVIDUAL', 'file_number': 1006803, 'conduit_committee_street1': None, 'report_type': 'Q1', 'contributor_zip': '102822102', 'contribution_receipt_date': '2015-01-12T00:00:00', 'candidate_name': None, 'conduit_committee_state': None, 'back_reference_schedule_name': None, 'conduit_committee_street2': None, 'link_id': 1071620150017645535, 'national_committee_nonfederal_account': None, 'contributor_middle_name': None, 'candidate_prefix': None, 'donor_committee_name': None, 'memoed_subtotal': False, 'memo_code_full': None, 'contributor_street_1': '200 WEST STREET', 'contributor_employer': 'GOLDMAN SACHS', 'load_date': '2017-08-29T20:33:34.695796+00:00', 'contributor_prefix': None, 'schedule_type': 'SA', 'candidate_office_state_full': None, 'contributor_name': 'YOUNG, PAUL', 'fec_election_type_desc': 'PRIMARY', 'sub_id': '1071620150017646026', 'candidate_office_state': None, 'entity_type': 'IND', 'transaction_id': None, 'amendment_indicator': 'N', 'timestamp': '2017-08-29T20:33:34.695796+00:00', 'unused_contbr_id': None, 'conduit_committee_city': None, 'memo_code': None, 'back_reference_transaction_id': None, 'contributor_aggregate_ytd': 2600.0, 'cycle': 2016}, {'contributor_last_name': 'BRODERICK', 'candidate_office': None, 'pdf_url': 'http://docquery.fec.gov/cgi-bin/fecimg/?201507319000513615', 'memo_text': None, 'filing_form': 'F3X', 'image_number': '201507319000513615', 'line_number_label': 'Contributions From Individuals/Persons Other Than Political Committees', 'receipt_type_desc': 'CONTRIBUTION', 'contributor_street_2': None, 'committee_name': None, 'candidate_suffix': None, 'fec_election_year': None, 'is_individual': True, 'candidate_middle_name': None, 'line_number': '11AI', 'contributor_id': None, 'candidate_first_name': None, 'contributor': None, 'receipt_type_full': 'CONTRIBUTION', 'committee_id': 'C00571380', 'contributor_suffix': None, 'contributor_occupation': 'BANKER', 'conduit_committee_zip': None, 'contributor_state': 'CT', 'two_year_transaction_period': 2016, 'receipt_type': '15', 'contributor_first_name': 'CRAIG', 'election_type': 'P', 'election_type_full': None, 'original_sub_id': None, 'candidate_office_full': None, 'amendment_indicator_desc': 'NO CHANGE', 'candidate_id': None, 'candidate_last_name': None, 'contributor_city': 'GREENWICH', 'contribution_receipt_amount': 2500.0, 'committee': {'designation': 'U', 'state_full': 'North Carolina', 'committee_type_full': 'PAC - Qualified', 'street_2': None, 'party': None, 'designation_full': 'Unauthorized', 'party_full': None, 'organization_type': None, 'candidate_ids': [], 'state': 'NC', 'city': 'MONROE', 'street_1': '6334 PUMPERNICKEL LANE', 'cycle': 2016, 'zip': '28110', 'cycles': [2018, 2016], 'treasurer_name': 'SIMON, WILLIAM', 'committee_type': 'Q', 'name': 'RIGHT TO RISE PAC, INC.', 'organization_type_full': None, 'committee_id': 'C00571380'}, 'increased_limit': None, 'candidate_office_district': None, 'report_year': 2015, 'conduit_committee_id': None, 'schedule_type_full': 'ITEMIZED RECEIPTS', 'conduit_committee_name': None, 'entity_type_desc': 'INDIVIDUAL', 'file_number': 1019891, 'conduit_committee_street1': None, 'report_type': 'MY', 'contributor_zip': '068303510', 'contribution_receipt_date': '2015-01-14T00:00:00', 'candidate_name': None, 'conduit_committee_state': None, 'back_reference_schedule_name': None, 'conduit_committee_street2': None, 'link_id': 4073120151248079606, 'national_committee_nonfederal_account': None, 'contributor_middle_name': 'W.', 'candidate_prefix': None, 'donor_committee_name': None, 'memoed_subtotal': False, 'memo_code_full': None, 'contributor_street_1': '5 PERKINS ROAD', 'contributor_employer': 'GOLDMAN SACHS', 'load_date': '2017-08-29T20:33:34.695796+00:00', 'contributor_prefix': 'MR.', 'schedule_type': 'SA', 'candidate_office_state_full': None, 'contributor_name': 'BRODERICK, CRAIG W. MR.', 'fec_election_type_desc': 'PRIMARY', 'sub_id': '4080320151248187793', 'candidate_office_state': None, 'entity_type': 'IND', 'transaction_id': 'SA11.27896', 'amendment_indicator': 'N', 'timestamp': '2017-08-29T20:33:34.695796+00:00', 'unused_contbr_id': None, 'conduit_committee_city': None, 'memo_code': None, 'back_reference_transaction_id': None, 'contributor_aggregate_ytd': 5000.0, 'cycle': 2016}]\n",
      "[*] getting FEC SCHEDULE A results for Goldman Sachs in 2016...page 8 of 37\n",
      "100 [{'contributor_last_name': 'MCMAHON', 'candidate_office': None, 'pdf_url': 'http://docquery.fec.gov/cgi-bin/fecimg/?15020135026', 'memo_text': None, 'timestamp': '2017-08-29T20:33:34.695796+00:00', 'schedule_type_full': 'ITEMIZED RECEIPTS', 'contributor_street_2': None, 'line_number': '11AI', 'receipt_type_desc': 'CONTRIBUTION', 'receipt_type': '15', 'entity_type_desc': 'INDIVIDUAL', 'fec_election_year': None, 'is_individual': True, 'candidate_middle_name': None, 'candidate_first_name': None, 'contributor_id': None, 'contributor': None, 'receipt_type_full': None, 'committee_id': 'C00464297', 'conduit_committee_street1': None, 'contributor_occupation': 'PARTNER', 'conduit_committee_zip': None, 'contributor_state': 'CT', 'two_year_transaction_period': 2016, 'amendment_indicator': 'N', 'contributor_first_name': 'JOHN', 'election_type': 'P', 'election_type_full': 'PRIMARY', 'original_sub_id': '2050620151243655162', 'amendment_indicator_desc': 'NO CHANGE', 'candidate_id': None, 'candidate_last_name': None, 'contributor_city': 'GREENWICH', 'contribution_receipt_amount': 2600.0, 'committee': {'designation': 'P', 'committee_type_full': 'Senate', 'state_full': 'New Hampshire', 'street_2': None, 'party': None, 'designation_full': 'Principal campaign committee', 'party_full': None, 'organization_type': None, 'candidate_ids': ['S0NH00235'], 'organization_type_full': None, 'state': 'NH', 'zip': '031050937', 'street_1': 'PO BOX 937', 'committee_type': 'S', 'cycles': [2016, 2014, 2012, 2018, 2010], 'treasurer_name': 'THEODORE V KOCH', 'name': 'FRIENDS OF KELLY AYOTTE INC', 'city': 'MANCHESTER', 'committee_id': 'C00464297', 'cycle': 2016}, 'increased_limit': None, 'contributor_suffix': None, 'candidate_office_district': None, 'report_year': 2015, 'conduit_committee_id': None, 'image_number': '15020135026', 'conduit_committee_name': None, 'unused_contbr_id': None, 'report_type': 'Q1', 'contributor_zip': '068314456', 'contribution_receipt_date': '2015-01-09T00:00:00', 'candidate_name': None, 'fec_election_type_desc': 'PRIMARY', 'filing_form': 'F3', 'conduit_committee_state': None, 'back_reference_schedule_name': None, 'conduit_committee_street2': None, 'link_id': 1071620150017645535, 'committee_name': None, 'contributor_middle_name': None, 'candidate_prefix': None, 'donor_committee_name': None, 'load_date': '2017-08-29T20:33:34.695796+00:00', 'memoed_subtotal': False, 'memo_code_full': None, 'contributor_street_1': '6 STILLMAN LANE', 'contributor_employer': 'GOLDMAN SACHS', 'national_committee_nonfederal_account': None, 'contributor_prefix': None, 'schedule_type': 'SA', 'candidate_office_state_full': None, 'candidate_suffix': None, 'contributor_name': 'MCMAHON, JOHN', 'line_number_label': 'Contributions From Individuals/Persons Other Than Political Committees', 'sub_id': '1071620150017646091', 'candidate_office_state': None, 'entity_type': 'IND', 'transaction_id': None, 'candidate_office_full': None, 'file_number': 1006803, 'conduit_committee_city': None, 'memo_code': None, 'back_reference_transaction_id': None, 'contributor_aggregate_ytd': 2600.0, 'cycle': 2016}, {'contributor_last_name': 'PARRIS', 'candidate_office': None, 'pdf_url': 'http://docquery.fec.gov/cgi-bin/fecimg/?201509149001709781', 'memo_text': 'CONTRIBUTION TO ACTBLUE', 'timestamp': '2017-08-29T20:33:34.695796+00:00', 'schedule_type_full': 'ITEMIZED RECEIPTS', 'contributor_street_2': None, 'line_number': '11AI', 'receipt_type_desc': None, 'receipt_type': None, 'entity_type_desc': 'INDIVIDUAL', 'fec_election_year': None, 'is_individual': True, 'candidate_middle_name': None, 'candidate_first_name': None, 'contributor_id': None, 'contributor': None, 'receipt_type_full': 'CONTRIBUTION TO ACT BLUE', 'committee_id': 'C00401224', 'conduit_committee_street1': None, 'contributor_occupation': 'ADMIN ASST', 'conduit_committee_zip': None, 'contributor_state': 'NY', 'two_year_transaction_period': 2016, 'amendment_indicator': 'N', 'contributor_first_name': 'RENEE', 'election_type': None, 'election_type_full': None, 'original_sub_id': None, 'amendment_indicator_desc': 'NO CHANGE', 'candidate_id': None, 'candidate_last_name': None, 'contributor_city': 'NEW YORK', 'contribution_receipt_amount': 2.5, 'committee': {'designation': 'U', 'committee_type_full': 'PAC with Non-Contribution Account - Qualified', 'state_full': 'Massachusetts', 'street_2': None, 'party': None, 'designation_full': 'Unauthorized', 'party_full': None, 'organization_type': None, 'candidate_ids': [], 'organization_type_full': None, 'state': 'MA', 'zip': '02144', 'street_1': 'P.O. BOX 441146', 'committee_type': 'W', 'cycles': [2014, 2018, 2004, 2012, 2016, 2006, 2010, 2008], 'treasurer_name': 'HILL, ERIN', 'name': 'ACTBLUE', 'city': 'SOMERVILLE', 'committee_id': 'C00401224', 'cycle': 2016}, 'increased_limit': None, 'contributor_suffix': None, 'candidate_office_district': None, 'report_year': 2015, 'conduit_committee_id': None, 'image_number': '201509149001709781', 'conduit_committee_name': None, 'unused_contbr_id': None, 'report_type': 'M2', 'contributor_zip': '10037', 'contribution_receipt_date': '2015-01-11T00:00:00', 'candidate_name': None, 'fec_election_type_desc': None, 'filing_form': 'F3X', 'conduit_committee_state': None, 'back_reference_schedule_name': None, 'conduit_committee_street2': None, 'link_id': 4091420151251922915, 'committee_name': None, 'contributor_middle_name': None, 'candidate_prefix': None, 'donor_committee_name': None, 'load_date': '2017-08-29T20:33:34.695796+00:00', 'memoed_subtotal': False, 'memo_code_full': None, 'contributor_street_1': '2186 FIFTH AVE, APT 9F', 'contributor_employer': 'GOLDMAN SACHS', 'national_committee_nonfederal_account': None, 'contributor_prefix': None, 'schedule_type': 'SA', 'candidate_office_state_full': None, 'candidate_suffix': None, 'contributor_name': 'PARRIS, RENEE', 'line_number_label': 'Contributions From Individuals/Persons Other Than Political Committees', 'sub_id': '4091620151252144500', 'candidate_office_state': None, 'entity_type': 'IND', 'transaction_id': 'SA11AI_24892308', 'candidate_office_full': None, 'file_number': 1024608, 'conduit_committee_city': None, 'memo_code': None, 'back_reference_transaction_id': None, 'contributor_aggregate_ytd': 15.0, 'cycle': 2016}, {'contributor_last_name': 'PARRIS', 'candidate_office': None, 'pdf_url': 'http://docquery.fec.gov/cgi-bin/fecimg/?201509149001709782', 'memo_text': 'EARMARKED FOR DEMOCRATIC CONGRESSIONAL CAMPAIGN COMMITTEE (C00000935)', 'timestamp': '2017-08-29T20:33:34.695796+00:00', 'schedule_type_full': 'ITEMIZED RECEIPTS', 'contributor_street_2': None, 'line_number': '11AI', 'receipt_type_desc': None, 'receipt_type': None, 'entity_type_desc': 'INDIVIDUAL', 'fec_election_year': None, 'is_individual': True, 'candidate_middle_name': None, 'candidate_first_name': None, 'contributor_id': None, 'contributor': None, 'receipt_type_full': 'EARMARK', 'committee_id': 'C00401224', 'conduit_committee_street1': None, 'contributor_occupation': 'ADMIN ASST', 'conduit_committee_zip': None, 'contributor_state': 'NY', 'two_year_transaction_period': 2016, 'amendment_indicator': 'N', 'contributor_first_name': 'RENEE', 'election_type': None, 'election_type_full': None, 'original_sub_id': None, 'amendment_indicator_desc': 'NO CHANGE', 'candidate_id': None, 'candidate_last_name': None, 'contributor_city': 'NEW YORK', 'contribution_receipt_amount': 25.0, 'committee': {'designation': 'U', 'committee_type_full': 'PAC with Non-Contribution Account - Qualified', 'state_full': 'Massachusetts', 'street_2': None, 'party': None, 'designation_full': 'Unauthorized', 'party_full': None, 'organization_type': None, 'candidate_ids': [], 'organization_type_full': None, 'state': 'MA', 'zip': '02144', 'street_1': 'P.O. BOX 441146', 'committee_type': 'W', 'cycles': [2014, 2018, 2004, 2012, 2016, 2006, 2010, 2008], 'treasurer_name': 'HILL, ERIN', 'name': 'ACTBLUE', 'city': 'SOMERVILLE', 'committee_id': 'C00401224', 'cycle': 2016}, 'increased_limit': None, 'contributor_suffix': None, 'candidate_office_district': None, 'report_year': 2015, 'conduit_committee_id': None, 'image_number': '201509149001709782', 'conduit_committee_name': None, 'unused_contbr_id': None, 'report_type': 'M2', 'contributor_zip': '10037', 'contribution_receipt_date': '2015-01-11T00:00:00', 'candidate_name': None, 'fec_election_type_desc': None, 'filing_form': 'F3X', 'conduit_committee_state': None, 'back_reference_schedule_name': None, 'conduit_committee_street2': None, 'link_id': 4091420151251922915, 'committee_name': None, 'contributor_middle_name': None, 'candidate_prefix': None, 'donor_committee_name': None, 'load_date': '2017-08-29T20:33:34.695796+00:00', 'memoed_subtotal': False, 'memo_code_full': None, 'contributor_street_1': '2186 FIFTH AVE, APT 9F', 'contributor_employer': 'GOLDMAN SACHS', 'national_committee_nonfederal_account': None, 'contributor_prefix': None, 'schedule_type': 'SA', 'candidate_office_state_full': None, 'candidate_suffix': None, 'contributor_name': 'PARRIS, RENEE', 'line_number_label': 'Contributions From Individuals/Persons Other Than Political Committees', 'sub_id': '4091620151252144501', 'candidate_office_state': None, 'entity_type': 'IND', 'transaction_id': 'SA11AI_24892307', 'candidate_office_full': None, 'file_number': 1024608, 'conduit_committee_city': None, 'memo_code': None, 'back_reference_transaction_id': None, 'contributor_aggregate_ytd': 185.0, 'cycle': 2016}, {'contributor_last_name': 'YOUNG', 'candidate_office': None, 'pdf_url': 'http://docquery.fec.gov/cgi-bin/fecimg/?15020135210', 'memo_text': None, 'timestamp': '2017-08-29T20:33:34.695796+00:00', 'schedule_type_full': 'ITEMIZED RECEIPTS', 'contributor_street_2': None, 'line_number': '11AI', 'receipt_type_desc': 'CONTRIBUTION', 'receipt_type': '15', 'entity_type_desc': 'INDIVIDUAL', 'fec_election_year': None, 'is_individual': True, 'candidate_middle_name': None, 'candidate_first_name': None, 'contributor_id': None, 'contributor': None, 'receipt_type_full': None, 'committee_id': 'C00464297', 'conduit_committee_street1': None, 'contributor_occupation': 'BANKER', 'conduit_committee_zip': None, 'contributor_state': 'NY', 'two_year_transaction_period': 2016, 'amendment_indicator': 'N', 'contributor_first_name': 'PAUL', 'election_type': 'P', 'election_type_full': 'PRIMARY', 'original_sub_id': '2050620151243655713', 'amendment_indicator_desc': 'NO CHANGE', 'candidate_id': None, 'candidate_last_name': None, 'contributor_city': 'NEW YORK', 'contribution_receipt_amount': 2600.0, 'committee': {'designation': 'P', 'committee_type_full': 'Senate', 'state_full': 'New Hampshire', 'street_2': None, 'party': None, 'designation_full': 'Principal campaign committee', 'party_full': None, 'organization_type': None, 'candidate_ids': ['S0NH00235'], 'organization_type_full': None, 'state': 'NH', 'zip': '031050937', 'street_1': 'PO BOX 937', 'committee_type': 'S', 'cycles': [2016, 2014, 2012, 2018, 2010], 'treasurer_name': 'THEODORE V KOCH', 'name': 'FRIENDS OF KELLY AYOTTE INC', 'city': 'MANCHESTER', 'committee_id': 'C00464297', 'cycle': 2016}, 'increased_limit': None, 'contributor_suffix': None, 'candidate_office_district': None, 'report_year': 2015, 'conduit_committee_id': None, 'image_number': '15020135210', 'conduit_committee_name': None, 'unused_contbr_id': None, 'report_type': 'Q1', 'contributor_zip': '102822102', 'contribution_receipt_date': '2015-01-12T00:00:00', 'candidate_name': None, 'fec_election_type_desc': 'PRIMARY', 'filing_form': 'F3', 'conduit_committee_state': None, 'back_reference_schedule_name': None, 'conduit_committee_street2': None, 'link_id': 1071620150017645535, 'committee_name': None, 'contributor_middle_name': None, 'candidate_prefix': None, 'donor_committee_name': None, 'load_date': '2017-08-29T20:33:34.695796+00:00', 'memoed_subtotal': False, 'memo_code_full': None, 'contributor_street_1': '200 WEST STREET', 'contributor_employer': 'GOLDMAN SACHS', 'national_committee_nonfederal_account': None, 'contributor_prefix': None, 'schedule_type': 'SA', 'candidate_office_state_full': None, 'candidate_suffix': None, 'contributor_name': 'YOUNG, PAUL', 'line_number_label': 'Contributions From Individuals/Persons Other Than Political Committees', 'sub_id': '1071620150017646026', 'candidate_office_state': None, 'entity_type': 'IND', 'transaction_id': None, 'candidate_office_full': None, 'file_number': 1006803, 'conduit_committee_city': None, 'memo_code': None, 'back_reference_transaction_id': None, 'contributor_aggregate_ytd': 2600.0, 'cycle': 2016}, {'contributor_last_name': 'BRODERICK', 'candidate_office': None, 'pdf_url': 'http://docquery.fec.gov/cgi-bin/fecimg/?201507319000513615', 'memo_text': None, 'timestamp': '2017-08-29T20:33:34.695796+00:00', 'schedule_type_full': 'ITEMIZED RECEIPTS', 'contributor_street_2': None, 'line_number': '11AI', 'receipt_type_desc': 'CONTRIBUTION', 'receipt_type': '15', 'entity_type_desc': 'INDIVIDUAL', 'fec_election_year': None, 'is_individual': True, 'candidate_middle_name': None, 'candidate_first_name': None, 'contributor_id': None, 'contributor': None, 'receipt_type_full': 'CONTRIBUTION', 'committee_id': 'C00571380', 'conduit_committee_street1': None, 'contributor_occupation': 'BANKER', 'conduit_committee_zip': None, 'contributor_state': 'CT', 'two_year_transaction_period': 2016, 'amendment_indicator': 'N', 'contributor_first_name': 'CRAIG', 'election_type': 'P', 'election_type_full': None, 'original_sub_id': None, 'amendment_indicator_desc': 'NO CHANGE', 'candidate_id': None, 'candidate_last_name': None, 'contributor_city': 'GREENWICH', 'contribution_receipt_amount': 2500.0, 'committee': {'designation': 'U', 'committee_type_full': 'PAC - Qualified', 'state_full': 'North Carolina', 'street_2': None, 'party': None, 'designation_full': 'Unauthorized', 'party_full': None, 'organization_type': None, 'candidate_ids': [], 'organization_type_full': None, 'state': 'NC', 'zip': '28110', 'street_1': '6334 PUMPERNICKEL LANE', 'committee_type': 'Q', 'cycles': [2018, 2016], 'treasurer_name': 'SIMON, WILLIAM', 'name': 'RIGHT TO RISE PAC, INC.', 'city': 'MONROE', 'committee_id': 'C00571380', 'cycle': 2016}, 'increased_limit': None, 'contributor_suffix': None, 'candidate_office_district': None, 'report_year': 2015, 'conduit_committee_id': None, 'image_number': '201507319000513615', 'conduit_committee_name': None, 'unused_contbr_id': None, 'report_type': 'MY', 'contributor_zip': '068303510', 'contribution_receipt_date': '2015-01-14T00:00:00', 'candidate_name': None, 'fec_election_type_desc': 'PRIMARY', 'filing_form': 'F3X', 'conduit_committee_state': None, 'back_reference_schedule_name': None, 'conduit_committee_street2': None, 'link_id': 4073120151248079606, 'committee_name': None, 'contributor_middle_name': 'W.', 'candidate_prefix': None, 'donor_committee_name': None, 'load_date': '2017-08-29T20:33:34.695796+00:00', 'memoed_subtotal': False, 'memo_code_full': None, 'contributor_street_1': '5 PERKINS ROAD', 'contributor_employer': 'GOLDMAN SACHS', 'national_committee_nonfederal_account': None, 'contributor_prefix': 'MR.', 'schedule_type': 'SA', 'candidate_office_state_full': None, 'candidate_suffix': None, 'contributor_name': 'BRODERICK, CRAIG W. MR.', 'line_number_label': 'Contributions From Individuals/Persons Other Than Political Committees', 'sub_id': '4080320151248187793', 'candidate_office_state': None, 'entity_type': 'IND', 'transaction_id': 'SA11.27896', 'candidate_office_full': None, 'file_number': 1019891, 'conduit_committee_city': None, 'memo_code': None, 'back_reference_transaction_id': None, 'contributor_aggregate_ytd': 5000.0, 'cycle': 2016}]\n",
      "[*] getting FEC SCHEDULE A results for Goldman Sachs in 2016...page 9 of 37\n"
     ]
    },
    {
     "ename": "KeyboardInterrupt",
     "evalue": "",
     "output_type": "error",
     "traceback": [
      "\u001b[0;31m---------------------------------------------------------------------------\u001b[0m",
      "\u001b[0;31mTypeError\u001b[0m                                 Traceback (most recent call last)",
      "\u001b[0;32m/usr/local/lib/python3.5/site-packages/requests/packages/urllib3/connectionpool.py\u001b[0m in \u001b[0;36m_make_request\u001b[0;34m(self, conn, method, url, timeout, chunked, **httplib_request_kw)\u001b[0m\n\u001b[1;32m    385\u001b[0m             \u001b[0;32mtry\u001b[0m\u001b[0;34m:\u001b[0m  \u001b[0;31m# Python 2.7, use buffering of HTTP responses\u001b[0m\u001b[0;34m\u001b[0m\u001b[0m\n\u001b[0;32m--> 386\u001b[0;31m                 \u001b[0mhttplib_response\u001b[0m \u001b[0;34m=\u001b[0m \u001b[0mconn\u001b[0m\u001b[0;34m.\u001b[0m\u001b[0mgetresponse\u001b[0m\u001b[0;34m(\u001b[0m\u001b[0mbuffering\u001b[0m\u001b[0;34m=\u001b[0m\u001b[0;32mTrue\u001b[0m\u001b[0;34m)\u001b[0m\u001b[0;34m\u001b[0m\u001b[0m\n\u001b[0m\u001b[1;32m    387\u001b[0m             \u001b[0;32mexcept\u001b[0m \u001b[0mTypeError\u001b[0m\u001b[0;34m:\u001b[0m  \u001b[0;31m# Python 2.6 and older, Python 3\u001b[0m\u001b[0;34m\u001b[0m\u001b[0m\n",
      "\u001b[0;31mTypeError\u001b[0m: getresponse() got an unexpected keyword argument 'buffering'",
      "\nDuring handling of the above exception, another exception occurred:\n",
      "\u001b[0;31mKeyboardInterrupt\u001b[0m                         Traceback (most recent call last)",
      "\u001b[0;32m<ipython-input-44-f12622141482>\u001b[0m in \u001b[0;36m<module>\u001b[0;34m()\u001b[0m\n\u001b[0;32m----> 1\u001b[0;31m \u001b[0mget_schedule_a_employer_year\u001b[0m\u001b[0;34m(\u001b[0m\u001b[0;34m\"Goldman Sachs\"\u001b[0m\u001b[0;34m,\u001b[0m \u001b[0mapi_key\u001b[0m\u001b[0;34m)\u001b[0m\u001b[0;34m\u001b[0m\u001b[0m\n\u001b[0m",
      "\u001b[0;32m<ipython-input-43-405fd0b7fc90>\u001b[0m in \u001b[0;36mget_schedule_a_employer_year\u001b[0;34m(employer, api_key, year)\u001b[0m\n\u001b[1;32m     27\u001b[0m         \u001b[0mfilename\u001b[0m \u001b[0;34m=\u001b[0m \u001b[0;34m\"{}_{}_schedule_a.csv\"\u001b[0m\u001b[0;34m.\u001b[0m\u001b[0mformat\u001b[0m\u001b[0;34m(\u001b[0m\u001b[0myear\u001b[0m\u001b[0;34m,\u001b[0m \u001b[0memployer\u001b[0m\u001b[0;34m.\u001b[0m\u001b[0mreplace\u001b[0m\u001b[0;34m(\u001b[0m\u001b[0;34m\" \"\u001b[0m\u001b[0;34m,\u001b[0m \u001b[0;34m\"_\"\u001b[0m\u001b[0;34m)\u001b[0m\u001b[0;34m)\u001b[0m\u001b[0;34m\u001b[0m\u001b[0m\n\u001b[1;32m     28\u001b[0m         \u001b[0murl\u001b[0m \u001b[0;34m=\u001b[0m \u001b[0mreq_url_schedule_a\u001b[0m\u001b[0;34m(\u001b[0m\u001b[0mfirm\u001b[0m\u001b[0;34m,\u001b[0m \u001b[0mapi_key\u001b[0m\u001b[0;34m,\u001b[0m \u001b[0myear\u001b[0m\u001b[0;34m,\u001b[0m \u001b[0mpage\u001b[0m\u001b[0;34m)\u001b[0m\u001b[0;34m\u001b[0m\u001b[0m\n\u001b[0;32m---> 29\u001b[0;31m         \u001b[0mpage_data\u001b[0m \u001b[0;34m=\u001b[0m \u001b[0mget_url\u001b[0m\u001b[0;34m(\u001b[0m\u001b[0murl\u001b[0m\u001b[0;34m)\u001b[0m\u001b[0;34m\u001b[0m\u001b[0m\n\u001b[0m\u001b[1;32m     30\u001b[0m         \u001b[0mresults\u001b[0m \u001b[0;34m=\u001b[0m \u001b[0mpage_data\u001b[0m\u001b[0;34m[\u001b[0m\u001b[0;34m'results'\u001b[0m\u001b[0;34m]\u001b[0m\u001b[0;34m\u001b[0m\u001b[0m\n\u001b[1;32m     31\u001b[0m         \u001b[0;31m#write_csv_json(results, filename)\u001b[0m\u001b[0;34m\u001b[0m\u001b[0;34m\u001b[0m\u001b[0m\n",
      "\u001b[0;32m<ipython-input-3-00477d91ec1f>\u001b[0m in \u001b[0;36mget_url\u001b[0;34m(url)\u001b[0m\n\u001b[1;32m      1\u001b[0m \u001b[0;32mdef\u001b[0m \u001b[0mget_url\u001b[0m\u001b[0;34m(\u001b[0m\u001b[0murl\u001b[0m\u001b[0;34m)\u001b[0m\u001b[0;34m:\u001b[0m\u001b[0;34m\u001b[0m\u001b[0m\n\u001b[0;32m----> 2\u001b[0;31m     \u001b[0mdata\u001b[0m \u001b[0;34m=\u001b[0m \u001b[0mrequests\u001b[0m\u001b[0;34m.\u001b[0m\u001b[0mget\u001b[0m\u001b[0;34m(\u001b[0m\u001b[0murl\u001b[0m\u001b[0;34m)\u001b[0m\u001b[0;34m.\u001b[0m\u001b[0mjson\u001b[0m\u001b[0;34m(\u001b[0m\u001b[0;34m)\u001b[0m\u001b[0;34m\u001b[0m\u001b[0m\n\u001b[0m\u001b[1;32m      3\u001b[0m     \u001b[0;32mreturn\u001b[0m\u001b[0;34m(\u001b[0m\u001b[0mdata\u001b[0m\u001b[0;34m)\u001b[0m\u001b[0;34m\u001b[0m\u001b[0m\n",
      "\u001b[0;32m/usr/local/lib/python3.5/site-packages/requests/api.py\u001b[0m in \u001b[0;36mget\u001b[0;34m(url, params, **kwargs)\u001b[0m\n\u001b[1;32m     68\u001b[0m \u001b[0;34m\u001b[0m\u001b[0m\n\u001b[1;32m     69\u001b[0m     \u001b[0mkwargs\u001b[0m\u001b[0;34m.\u001b[0m\u001b[0msetdefault\u001b[0m\u001b[0;34m(\u001b[0m\u001b[0;34m'allow_redirects'\u001b[0m\u001b[0;34m,\u001b[0m \u001b[0;32mTrue\u001b[0m\u001b[0;34m)\u001b[0m\u001b[0;34m\u001b[0m\u001b[0m\n\u001b[0;32m---> 70\u001b[0;31m     \u001b[0;32mreturn\u001b[0m \u001b[0mrequest\u001b[0m\u001b[0;34m(\u001b[0m\u001b[0;34m'get'\u001b[0m\u001b[0;34m,\u001b[0m \u001b[0murl\u001b[0m\u001b[0;34m,\u001b[0m \u001b[0mparams\u001b[0m\u001b[0;34m=\u001b[0m\u001b[0mparams\u001b[0m\u001b[0;34m,\u001b[0m \u001b[0;34m**\u001b[0m\u001b[0mkwargs\u001b[0m\u001b[0;34m)\u001b[0m\u001b[0;34m\u001b[0m\u001b[0m\n\u001b[0m\u001b[1;32m     71\u001b[0m \u001b[0;34m\u001b[0m\u001b[0m\n\u001b[1;32m     72\u001b[0m \u001b[0;34m\u001b[0m\u001b[0m\n",
      "\u001b[0;32m/usr/local/lib/python3.5/site-packages/requests/api.py\u001b[0m in \u001b[0;36mrequest\u001b[0;34m(method, url, **kwargs)\u001b[0m\n\u001b[1;32m     54\u001b[0m     \u001b[0;31m# cases, and look like a memory leak in others.\u001b[0m\u001b[0;34m\u001b[0m\u001b[0;34m\u001b[0m\u001b[0m\n\u001b[1;32m     55\u001b[0m     \u001b[0;32mwith\u001b[0m \u001b[0msessions\u001b[0m\u001b[0;34m.\u001b[0m\u001b[0mSession\u001b[0m\u001b[0;34m(\u001b[0m\u001b[0;34m)\u001b[0m \u001b[0;32mas\u001b[0m \u001b[0msession\u001b[0m\u001b[0;34m:\u001b[0m\u001b[0;34m\u001b[0m\u001b[0m\n\u001b[0;32m---> 56\u001b[0;31m         \u001b[0;32mreturn\u001b[0m \u001b[0msession\u001b[0m\u001b[0;34m.\u001b[0m\u001b[0mrequest\u001b[0m\u001b[0;34m(\u001b[0m\u001b[0mmethod\u001b[0m\u001b[0;34m=\u001b[0m\u001b[0mmethod\u001b[0m\u001b[0;34m,\u001b[0m \u001b[0murl\u001b[0m\u001b[0;34m=\u001b[0m\u001b[0murl\u001b[0m\u001b[0;34m,\u001b[0m \u001b[0;34m**\u001b[0m\u001b[0mkwargs\u001b[0m\u001b[0;34m)\u001b[0m\u001b[0;34m\u001b[0m\u001b[0m\n\u001b[0m\u001b[1;32m     57\u001b[0m \u001b[0;34m\u001b[0m\u001b[0m\n\u001b[1;32m     58\u001b[0m \u001b[0;34m\u001b[0m\u001b[0m\n",
      "\u001b[0;32m/usr/local/lib/python3.5/site-packages/requests/sessions.py\u001b[0m in \u001b[0;36mrequest\u001b[0;34m(self, method, url, params, data, headers, cookies, files, auth, timeout, allow_redirects, proxies, hooks, stream, verify, cert, json)\u001b[0m\n\u001b[1;32m    473\u001b[0m         }\n\u001b[1;32m    474\u001b[0m         \u001b[0msend_kwargs\u001b[0m\u001b[0;34m.\u001b[0m\u001b[0mupdate\u001b[0m\u001b[0;34m(\u001b[0m\u001b[0msettings\u001b[0m\u001b[0;34m)\u001b[0m\u001b[0;34m\u001b[0m\u001b[0m\n\u001b[0;32m--> 475\u001b[0;31m         \u001b[0mresp\u001b[0m \u001b[0;34m=\u001b[0m \u001b[0mself\u001b[0m\u001b[0;34m.\u001b[0m\u001b[0msend\u001b[0m\u001b[0;34m(\u001b[0m\u001b[0mprep\u001b[0m\u001b[0;34m,\u001b[0m \u001b[0;34m**\u001b[0m\u001b[0msend_kwargs\u001b[0m\u001b[0;34m)\u001b[0m\u001b[0;34m\u001b[0m\u001b[0m\n\u001b[0m\u001b[1;32m    476\u001b[0m \u001b[0;34m\u001b[0m\u001b[0m\n\u001b[1;32m    477\u001b[0m         \u001b[0;32mreturn\u001b[0m \u001b[0mresp\u001b[0m\u001b[0;34m\u001b[0m\u001b[0m\n",
      "\u001b[0;32m/usr/local/lib/python3.5/site-packages/requests/sessions.py\u001b[0m in \u001b[0;36msend\u001b[0;34m(self, request, **kwargs)\u001b[0m\n\u001b[1;32m    594\u001b[0m \u001b[0;34m\u001b[0m\u001b[0m\n\u001b[1;32m    595\u001b[0m         \u001b[0;31m# Send the request\u001b[0m\u001b[0;34m\u001b[0m\u001b[0;34m\u001b[0m\u001b[0m\n\u001b[0;32m--> 596\u001b[0;31m         \u001b[0mr\u001b[0m \u001b[0;34m=\u001b[0m \u001b[0madapter\u001b[0m\u001b[0;34m.\u001b[0m\u001b[0msend\u001b[0m\u001b[0;34m(\u001b[0m\u001b[0mrequest\u001b[0m\u001b[0;34m,\u001b[0m \u001b[0;34m**\u001b[0m\u001b[0mkwargs\u001b[0m\u001b[0;34m)\u001b[0m\u001b[0;34m\u001b[0m\u001b[0m\n\u001b[0m\u001b[1;32m    597\u001b[0m \u001b[0;34m\u001b[0m\u001b[0m\n\u001b[1;32m    598\u001b[0m         \u001b[0;31m# Total elapsed time of the request (approximately)\u001b[0m\u001b[0;34m\u001b[0m\u001b[0;34m\u001b[0m\u001b[0m\n",
      "\u001b[0;32m/usr/local/lib/python3.5/site-packages/requests/adapters.py\u001b[0m in \u001b[0;36msend\u001b[0;34m(self, request, stream, timeout, verify, cert, proxies)\u001b[0m\n\u001b[1;32m    421\u001b[0m                     \u001b[0mdecode_content\u001b[0m\u001b[0;34m=\u001b[0m\u001b[0;32mFalse\u001b[0m\u001b[0;34m,\u001b[0m\u001b[0;34m\u001b[0m\u001b[0m\n\u001b[1;32m    422\u001b[0m                     \u001b[0mretries\u001b[0m\u001b[0;34m=\u001b[0m\u001b[0mself\u001b[0m\u001b[0;34m.\u001b[0m\u001b[0mmax_retries\u001b[0m\u001b[0;34m,\u001b[0m\u001b[0;34m\u001b[0m\u001b[0m\n\u001b[0;32m--> 423\u001b[0;31m                     \u001b[0mtimeout\u001b[0m\u001b[0;34m=\u001b[0m\u001b[0mtimeout\u001b[0m\u001b[0;34m\u001b[0m\u001b[0m\n\u001b[0m\u001b[1;32m    424\u001b[0m                 )\n\u001b[1;32m    425\u001b[0m \u001b[0;34m\u001b[0m\u001b[0m\n",
      "\u001b[0;32m/usr/local/lib/python3.5/site-packages/requests/packages/urllib3/connectionpool.py\u001b[0m in \u001b[0;36murlopen\u001b[0;34m(self, method, url, body, headers, retries, redirect, assert_same_host, timeout, pool_timeout, release_conn, chunked, **response_kw)\u001b[0m\n\u001b[1;32m    593\u001b[0m                                                   \u001b[0mtimeout\u001b[0m\u001b[0;34m=\u001b[0m\u001b[0mtimeout_obj\u001b[0m\u001b[0;34m,\u001b[0m\u001b[0;34m\u001b[0m\u001b[0m\n\u001b[1;32m    594\u001b[0m                                                   \u001b[0mbody\u001b[0m\u001b[0;34m=\u001b[0m\u001b[0mbody\u001b[0m\u001b[0;34m,\u001b[0m \u001b[0mheaders\u001b[0m\u001b[0;34m=\u001b[0m\u001b[0mheaders\u001b[0m\u001b[0;34m,\u001b[0m\u001b[0;34m\u001b[0m\u001b[0m\n\u001b[0;32m--> 595\u001b[0;31m                                                   chunked=chunked)\n\u001b[0m\u001b[1;32m    596\u001b[0m \u001b[0;34m\u001b[0m\u001b[0m\n\u001b[1;32m    597\u001b[0m             \u001b[0;31m# If we're going to release the connection in ``finally:``, then\u001b[0m\u001b[0;34m\u001b[0m\u001b[0;34m\u001b[0m\u001b[0m\n",
      "\u001b[0;32m/usr/local/lib/python3.5/site-packages/requests/packages/urllib3/connectionpool.py\u001b[0m in \u001b[0;36m_make_request\u001b[0;34m(self, conn, method, url, timeout, chunked, **httplib_request_kw)\u001b[0m\n\u001b[1;32m    387\u001b[0m             \u001b[0;32mexcept\u001b[0m \u001b[0mTypeError\u001b[0m\u001b[0;34m:\u001b[0m  \u001b[0;31m# Python 2.6 and older, Python 3\u001b[0m\u001b[0;34m\u001b[0m\u001b[0m\n\u001b[1;32m    388\u001b[0m                 \u001b[0;32mtry\u001b[0m\u001b[0;34m:\u001b[0m\u001b[0;34m\u001b[0m\u001b[0m\n\u001b[0;32m--> 389\u001b[0;31m                     \u001b[0mhttplib_response\u001b[0m \u001b[0;34m=\u001b[0m \u001b[0mconn\u001b[0m\u001b[0;34m.\u001b[0m\u001b[0mgetresponse\u001b[0m\u001b[0;34m(\u001b[0m\u001b[0;34m)\u001b[0m\u001b[0;34m\u001b[0m\u001b[0m\n\u001b[0m\u001b[1;32m    390\u001b[0m                 \u001b[0;32mexcept\u001b[0m \u001b[0mException\u001b[0m \u001b[0;32mas\u001b[0m \u001b[0me\u001b[0m\u001b[0;34m:\u001b[0m\u001b[0;34m\u001b[0m\u001b[0m\n\u001b[1;32m    391\u001b[0m                     \u001b[0;31m# Remove the TypeError from the exception chain in Python 3;\u001b[0m\u001b[0;34m\u001b[0m\u001b[0;34m\u001b[0m\u001b[0m\n",
      "\u001b[0;32m/usr/local/Cellar/python3/3.5.1/Frameworks/Python.framework/Versions/3.5/lib/python3.5/http/client.py\u001b[0m in \u001b[0;36mgetresponse\u001b[0;34m(self)\u001b[0m\n\u001b[1;32m   1172\u001b[0m         \u001b[0;32mtry\u001b[0m\u001b[0;34m:\u001b[0m\u001b[0;34m\u001b[0m\u001b[0m\n\u001b[1;32m   1173\u001b[0m             \u001b[0;32mtry\u001b[0m\u001b[0;34m:\u001b[0m\u001b[0;34m\u001b[0m\u001b[0m\n\u001b[0;32m-> 1174\u001b[0;31m                 \u001b[0mresponse\u001b[0m\u001b[0;34m.\u001b[0m\u001b[0mbegin\u001b[0m\u001b[0;34m(\u001b[0m\u001b[0;34m)\u001b[0m\u001b[0;34m\u001b[0m\u001b[0m\n\u001b[0m\u001b[1;32m   1175\u001b[0m             \u001b[0;32mexcept\u001b[0m \u001b[0mConnectionError\u001b[0m\u001b[0;34m:\u001b[0m\u001b[0;34m\u001b[0m\u001b[0m\n\u001b[1;32m   1176\u001b[0m                 \u001b[0mself\u001b[0m\u001b[0;34m.\u001b[0m\u001b[0mclose\u001b[0m\u001b[0;34m(\u001b[0m\u001b[0;34m)\u001b[0m\u001b[0;34m\u001b[0m\u001b[0m\n",
      "\u001b[0;32m/usr/local/Cellar/python3/3.5.1/Frameworks/Python.framework/Versions/3.5/lib/python3.5/http/client.py\u001b[0m in \u001b[0;36mbegin\u001b[0;34m(self)\u001b[0m\n\u001b[1;32m    280\u001b[0m         \u001b[0;31m# read until we get a non-100 response\u001b[0m\u001b[0;34m\u001b[0m\u001b[0;34m\u001b[0m\u001b[0m\n\u001b[1;32m    281\u001b[0m         \u001b[0;32mwhile\u001b[0m \u001b[0;32mTrue\u001b[0m\u001b[0;34m:\u001b[0m\u001b[0;34m\u001b[0m\u001b[0m\n\u001b[0;32m--> 282\u001b[0;31m             \u001b[0mversion\u001b[0m\u001b[0;34m,\u001b[0m \u001b[0mstatus\u001b[0m\u001b[0;34m,\u001b[0m \u001b[0mreason\u001b[0m \u001b[0;34m=\u001b[0m \u001b[0mself\u001b[0m\u001b[0;34m.\u001b[0m\u001b[0m_read_status\u001b[0m\u001b[0;34m(\u001b[0m\u001b[0;34m)\u001b[0m\u001b[0;34m\u001b[0m\u001b[0m\n\u001b[0m\u001b[1;32m    283\u001b[0m             \u001b[0;32mif\u001b[0m \u001b[0mstatus\u001b[0m \u001b[0;34m!=\u001b[0m \u001b[0mCONTINUE\u001b[0m\u001b[0;34m:\u001b[0m\u001b[0;34m\u001b[0m\u001b[0m\n\u001b[1;32m    284\u001b[0m                 \u001b[0;32mbreak\u001b[0m\u001b[0;34m\u001b[0m\u001b[0m\n",
      "\u001b[0;32m/usr/local/Cellar/python3/3.5.1/Frameworks/Python.framework/Versions/3.5/lib/python3.5/http/client.py\u001b[0m in \u001b[0;36m_read_status\u001b[0;34m(self)\u001b[0m\n\u001b[1;32m    241\u001b[0m \u001b[0;34m\u001b[0m\u001b[0m\n\u001b[1;32m    242\u001b[0m     \u001b[0;32mdef\u001b[0m \u001b[0m_read_status\u001b[0m\u001b[0;34m(\u001b[0m\u001b[0mself\u001b[0m\u001b[0;34m)\u001b[0m\u001b[0;34m:\u001b[0m\u001b[0;34m\u001b[0m\u001b[0m\n\u001b[0;32m--> 243\u001b[0;31m         \u001b[0mline\u001b[0m \u001b[0;34m=\u001b[0m \u001b[0mstr\u001b[0m\u001b[0;34m(\u001b[0m\u001b[0mself\u001b[0m\u001b[0;34m.\u001b[0m\u001b[0mfp\u001b[0m\u001b[0;34m.\u001b[0m\u001b[0mreadline\u001b[0m\u001b[0;34m(\u001b[0m\u001b[0m_MAXLINE\u001b[0m \u001b[0;34m+\u001b[0m \u001b[0;36m1\u001b[0m\u001b[0;34m)\u001b[0m\u001b[0;34m,\u001b[0m \u001b[0;34m\"iso-8859-1\"\u001b[0m\u001b[0;34m)\u001b[0m\u001b[0;34m\u001b[0m\u001b[0m\n\u001b[0m\u001b[1;32m    244\u001b[0m         \u001b[0;32mif\u001b[0m \u001b[0mlen\u001b[0m\u001b[0;34m(\u001b[0m\u001b[0mline\u001b[0m\u001b[0;34m)\u001b[0m \u001b[0;34m>\u001b[0m \u001b[0m_MAXLINE\u001b[0m\u001b[0;34m:\u001b[0m\u001b[0;34m\u001b[0m\u001b[0m\n\u001b[1;32m    245\u001b[0m             \u001b[0;32mraise\u001b[0m \u001b[0mLineTooLong\u001b[0m\u001b[0;34m(\u001b[0m\u001b[0;34m\"status line\"\u001b[0m\u001b[0;34m)\u001b[0m\u001b[0;34m\u001b[0m\u001b[0m\n",
      "\u001b[0;32m/usr/local/Cellar/python3/3.5.1/Frameworks/Python.framework/Versions/3.5/lib/python3.5/socket.py\u001b[0m in \u001b[0;36mreadinto\u001b[0;34m(self, b)\u001b[0m\n\u001b[1;32m    573\u001b[0m         \u001b[0;32mwhile\u001b[0m \u001b[0;32mTrue\u001b[0m\u001b[0;34m:\u001b[0m\u001b[0;34m\u001b[0m\u001b[0m\n\u001b[1;32m    574\u001b[0m             \u001b[0;32mtry\u001b[0m\u001b[0;34m:\u001b[0m\u001b[0;34m\u001b[0m\u001b[0m\n\u001b[0;32m--> 575\u001b[0;31m                 \u001b[0;32mreturn\u001b[0m \u001b[0mself\u001b[0m\u001b[0;34m.\u001b[0m\u001b[0m_sock\u001b[0m\u001b[0;34m.\u001b[0m\u001b[0mrecv_into\u001b[0m\u001b[0;34m(\u001b[0m\u001b[0mb\u001b[0m\u001b[0;34m)\u001b[0m\u001b[0;34m\u001b[0m\u001b[0m\n\u001b[0m\u001b[1;32m    576\u001b[0m             \u001b[0;32mexcept\u001b[0m \u001b[0mtimeout\u001b[0m\u001b[0;34m:\u001b[0m\u001b[0;34m\u001b[0m\u001b[0m\n\u001b[1;32m    577\u001b[0m                 \u001b[0mself\u001b[0m\u001b[0;34m.\u001b[0m\u001b[0m_timeout_occurred\u001b[0m \u001b[0;34m=\u001b[0m \u001b[0;32mTrue\u001b[0m\u001b[0;34m\u001b[0m\u001b[0m\n",
      "\u001b[0;32m/usr/local/Cellar/python3/3.5.1/Frameworks/Python.framework/Versions/3.5/lib/python3.5/ssl.py\u001b[0m in \u001b[0;36mrecv_into\u001b[0;34m(self, buffer, nbytes, flags)\u001b[0m\n\u001b[1;32m    922\u001b[0m                   \u001b[0;34m\"non-zero flags not allowed in calls to recv_into() on %s\"\u001b[0m \u001b[0;34m%\u001b[0m\u001b[0;34m\u001b[0m\u001b[0m\n\u001b[1;32m    923\u001b[0m                   self.__class__)\n\u001b[0;32m--> 924\u001b[0;31m             \u001b[0;32mreturn\u001b[0m \u001b[0mself\u001b[0m\u001b[0;34m.\u001b[0m\u001b[0mread\u001b[0m\u001b[0;34m(\u001b[0m\u001b[0mnbytes\u001b[0m\u001b[0;34m,\u001b[0m \u001b[0mbuffer\u001b[0m\u001b[0;34m)\u001b[0m\u001b[0;34m\u001b[0m\u001b[0m\n\u001b[0m\u001b[1;32m    925\u001b[0m         \u001b[0;32melse\u001b[0m\u001b[0;34m:\u001b[0m\u001b[0;34m\u001b[0m\u001b[0m\n\u001b[1;32m    926\u001b[0m             \u001b[0;32mreturn\u001b[0m \u001b[0msocket\u001b[0m\u001b[0;34m.\u001b[0m\u001b[0mrecv_into\u001b[0m\u001b[0;34m(\u001b[0m\u001b[0mself\u001b[0m\u001b[0;34m,\u001b[0m \u001b[0mbuffer\u001b[0m\u001b[0;34m,\u001b[0m \u001b[0mnbytes\u001b[0m\u001b[0;34m,\u001b[0m \u001b[0mflags\u001b[0m\u001b[0;34m)\u001b[0m\u001b[0;34m\u001b[0m\u001b[0m\n",
      "\u001b[0;32m/usr/local/Cellar/python3/3.5.1/Frameworks/Python.framework/Versions/3.5/lib/python3.5/ssl.py\u001b[0m in \u001b[0;36mread\u001b[0;34m(self, len, buffer)\u001b[0m\n\u001b[1;32m    784\u001b[0m             \u001b[0;32mraise\u001b[0m \u001b[0mValueError\u001b[0m\u001b[0;34m(\u001b[0m\u001b[0;34m\"Read on closed or unwrapped SSL socket.\"\u001b[0m\u001b[0;34m)\u001b[0m\u001b[0;34m\u001b[0m\u001b[0m\n\u001b[1;32m    785\u001b[0m         \u001b[0;32mtry\u001b[0m\u001b[0;34m:\u001b[0m\u001b[0;34m\u001b[0m\u001b[0m\n\u001b[0;32m--> 786\u001b[0;31m             \u001b[0;32mreturn\u001b[0m \u001b[0mself\u001b[0m\u001b[0;34m.\u001b[0m\u001b[0m_sslobj\u001b[0m\u001b[0;34m.\u001b[0m\u001b[0mread\u001b[0m\u001b[0;34m(\u001b[0m\u001b[0mlen\u001b[0m\u001b[0;34m,\u001b[0m \u001b[0mbuffer\u001b[0m\u001b[0;34m)\u001b[0m\u001b[0;34m\u001b[0m\u001b[0m\n\u001b[0m\u001b[1;32m    787\u001b[0m         \u001b[0;32mexcept\u001b[0m \u001b[0mSSLError\u001b[0m \u001b[0;32mas\u001b[0m \u001b[0mx\u001b[0m\u001b[0;34m:\u001b[0m\u001b[0;34m\u001b[0m\u001b[0m\n\u001b[1;32m    788\u001b[0m             \u001b[0;32mif\u001b[0m \u001b[0mx\u001b[0m\u001b[0;34m.\u001b[0m\u001b[0margs\u001b[0m\u001b[0;34m[\u001b[0m\u001b[0;36m0\u001b[0m\u001b[0;34m]\u001b[0m \u001b[0;34m==\u001b[0m \u001b[0mSSL_ERROR_EOF\u001b[0m \u001b[0;32mand\u001b[0m \u001b[0mself\u001b[0m\u001b[0;34m.\u001b[0m\u001b[0msuppress_ragged_eofs\u001b[0m\u001b[0;34m:\u001b[0m\u001b[0;34m\u001b[0m\u001b[0m\n",
      "\u001b[0;32m/usr/local/Cellar/python3/3.5.1/Frameworks/Python.framework/Versions/3.5/lib/python3.5/ssl.py\u001b[0m in \u001b[0;36mread\u001b[0;34m(self, len, buffer)\u001b[0m\n\u001b[1;32m    568\u001b[0m         \"\"\"\n\u001b[1;32m    569\u001b[0m         \u001b[0;32mif\u001b[0m \u001b[0mbuffer\u001b[0m \u001b[0;32mis\u001b[0m \u001b[0;32mnot\u001b[0m \u001b[0;32mNone\u001b[0m\u001b[0;34m:\u001b[0m\u001b[0;34m\u001b[0m\u001b[0m\n\u001b[0;32m--> 570\u001b[0;31m             \u001b[0mv\u001b[0m \u001b[0;34m=\u001b[0m \u001b[0mself\u001b[0m\u001b[0;34m.\u001b[0m\u001b[0m_sslobj\u001b[0m\u001b[0;34m.\u001b[0m\u001b[0mread\u001b[0m\u001b[0;34m(\u001b[0m\u001b[0mlen\u001b[0m\u001b[0;34m,\u001b[0m \u001b[0mbuffer\u001b[0m\u001b[0;34m)\u001b[0m\u001b[0;34m\u001b[0m\u001b[0m\n\u001b[0m\u001b[1;32m    571\u001b[0m         \u001b[0;32melse\u001b[0m\u001b[0;34m:\u001b[0m\u001b[0;34m\u001b[0m\u001b[0m\n\u001b[1;32m    572\u001b[0m             \u001b[0mv\u001b[0m \u001b[0;34m=\u001b[0m \u001b[0mself\u001b[0m\u001b[0;34m.\u001b[0m\u001b[0m_sslobj\u001b[0m\u001b[0;34m.\u001b[0m\u001b[0mread\u001b[0m\u001b[0;34m(\u001b[0m\u001b[0mlen\u001b[0m \u001b[0;32mor\u001b[0m \u001b[0;36m1024\u001b[0m\u001b[0;34m)\u001b[0m\u001b[0;34m\u001b[0m\u001b[0m\n",
      "\u001b[0;31mKeyboardInterrupt\u001b[0m: "
     ]
    }
   ],
   "source": [
    "get_schedule_a_employer_year(\"Goldman Sachs\", api_key)"
   ]
  },
  {
   "cell_type": "code",
   "execution_count": 12,
   "metadata": {
    "collapsed": false
   },
   "outputs": [
    {
     "name": "stdout",
     "output_type": "stream",
     "text": [
      "10\n"
     ]
    }
   ],
   "source": [
    "get_schedule_a_employer_year(\"Goldman Sachs\", api_key, 1996)"
   ]
  },
  {
   "cell_type": "code",
   "execution_count": null,
   "metadata": {
    "collapsed": true
   },
   "outputs": [],
   "source": []
  },
  {
   "cell_type": "code",
   "execution_count": null,
   "metadata": {
    "collapsed": true
   },
   "outputs": [],
   "source": []
  },
  {
   "cell_type": "code",
   "execution_count": null,
   "metadata": {
    "collapsed": true
   },
   "outputs": [],
   "source": []
  },
  {
   "cell_type": "code",
   "execution_count": null,
   "metadata": {
    "collapsed": true
   },
   "outputs": [],
   "source": []
  },
  {
   "cell_type": "code",
   "execution_count": null,
   "metadata": {
    "collapsed": true
   },
   "outputs": [],
   "source": []
  }
 ],
 "metadata": {
  "kernelspec": {
   "display_name": "Python 3",
   "language": "python",
   "name": "python3"
  },
  "language_info": {
   "codemirror_mode": {
    "name": "ipython",
    "version": 3
   },
   "file_extension": ".py",
   "mimetype": "text/x-python",
   "name": "python",
   "nbconvert_exporter": "python",
   "pygments_lexer": "ipython3",
   "version": "3.5.1"
  }
 },
 "nbformat": 4,
 "nbformat_minor": 0
}
