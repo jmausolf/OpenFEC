{
 "cells": [
  {
   "cell_type": "code",
   "execution_count": 17,
   "metadata": {
    "collapsed": false
   },
   "outputs": [],
   "source": [
    "from credentials import *\n",
    "import requests\n",
    "import json, csv\n",
    "\n",
    "\n",
    "#REQUEST URL\n",
    "#example\n",
    "url = \"https://api.data.gov/nrel/alt-fuel-stations/v1/nearest.json?api_key={}&location=Denver+CO\".format(api_key)\n",
    "\n",
    "response = requests.get(url)\n",
    "\n",
    "data = response.json()\n",
    "#print(data)\n"
   ]
  },
  {
   "cell_type": "code",
   "execution_count": 5,
   "metadata": {
    "collapsed": false
   },
   "outputs": [
    {
     "name": "stdout",
     "output_type": "stream",
     "text": [
      "station_locator_url\n",
      "latitude\n",
      "offset\n",
      "precision\n",
      "fuel_stations\n",
      "longitude\n",
      "station_counts\n",
      "total_results\n"
     ]
    }
   ],
   "source": [
    "for k in data:\n",
    "    print(k)"
   ]
  },
  {
   "cell_type": "code",
   "execution_count": 8,
   "metadata": {
    "collapsed": false
   },
   "outputs": [],
   "source": [
    "def return_total_results(data):\n",
    "    total = data['total_results']\n",
    "    print(\"[*] you have {} results for your query...\".format(total))\n",
    "    return total\n",
    "\n"
   ]
  },
  {
   "cell_type": "code",
   "execution_count": 9,
   "metadata": {
    "collapsed": false
   },
   "outputs": [
    {
     "name": "stdout",
     "output_type": "stream",
     "text": [
      "[*] you have 71 results for your query...\n"
     ]
    },
    {
     "data": {
      "text/plain": [
       "71"
      ]
     },
     "execution_count": 9,
     "metadata": {},
     "output_type": "execute_result"
    }
   ],
   "source": [
    "return_total_results(data)"
   ]
  },
  {
   "cell_type": "code",
   "execution_count": 10,
   "metadata": {
    "collapsed": true
   },
   "outputs": [],
   "source": [
    "stations = data['fuel_stations']"
   ]
  },
  {
   "cell_type": "code",
   "execution_count": 13,
   "metadata": {
    "collapsed": false
   },
   "outputs": [
    {
     "data": {
      "text/plain": [
       "20"
      ]
     },
     "execution_count": 13,
     "metadata": {},
     "output_type": "execute_result"
    }
   ],
   "source": [
    "len(stations)"
   ]
  },
  {
   "cell_type": "code",
   "execution_count": null,
   "metadata": {
    "collapsed": true
   },
   "outputs": [],
   "source": [
    "def get_pagination(request):\n",
    "    \"pagination\":{\"page\":12,\"per_page\":100,\"count\":1054,\"pages\":11}}\n",
    "    "
   ]
  },
  {
   "cell_type": "code",
   "execution_count": null,
   "metadata": {
    "collapsed": true
   },
   "outputs": [],
   "source": []
  },
  {
   "cell_type": "code",
   "execution_count": 15,
   "metadata": {
    "collapsed": false
   },
   "outputs": [
    {
     "data": {
      "text/plain": [
       "{'fuel_stations': [{'access_days_time': '24 hours daily',\n",
       "   'bd_blends': None,\n",
       "   'cards_accepted': None,\n",
       "   'city': 'Denver',\n",
       "   'date_last_confirmed': '2017-09-23',\n",
       "   'distance': 0.24074,\n",
       "   'e85_blender_pump': None,\n",
       "   'ev_connector_types': ['J1772'],\n",
       "   'ev_dc_fast_num': None,\n",
       "   'ev_level1_evse_num': None,\n",
       "   'ev_level2_evse_num': 1,\n",
       "   'ev_network': 'ChargePoint Network',\n",
       "   'ev_network_ids': {'posts': ['1:183793']},\n",
       "   'ev_network_web': 'http://www.chargepoint.com/',\n",
       "   'ev_other_evse': None,\n",
       "   'expected_date': None,\n",
       "   'fuel_type_code': 'ELEC',\n",
       "   'geocode_status': 'GPS',\n",
       "   'groups_with_access_code': 'Public',\n",
       "   'hy_status_link': None,\n",
       "   'id': 85932,\n",
       "   'intersection_directions': 'CULTURAL CTR 3A; On Level 3 near the elevators',\n",
       "   'latitude': 39.7360835,\n",
       "   'longitude': -104.9881709,\n",
       "   'lpg_primary': None,\n",
       "   'ng_fill_type_code': None,\n",
       "   'ng_psi': None,\n",
       "   'ng_vehicle_class': None,\n",
       "   'open_date': None,\n",
       "   'owner_type_code': None,\n",
       "   'plus4': None,\n",
       "   'state': 'CO',\n",
       "   'station_name': 'PUBLIC STATIONS',\n",
       "   'station_phone': '888-758-4389',\n",
       "   'status_code': 'E',\n",
       "   'street_address': '55 W 12th Ave',\n",
       "   'updated_at': '2017-09-23T08:09:09Z',\n",
       "   'zip': '80204'},\n",
       "  {'access_days_time': 'Garage business hours; pay lot',\n",
       "   'bd_blends': None,\n",
       "   'cards_accepted': None,\n",
       "   'city': 'Denver',\n",
       "   'date_last_confirmed': '2016-11-02',\n",
       "   'distance': 0.29384,\n",
       "   'e85_blender_pump': None,\n",
       "   'ev_connector_types': ['J1772', 'CHADEMO'],\n",
       "   'ev_dc_fast_num': 1,\n",
       "   'ev_level1_evse_num': None,\n",
       "   'ev_level2_evse_num': 2,\n",
       "   'ev_network': None,\n",
       "   'ev_network_web': None,\n",
       "   'ev_other_evse': None,\n",
       "   'expected_date': None,\n",
       "   'fuel_type_code': 'ELEC',\n",
       "   'geocode_status': '200-8',\n",
       "   'groups_with_access_code': 'Public',\n",
       "   'hy_status_link': None,\n",
       "   'id': 50065,\n",
       "   'intersection_directions': 'Located on level 3 by the elevator',\n",
       "   'latitude': 39.735271,\n",
       "   'longitude': -104.9885199,\n",
       "   'lpg_primary': None,\n",
       "   'ng_fill_type_code': None,\n",
       "   'ng_psi': None,\n",
       "   'ng_vehicle_class': None,\n",
       "   'open_date': '2012-12-01',\n",
       "   'owner_type_code': 'LG',\n",
       "   'plus4': None,\n",
       "   'state': 'CO',\n",
       "   'station_name': 'City of Denver - Cultural Center Complex Garage',\n",
       "   'station_phone': '303-640-1096',\n",
       "   'status_code': 'E',\n",
       "   'street_address': '65 W 12th Ave',\n",
       "   'updated_at': '2017-01-18T01:27:23Z',\n",
       "   'zip': '80204'},\n",
       "  {'access_days_time': '24 hours daily',\n",
       "   'bd_blends': None,\n",
       "   'cards_accepted': None,\n",
       "   'city': 'Denver',\n",
       "   'date_last_confirmed': '2017-09-23',\n",
       "   'distance': 0.30101,\n",
       "   'e85_blender_pump': None,\n",
       "   'ev_connector_types': ['J1772'],\n",
       "   'ev_dc_fast_num': None,\n",
       "   'ev_level1_evse_num': None,\n",
       "   'ev_level2_evse_num': 1,\n",
       "   'ev_network': 'ChargePoint Network',\n",
       "   'ev_network_ids': {'posts': ['1:74433']},\n",
       "   'ev_network_web': 'http://www.chargepoint.com/',\n",
       "   'ev_other_evse': None,\n",
       "   'expected_date': None,\n",
       "   'fuel_type_code': 'ELEC',\n",
       "   'geocode_status': 'GPS',\n",
       "   'groups_with_access_code': 'Public',\n",
       "   'hy_status_link': None,\n",
       "   'id': 53942,\n",
       "   'intersection_directions': 'BANNOCK LOT 1; -',\n",
       "   'latitude': 39.7376694,\n",
       "   'longitude': -104.9904124,\n",
       "   'lpg_primary': None,\n",
       "   'ng_fill_type_code': None,\n",
       "   'ng_psi': None,\n",
       "   'ng_vehicle_class': None,\n",
       "   'open_date': None,\n",
       "   'owner_type_code': None,\n",
       "   'plus4': None,\n",
       "   'state': 'CO',\n",
       "   'station_name': 'PUBLIC STATIONS',\n",
       "   'station_phone': '888-758-4389',\n",
       "   'status_code': 'E',\n",
       "   'street_address': '1345 Bannock St',\n",
       "   'updated_at': '2017-09-23T09:29:27Z',\n",
       "   'zip': '80204'},\n",
       "  {'access_days_time': 'MO: 12:00am-12:00am; TU: 12:00am-12:00am; WE: 12:00am-12:00am; TH: 12:00am-12:00am; FR: 12:00am-12:00am; SA: 12:00am-12:00am; SU: 12:00am-12:00am',\n",
       "   'bd_blends': None,\n",
       "   'cards_accepted': None,\n",
       "   'city': 'Denver',\n",
       "   'date_last_confirmed': '2017-09-23',\n",
       "   'distance': 0.35886,\n",
       "   'e85_blender_pump': None,\n",
       "   'ev_connector_types': ['J1772'],\n",
       "   'ev_dc_fast_num': None,\n",
       "   'ev_level1_evse_num': None,\n",
       "   'ev_level2_evse_num': 4,\n",
       "   'ev_network': 'SemaCharge Network',\n",
       "   'ev_network_ids': {'posts': ['4405', '4406', '4407', '4408'],\n",
       "    'station': ['1620']},\n",
       "   'ev_network_web': 'http://www.semacharge.com/',\n",
       "   'ev_other_evse': None,\n",
       "   'expected_date': None,\n",
       "   'fuel_type_code': 'ELEC',\n",
       "   'geocode_status': 'GPS',\n",
       "   'groups_with_access_code': 'Public - Card key at all times',\n",
       "   'hy_status_link': None,\n",
       "   'id': 80053,\n",
       "   'intersection_directions': 'The stations are on level 2 of the garage.\\nThe stations are on level 2 of the garage.\\nThe stations are on level 2 of the garage.\\nThe stations are on level 2 of the garage.',\n",
       "   'latitude': 39.743633,\n",
       "   'longitude': -104.9854667,\n",
       "   'lpg_primary': None,\n",
       "   'ng_fill_type_code': None,\n",
       "   'ng_psi': None,\n",
       "   'ng_vehicle_class': None,\n",
       "   'open_date': None,\n",
       "   'owner_type_code': None,\n",
       "   'plus4': None,\n",
       "   'state': 'CO',\n",
       "   'station_name': 'Wells Fargo Center',\n",
       "   'station_phone': '800-663-5633',\n",
       "   'status_code': 'E',\n",
       "   'street_address': '1700 Sherman Street',\n",
       "   'updated_at': '2017-09-23T07:54:24Z',\n",
       "   'zip': '80203'},\n",
       "  {'access_days_time': '24 hours daily; pay lot',\n",
       "   'bd_blends': None,\n",
       "   'cards_accepted': None,\n",
       "   'city': 'Denver',\n",
       "   'date_last_confirmed': '2016-11-02',\n",
       "   'distance': 0.43288,\n",
       "   'e85_blender_pump': None,\n",
       "   'ev_connector_types': ['NEMA515', 'J1772'],\n",
       "   'ev_dc_fast_num': None,\n",
       "   'ev_level1_evse_num': 2,\n",
       "   'ev_level2_evse_num': 2,\n",
       "   'ev_network': None,\n",
       "   'ev_network_web': None,\n",
       "   'ev_other_evse': None,\n",
       "   'expected_date': None,\n",
       "   'fuel_type_code': 'ELEC',\n",
       "   'geocode_status': '200-8',\n",
       "   'groups_with_access_code': 'Public',\n",
       "   'hy_status_link': None,\n",
       "   'id': 43833,\n",
       "   'intersection_directions': None,\n",
       "   'latitude': 39.7421201,\n",
       "   'longitude': -104.9914479,\n",
       "   'lpg_primary': None,\n",
       "   'ng_fill_type_code': None,\n",
       "   'ng_psi': None,\n",
       "   'ng_vehicle_class': None,\n",
       "   'open_date': '2011-02-28',\n",
       "   'owner_type_code': 'P',\n",
       "   'plus4': None,\n",
       "   'state': 'CO',\n",
       "   'station_name': 'Tremont Street Garage',\n",
       "   'station_phone': '303-534-7559',\n",
       "   'status_code': 'E',\n",
       "   'street_address': '400 15th St',\n",
       "   'updated_at': '2017-01-18T02:47:58Z',\n",
       "   'zip': '80202'},\n",
       "  {'access_days_time': '24 hours daily',\n",
       "   'bd_blends': None,\n",
       "   'cards_accepted': None,\n",
       "   'city': 'Denver',\n",
       "   'date_last_confirmed': '2016-11-02',\n",
       "   'distance': 0.47617,\n",
       "   'e85_blender_pump': None,\n",
       "   'ev_connector_types': ['J1772'],\n",
       "   'ev_dc_fast_num': None,\n",
       "   'ev_level1_evse_num': None,\n",
       "   'ev_level2_evse_num': 1,\n",
       "   'ev_network': None,\n",
       "   'ev_network_web': None,\n",
       "   'ev_other_evse': None,\n",
       "   'expected_date': None,\n",
       "   'fuel_type_code': 'ELEC',\n",
       "   'geocode_status': '200-8',\n",
       "   'groups_with_access_code': 'Public',\n",
       "   'hy_status_link': None,\n",
       "   'id': 53945,\n",
       "   'intersection_directions': 'Level 2, at the top of the entrance ramp, SW corner',\n",
       "   'latitude': 39.738334,\n",
       "   'longitude': -104.9937917,\n",
       "   'lpg_primary': None,\n",
       "   'ng_fill_type_code': None,\n",
       "   'ng_psi': None,\n",
       "   'ng_vehicle_class': None,\n",
       "   'open_date': '2013-06-01',\n",
       "   'owner_type_code': 'LG',\n",
       "   'plus4': None,\n",
       "   'state': 'CO',\n",
       "   'station_name': 'City of Denver - Denver Justice Center Garage',\n",
       "   'station_phone': '303-607-9093  720-913-1750',\n",
       "   'status_code': 'E',\n",
       "   'street_address': '490 W 14th Ave',\n",
       "   'updated_at': '2017-01-18T01:51:53Z',\n",
       "   'zip': '80204'},\n",
       "  {'access_days_time': '24 hours daily',\n",
       "   'bd_blends': None,\n",
       "   'cards_accepted': None,\n",
       "   'city': 'Denver',\n",
       "   'date_last_confirmed': '2017-09-23',\n",
       "   'distance': 0.48894,\n",
       "   'e85_blender_pump': None,\n",
       "   'ev_connector_types': ['J1772'],\n",
       "   'ev_dc_fast_num': None,\n",
       "   'ev_level1_evse_num': None,\n",
       "   'ev_level2_evse_num': 1,\n",
       "   'ev_network': 'ChargePoint Network',\n",
       "   'ev_network_ids': {'posts': ['1:74363']},\n",
       "   'ev_network_web': 'http://www.chargepoint.com/',\n",
       "   'ev_other_evse': None,\n",
       "   'expected_date': None,\n",
       "   'fuel_type_code': 'ELEC',\n",
       "   'geocode_status': 'GPS',\n",
       "   'groups_with_access_code': 'Public',\n",
       "   'hy_status_link': None,\n",
       "   'id': 65434,\n",
       "   'intersection_directions': 'JUSTICE CENTER; Adjacent to space 32 on level 2',\n",
       "   'latitude': 39.737921,\n",
       "   'longitude': -104.9940067,\n",
       "   'lpg_primary': None,\n",
       "   'ng_fill_type_code': None,\n",
       "   'ng_psi': None,\n",
       "   'ng_vehicle_class': None,\n",
       "   'open_date': None,\n",
       "   'owner_type_code': None,\n",
       "   'plus4': None,\n",
       "   'state': 'CO',\n",
       "   'station_name': 'PUBLIC STATIONS',\n",
       "   'station_phone': '888-758-4389',\n",
       "   'status_code': 'E',\n",
       "   'street_address': '1370 Elati St',\n",
       "   'updated_at': '2017-09-23T09:29:27Z',\n",
       "   'zip': '80204'},\n",
       "  {'access_days_time': '24 hours daily',\n",
       "   'bd_blends': None,\n",
       "   'cards_accepted': None,\n",
       "   'city': 'Denver',\n",
       "   'date_last_confirmed': '2017-09-23',\n",
       "   'distance': 0.55266,\n",
       "   'e85_blender_pump': None,\n",
       "   'ev_connector_types': ['J1772'],\n",
       "   'ev_dc_fast_num': None,\n",
       "   'ev_level1_evse_num': None,\n",
       "   'ev_level2_evse_num': 2,\n",
       "   'ev_network': 'ChargePoint Network',\n",
       "   'ev_network_ids': {'posts': ['1:149247']},\n",
       "   'ev_network_web': 'http://www.chargepoint.com/',\n",
       "   'ev_other_evse': None,\n",
       "   'expected_date': None,\n",
       "   'fuel_type_code': 'ELEC',\n",
       "   'geocode_status': 'GPS',\n",
       "   'groups_with_access_code': 'Public',\n",
       "   'hy_status_link': None,\n",
       "   'id': 75913,\n",
       "   'intersection_directions': 'LEVEL 2; Floor 2, residents and guests only',\n",
       "   'latitude': 39.7325675,\n",
       "   'longitude': -104.9918917,\n",
       "   'lpg_primary': None,\n",
       "   'ng_fill_type_code': None,\n",
       "   'ng_psi': None,\n",
       "   'ng_vehicle_class': None,\n",
       "   'open_date': None,\n",
       "   'owner_type_code': None,\n",
       "   'plus4': None,\n",
       "   'state': 'CO',\n",
       "   'station_name': 'JOULE',\n",
       "   'station_phone': '888-758-4389',\n",
       "   'status_code': 'E',\n",
       "   'street_address': '1000 Speer',\n",
       "   'updated_at': '2017-09-23T08:30:47Z',\n",
       "   'zip': '80204'},\n",
       "  {'access_days_time': '24 hours daily',\n",
       "   'bd_blends': None,\n",
       "   'cards_accepted': None,\n",
       "   'city': 'Denver',\n",
       "   'date_last_confirmed': '2017-09-23',\n",
       "   'distance': 0.5553,\n",
       "   'e85_blender_pump': None,\n",
       "   'ev_connector_types': ['J1772'],\n",
       "   'ev_dc_fast_num': None,\n",
       "   'ev_level1_evse_num': None,\n",
       "   'ev_level2_evse_num': 2,\n",
       "   'ev_network': 'ChargePoint Network',\n",
       "   'ev_network_ids': {'posts': ['1:150057']},\n",
       "   'ev_network_web': 'http://www.chargepoint.com/',\n",
       "   'ev_other_evse': None,\n",
       "   'expected_date': None,\n",
       "   'fuel_type_code': 'ELEC',\n",
       "   'geocode_status': 'GPS',\n",
       "   'groups_with_access_code': 'Public',\n",
       "   'hy_status_link': None,\n",
       "   'id': 75910,\n",
       "   'intersection_directions': 'LEVEL 1; Garage entrance, residents and guests only',\n",
       "   'latitude': 39.7325011,\n",
       "   'longitude': -104.9918712,\n",
       "   'lpg_primary': None,\n",
       "   'ng_fill_type_code': None,\n",
       "   'ng_psi': None,\n",
       "   'ng_vehicle_class': None,\n",
       "   'open_date': None,\n",
       "   'owner_type_code': None,\n",
       "   'plus4': None,\n",
       "   'state': 'CO',\n",
       "   'station_name': 'JOULE',\n",
       "   'station_phone': '888-758-4389',\n",
       "   'status_code': 'E',\n",
       "   'street_address': '1000 Speer Blvd',\n",
       "   'updated_at': '2017-09-23T08:30:09Z',\n",
       "   'zip': '80204'},\n",
       "  {'access_days_time': '24 hours daily; pay lot',\n",
       "   'bd_blends': None,\n",
       "   'cards_accepted': None,\n",
       "   'city': 'Denver',\n",
       "   'date_last_confirmed': '2016-11-02',\n",
       "   'distance': 0.57515,\n",
       "   'e85_blender_pump': None,\n",
       "   'ev_connector_types': ['NEMA520'],\n",
       "   'ev_dc_fast_num': None,\n",
       "   'ev_level1_evse_num': 4,\n",
       "   'ev_level2_evse_num': None,\n",
       "   'ev_network': None,\n",
       "   'ev_network_web': None,\n",
       "   'ev_other_evse': None,\n",
       "   'expected_date': None,\n",
       "   'fuel_type_code': 'ELEC',\n",
       "   'geocode_status': '200-8',\n",
       "   'groups_with_access_code': 'Public',\n",
       "   'hy_status_link': None,\n",
       "   'id': 36353,\n",
       "   'intersection_directions': 'At Colorado Convention Center, level 2',\n",
       "   'latitude': 39.7435358,\n",
       "   'longitude': -104.9934125,\n",
       "   'lpg_primary': None,\n",
       "   'ng_fill_type_code': None,\n",
       "   'ng_psi': None,\n",
       "   'ng_vehicle_class': None,\n",
       "   'open_date': '2010-03-15',\n",
       "   'owner_type_code': 'P',\n",
       "   'plus4': None,\n",
       "   'state': 'CO',\n",
       "   'station_name': 'Hyatt Regency Denver',\n",
       "   'station_phone': '303-486-4467',\n",
       "   'status_code': 'E',\n",
       "   'street_address': '650 15th St',\n",
       "   'updated_at': '2017-01-18T02:56:29Z',\n",
       "   'zip': '80202'},\n",
       "  {'access_days_time': '24 hours daily',\n",
       "   'bd_blends': None,\n",
       "   'cards_accepted': None,\n",
       "   'city': 'Denver',\n",
       "   'date_last_confirmed': '2017-09-23',\n",
       "   'distance': 0.61061,\n",
       "   'e85_blender_pump': None,\n",
       "   'ev_connector_types': ['J1772'],\n",
       "   'ev_dc_fast_num': None,\n",
       "   'ev_level1_evse_num': None,\n",
       "   'ev_level2_evse_num': 2,\n",
       "   'ev_network': 'ChargePoint Network',\n",
       "   'ev_network_ids': {'posts': ['1:118249']},\n",
       "   'ev_network_web': 'http://www.chargepoint.com/',\n",
       "   'ev_other_evse': None,\n",
       "   'expected_date': None,\n",
       "   'fuel_type_code': 'ELEC',\n",
       "   'geocode_status': 'GPS',\n",
       "   'groups_with_access_code': 'Public',\n",
       "   'hy_status_link': None,\n",
       "   'id': 66897,\n",
       "   'intersection_directions': '816 ACOMA 1; For residents only - 5th Floor',\n",
       "   'latitude': 39.7300224,\n",
       "   'longitude': -104.9883424,\n",
       "   'lpg_primary': None,\n",
       "   'ng_fill_type_code': None,\n",
       "   'ng_psi': None,\n",
       "   'ng_vehicle_class': None,\n",
       "   'open_date': None,\n",
       "   'owner_type_code': None,\n",
       "   'plus4': None,\n",
       "   'state': 'CO',\n",
       "   'station_name': 'UDR',\n",
       "   'station_phone': '888-758-4389',\n",
       "   'status_code': 'E',\n",
       "   'street_address': '800 Acoma St',\n",
       "   'updated_at': '2017-09-23T08:54:22Z',\n",
       "   'zip': '80204'},\n",
       "  {'access_days_time': '24 hours daily',\n",
       "   'bd_blends': None,\n",
       "   'cards_accepted': None,\n",
       "   'city': 'Denver',\n",
       "   'date_last_confirmed': '2017-09-23',\n",
       "   'distance': 0.69017,\n",
       "   'e85_blender_pump': None,\n",
       "   'ev_connector_types': ['J1772'],\n",
       "   'ev_dc_fast_num': None,\n",
       "   'ev_level1_evse_num': None,\n",
       "   'ev_level2_evse_num': 2,\n",
       "   'ev_network': 'ChargePoint Network',\n",
       "   'ev_network_ids': {'posts': ['1:107401']},\n",
       "   'ev_network_web': 'http://www.chargepoint.com/',\n",
       "   'ev_other_evse': None,\n",
       "   'expected_date': None,\n",
       "   'fuel_type_code': 'ELEC',\n",
       "   'geocode_status': 'GPS',\n",
       "   'groups_with_access_code': 'Public',\n",
       "   'hy_status_link': None,\n",
       "   'id': 65319,\n",
       "   'intersection_directions': '1801 CAL 01; -',\n",
       "   'latitude': 39.7477036,\n",
       "   'longitude': -104.9897862,\n",
       "   'lpg_primary': None,\n",
       "   'ng_fill_type_code': None,\n",
       "   'ng_psi': None,\n",
       "   'ng_vehicle_class': None,\n",
       "   'open_date': None,\n",
       "   'owner_type_code': None,\n",
       "   'plus4': None,\n",
       "   'state': 'CO',\n",
       "   'station_name': 'BROOKFIELD WEST',\n",
       "   'station_phone': '888-758-4389',\n",
       "   'status_code': 'E',\n",
       "   'street_address': '1801 California St',\n",
       "   'updated_at': '2017-09-23T09:10:22Z',\n",
       "   'zip': '80202'},\n",
       "  {'access_days_time': '24 hours daily',\n",
       "   'bd_blends': None,\n",
       "   'cards_accepted': None,\n",
       "   'city': 'Denver',\n",
       "   'date_last_confirmed': '2016-11-02',\n",
       "   'distance': 0.72698,\n",
       "   'e85_blender_pump': None,\n",
       "   'ev_connector_types': ['J1772'],\n",
       "   'ev_dc_fast_num': None,\n",
       "   'ev_level1_evse_num': None,\n",
       "   'ev_level2_evse_num': 1,\n",
       "   'ev_network': None,\n",
       "   'ev_network_web': None,\n",
       "   'ev_other_evse': None,\n",
       "   'expected_date': None,\n",
       "   'fuel_type_code': 'ELEC',\n",
       "   'geocode_status': 'GPS',\n",
       "   'groups_with_access_code': 'Public',\n",
       "   'hy_status_link': None,\n",
       "   'id': 53944,\n",
       "   'intersection_directions': 'Parking space 1081. Level P-1, half way down the level near the freight elevator',\n",
       "   'latitude': 39.742308,\n",
       "   'longitude': -104.997556,\n",
       "   'lpg_primary': None,\n",
       "   'ng_fill_type_code': None,\n",
       "   'ng_psi': None,\n",
       "   'ng_vehicle_class': None,\n",
       "   'open_date': '2013-06-01',\n",
       "   'owner_type_code': 'LG',\n",
       "   'plus4': None,\n",
       "   'state': 'CO',\n",
       "   'station_name': 'City of Denver - Colorado Convention Center Garage',\n",
       "   'station_phone': '303-228-8071  720-913-1750',\n",
       "   'status_code': 'E',\n",
       "   'street_address': '1104 Champa St',\n",
       "   'updated_at': '2017-01-18T01:27:40Z',\n",
       "   'zip': '80202'},\n",
       "  {'access_days_time': '24 hours daily',\n",
       "   'bd_blends': None,\n",
       "   'cards_accepted': None,\n",
       "   'city': 'Denver',\n",
       "   'date_last_confirmed': '2017-09-23',\n",
       "   'distance': 0.73327,\n",
       "   'e85_blender_pump': None,\n",
       "   'ev_connector_types': ['J1772'],\n",
       "   'ev_dc_fast_num': None,\n",
       "   'ev_level1_evse_num': None,\n",
       "   'ev_level2_evse_num': 1,\n",
       "   'ev_network': 'ChargePoint Network',\n",
       "   'ev_network_ids': {'posts': ['1:113141']},\n",
       "   'ev_network_web': 'http://www.chargepoint.com/',\n",
       "   'ev_other_evse': None,\n",
       "   'expected_date': None,\n",
       "   'fuel_type_code': 'ELEC',\n",
       "   'geocode_status': 'GPS',\n",
       "   'groups_with_access_code': 'Public',\n",
       "   'hy_status_link': None,\n",
       "   'id': 65578,\n",
       "   'intersection_directions': 'PORTE COCHERE; Located in the Spire porte cochere off Champa. Available to the public while charging a vehicle at $5 per hour.  Registered resident rate is $2 per hour.',\n",
       "   'latitude': 39.7448438,\n",
       "   'longitude': -104.9958538,\n",
       "   'lpg_primary': None,\n",
       "   'ng_fill_type_code': None,\n",
       "   'ng_psi': None,\n",
       "   'ng_vehicle_class': None,\n",
       "   'open_date': None,\n",
       "   'owner_type_code': None,\n",
       "   'plus4': None,\n",
       "   'state': 'CO',\n",
       "   'station_name': 'SPIRE',\n",
       "   'station_phone': '888-758-4389',\n",
       "   'status_code': 'E',\n",
       "   'street_address': '891 14th St',\n",
       "   'updated_at': '2017-09-23T09:03:26Z',\n",
       "   'zip': '80202'},\n",
       "  {'access_days_time': '24 hours daily',\n",
       "   'bd_blends': None,\n",
       "   'cards_accepted': None,\n",
       "   'city': 'Denver',\n",
       "   'date_last_confirmed': '2017-09-23',\n",
       "   'distance': 0.74554,\n",
       "   'e85_blender_pump': None,\n",
       "   'ev_connector_types': ['J1772'],\n",
       "   'ev_dc_fast_num': None,\n",
       "   'ev_level1_evse_num': None,\n",
       "   'ev_level2_evse_num': 1,\n",
       "   'ev_network': 'ChargePoint Network',\n",
       "   'ev_network_ids': {'posts': ['1:74153']},\n",
       "   'ev_network_web': 'http://www.chargepoint.com/',\n",
       "   'ev_other_evse': None,\n",
       "   'expected_date': None,\n",
       "   'fuel_type_code': 'ELEC',\n",
       "   'geocode_status': 'GPS',\n",
       "   'groups_with_access_code': 'Public',\n",
       "   'hy_status_link': None,\n",
       "   'id': 65432,\n",
       "   'intersection_directions': 'CONVENTION CTR; Enter garage off Speer before Champa. Located in space 1081 on Level 1',\n",
       "   'latitude': 39.7431367,\n",
       "   'longitude': -104.9974677,\n",
       "   'lpg_primary': None,\n",
       "   'ng_fill_type_code': None,\n",
       "   'ng_psi': None,\n",
       "   'ng_vehicle_class': None,\n",
       "   'open_date': None,\n",
       "   'owner_type_code': None,\n",
       "   'plus4': None,\n",
       "   'state': 'CO',\n",
       "   'station_name': 'PUBLIC STATIONS',\n",
       "   'station_phone': '888-758-4389',\n",
       "   'status_code': 'E',\n",
       "   'street_address': '1286-1296 Stout St',\n",
       "   'updated_at': '2017-09-23T09:29:28Z',\n",
       "   'zip': '80202'},\n",
       "  {'access_days_time': '24 hours daily; pay lot',\n",
       "   'bd_blends': None,\n",
       "   'cards_accepted': None,\n",
       "   'city': 'Denver',\n",
       "   'date_last_confirmed': '2016-11-02',\n",
       "   'distance': 0.79883,\n",
       "   'e85_blender_pump': None,\n",
       "   'ev_connector_types': ['J1772', 'CHADEMO'],\n",
       "   'ev_dc_fast_num': 1,\n",
       "   'ev_level1_evse_num': None,\n",
       "   'ev_level2_evse_num': 2,\n",
       "   'ev_network': None,\n",
       "   'ev_network_web': None,\n",
       "   'ev_other_evse': None,\n",
       "   'expected_date': None,\n",
       "   'fuel_type_code': 'ELEC',\n",
       "   'geocode_status': 'GPS',\n",
       "   'groups_with_access_code': 'Public',\n",
       "   'hy_status_link': None,\n",
       "   'id': 50066,\n",
       "   'intersection_directions': 'Located on level 4 by the elevators',\n",
       "   'latitude': 39.743919,\n",
       "   'longitude': -104.998075,\n",
       "   'lpg_primary': None,\n",
       "   'ng_fill_type_code': None,\n",
       "   'ng_psi': None,\n",
       "   'ng_vehicle_class': None,\n",
       "   'open_date': '2012-12-01',\n",
       "   'owner_type_code': 'LG',\n",
       "   'plus4': None,\n",
       "   'state': 'CO',\n",
       "   'station_name': 'City of Denver - Denver Performing Arts Center Garage',\n",
       "   'station_phone': '303-607-9093  720-913-1750',\n",
       "   'status_code': 'E',\n",
       "   'street_address': '1055 13th St',\n",
       "   'updated_at': '2017-01-18T01:27:39Z',\n",
       "   'zip': '80204'},\n",
       "  {'access_days_time': '24 hours daily',\n",
       "   'bd_blends': None,\n",
       "   'cards_accepted': None,\n",
       "   'city': 'Denver',\n",
       "   'date_last_confirmed': '2017-09-23',\n",
       "   'distance': 0.80931,\n",
       "   'e85_blender_pump': None,\n",
       "   'ev_connector_types': ['J1772'],\n",
       "   'ev_dc_fast_num': None,\n",
       "   'ev_level1_evse_num': None,\n",
       "   'ev_level2_evse_num': 4,\n",
       "   'ev_network': 'ChargePoint Network',\n",
       "   'ev_network_ids': {'posts': ['1:192263', '1:190855']},\n",
       "   'ev_network_web': 'http://www.chargepoint.com/',\n",
       "   'ev_other_evse': None,\n",
       "   'expected_date': None,\n",
       "   'fuel_type_code': 'ELEC',\n",
       "   'geocode_status': '200-8',\n",
       "   'groups_with_access_code': 'Public',\n",
       "   'hy_status_link': None,\n",
       "   'id': 85916,\n",
       "   'intersection_directions': 'DENVERPLACE02; Parking garage rates plus EV charging station fees apply \\nDENVERPLACE01; -Parking garage rates plus EV charging station fees apply ',\n",
       "   'latitude': 39.748797,\n",
       "   'longitude': -104.99202,\n",
       "   'lpg_primary': None,\n",
       "   'ng_fill_type_code': None,\n",
       "   'ng_psi': None,\n",
       "   'ng_vehicle_class': None,\n",
       "   'open_date': None,\n",
       "   'owner_type_code': None,\n",
       "   'plus4': None,\n",
       "   'state': 'CO',\n",
       "   'station_name': 'LBA REALTY',\n",
       "   'station_phone': '888-758-4389',\n",
       "   'status_code': 'E',\n",
       "   'street_address': '999 18th St',\n",
       "   'updated_at': '2017-09-23T08:03:57Z',\n",
       "   'zip': '80202'},\n",
       "  {'access_days_time': 'MO: 12:00am-12:00am; TU: 12:00am-12:00am; WE: 12:00am-12:00am; TH: 12:00am-12:00am; FR: 12:00am-12:00am; SA: 12:00am-12:00am; SU: 12:00am-12:00am',\n",
       "   'bd_blends': None,\n",
       "   'cards_accepted': None,\n",
       "   'city': 'Denver',\n",
       "   'date_last_confirmed': '2017-09-23',\n",
       "   'distance': 0.8538,\n",
       "   'e85_blender_pump': None,\n",
       "   'ev_connector_types': ['J1772'],\n",
       "   'ev_dc_fast_num': None,\n",
       "   'ev_level1_evse_num': None,\n",
       "   'ev_level2_evse_num': 1,\n",
       "   'ev_network': 'SemaCharge Network',\n",
       "   'ev_network_ids': {'posts': ['3239'], 'station': ['1300']},\n",
       "   'ev_network_web': 'http://www.semacharge.com/',\n",
       "   'ev_other_evse': None,\n",
       "   'expected_date': None,\n",
       "   'fuel_type_code': 'ELEC',\n",
       "   'geocode_status': 'GPS',\n",
       "   'groups_with_access_code': 'Public - Card key at all times',\n",
       "   'hy_status_link': None,\n",
       "   'id': 72629,\n",
       "   'intersection_directions': 'Stations are located on P1 Level',\n",
       "   'latitude': 39.7487525,\n",
       "   'longitude': -104.9937407,\n",
       "   'lpg_primary': None,\n",
       "   'ng_fill_type_code': None,\n",
       "   'ng_psi': None,\n",
       "   'ng_vehicle_class': None,\n",
       "   'open_date': None,\n",
       "   'owner_type_code': None,\n",
       "   'plus4': None,\n",
       "   'state': 'CO',\n",
       "   'station_name': '1001 - 17th Street',\n",
       "   'station_phone': '800-663-5633',\n",
       "   'status_code': 'E',\n",
       "   'street_address': '1001 - 17th Street',\n",
       "   'updated_at': '2017-09-23T07:54:24Z',\n",
       "   'zip': '80202'},\n",
       "  {'access_days_time': '24 hours daily; for Tesla use only; see valet for access',\n",
       "   'bd_blends': None,\n",
       "   'cards_accepted': None,\n",
       "   'city': 'Denver ',\n",
       "   'date_last_confirmed': '2016-09-02',\n",
       "   'distance': 0.8825,\n",
       "   'e85_blender_pump': None,\n",
       "   'ev_connector_types': ['TESLA'],\n",
       "   'ev_dc_fast_num': None,\n",
       "   'ev_level1_evse_num': None,\n",
       "   'ev_level2_evse_num': 2,\n",
       "   'ev_network': 'Tesla',\n",
       "   'ev_network_web': 'http://www.teslamotors.com/supercharger',\n",
       "   'ev_other_evse': None,\n",
       "   'expected_date': None,\n",
       "   'fuel_type_code': 'ELEC',\n",
       "   'geocode_status': '200-8',\n",
       "   'groups_with_access_code': 'Public',\n",
       "   'hy_status_link': None,\n",
       "   'id': 77499,\n",
       "   'intersection_directions': None,\n",
       "   'latitude': 39.7499978,\n",
       "   'longitude': -104.9919883,\n",
       "   'lpg_primary': None,\n",
       "   'ng_fill_type_code': None,\n",
       "   'ng_psi': None,\n",
       "   'ng_vehicle_class': None,\n",
       "   'open_date': '2016-07-15',\n",
       "   'owner_type_code': 'P',\n",
       "   'plus4': None,\n",
       "   'state': 'CO',\n",
       "   'station_name': 'The Ritz-Carlton - Tesla',\n",
       "   'station_phone': '303-312-3800  877-798-3789',\n",
       "   'status_code': 'E',\n",
       "   'street_address': '1881 Curtis St',\n",
       "   'updated_at': '2017-01-18T01:05:37Z',\n",
       "   'zip': '80202'},\n",
       "  {'access_days_time': '24 hours daily; for patron use only; see valet for access',\n",
       "   'bd_blends': None,\n",
       "   'cards_accepted': None,\n",
       "   'city': 'Denver',\n",
       "   'date_last_confirmed': '2016-05-09',\n",
       "   'distance': 0.89667,\n",
       "   'e85_blender_pump': None,\n",
       "   'ev_connector_types': ['TESLA', 'J1772'],\n",
       "   'ev_dc_fast_num': None,\n",
       "   'ev_level1_evse_num': None,\n",
       "   'ev_level2_evse_num': 4,\n",
       "   'ev_network': 'Tesla',\n",
       "   'ev_network_web': 'http://www.teslamotors.com/supercharger',\n",
       "   'ev_other_evse': None,\n",
       "   'expected_date': None,\n",
       "   'fuel_type_code': 'ELEC',\n",
       "   'geocode_status': '200-8',\n",
       "   'groups_with_access_code': 'Public',\n",
       "   'hy_status_link': None,\n",
       "   'id': 70744,\n",
       "   'intersection_directions': None,\n",
       "   'latitude': 39.7465555,\n",
       "   'longitude': -104.9980168,\n",
       "   'lpg_primary': None,\n",
       "   'ng_fill_type_code': None,\n",
       "   'ng_psi': None,\n",
       "   'ng_vehicle_class': None,\n",
       "   'open_date': '2015-10-01',\n",
       "   'owner_type_code': 'P',\n",
       "   'plus4': None,\n",
       "   'state': 'CO',\n",
       "   'station_name': 'Four Seasons Hotel Denver',\n",
       "   'station_phone': '303-389-3000  877-798-3752',\n",
       "   'status_code': 'E',\n",
       "   'street_address': '1111 14th St',\n",
       "   'updated_at': '2017-01-18T01:23:39Z',\n",
       "   'zip': '80202'}],\n",
       " 'latitude': 39.738453,\n",
       " 'longitude': -104.984853,\n",
       " 'offset': 0,\n",
       " 'precision': {'name': 'locality',\n",
       "  'types': ['locality', 'political'],\n",
       "  'value': 4},\n",
       " 'station_counts': {'fuels': {'BD': {'total': 0},\n",
       "   'CNG': {'total': 3},\n",
       "   'E85': {'total': 1},\n",
       "   'ELEC': {'stations': {'total': 61}, 'total': 138},\n",
       "   'HY': {'total': 0},\n",
       "   'LNG': {'total': 0},\n",
       "   'LPG': {'total': 6}},\n",
       "  'total': 148},\n",
       " 'station_locator_url': 'http://www.afdc.energy.gov/afdc/locator/stations/',\n",
       " 'total_results': 71}"
      ]
     },
     "execution_count": 15,
     "metadata": {},
     "output_type": "execute_result"
    }
   ],
   "source": [
    "response.json()"
   ]
  },
  {
   "cell_type": "code",
   "execution_count": 20,
   "metadata": {
    "collapsed": false
   },
   "outputs": [],
   "source": [
    "url = \"https://api.open.fec.gov/v1/schedules/schedule_a/by_employer/?employer=Goldman%20Sachs&per_page=100&api_key=DEMO_KEY&page=12\""
   ]
  },
  {
   "cell_type": "code",
   "execution_count": 18,
   "metadata": {
    "collapsed": false
   },
   "outputs": [
    {
     "data": {
      "text/plain": [
       "{'api_version': '1.0',\n",
       " 'pagination': {'count': 1054, 'page': 12, 'pages': 11, 'per_page': 100},\n",
       " 'results': []}"
      ]
     },
     "execution_count": 18,
     "metadata": {},
     "output_type": "execute_result"
    }
   ],
   "source": [
    "response.json()"
   ]
  },
  {
   "cell_type": "code",
   "execution_count": 3,
   "metadata": {
    "collapsed": true
   },
   "outputs": [],
   "source": [
    "def get_url(url):\n",
    "    data = requests.get(url).json()\n",
    "    return(data)"
   ]
  },
  {
   "cell_type": "code",
   "execution_count": 26,
   "metadata": {
    "collapsed": false
   },
   "outputs": [
    {
     "name": "stdout",
     "output_type": "stream",
     "text": [
      "{'api_version': '1.0', 'pagination': {'page': 12, 'pages': 11, 'per_page': 100, 'count': 1054}, 'results': []}\n"
     ]
    }
   ],
   "source": [
    "test = get_url(url)\n",
    "print(test)"
   ]
  },
  {
   "cell_type": "code",
   "execution_count": 4,
   "metadata": {
    "collapsed": true
   },
   "outputs": [],
   "source": [
    "def get_pages(data):\n",
    "    pages = data['pagination']['pages']\n",
    "    return pages\n",
    "\n",
    "def get_count(data):\n",
    "    count = data['pagination']['count']\n",
    "    return count"
   ]
  },
  {
   "cell_type": "code",
   "execution_count": 34,
   "metadata": {
    "collapsed": false
   },
   "outputs": [
    {
     "data": {
      "text/plain": [
       "11"
      ]
     },
     "execution_count": 34,
     "metadata": {},
     "output_type": "execute_result"
    }
   ],
   "source": [
    "get_pages(test)"
   ]
  },
  {
   "cell_type": "code",
   "execution_count": 31,
   "metadata": {
    "collapsed": false
   },
   "outputs": [
    {
     "data": {
      "text/plain": [
       "1054"
      ]
     },
     "execution_count": 31,
     "metadata": {},
     "output_type": "execute_result"
    }
   ],
   "source": [
    "get_count(test)"
   ]
  },
  {
   "cell_type": "code",
   "execution_count": null,
   "metadata": {
    "collapsed": true
   },
   "outputs": [],
   "source": [
    "url = \"https://api.open.fec.gov/v1/schedules/schedule_a/by_employer/?employer=Goldman%20Sachs&per_page=100&api_key={}&page={}\".format(api_key, page)"
   ]
  },
  {
   "cell_type": "code",
   "execution_count": 44,
   "metadata": {
    "collapsed": false
   },
   "outputs": [
    {
     "name": "stdout",
     "output_type": "stream",
     "text": [
      "100\n",
      "100\n",
      "100\n",
      "100\n",
      "100\n",
      "100\n",
      "100\n",
      "100\n",
      "100\n",
      "100\n",
      "54\n"
     ]
    }
   ],
   "source": [
    "pages = get_pages(test)\n",
    "for page in range(1, pages+1):\n",
    "    stem = \"https://api.open.fec.gov/v1/schedules/schedule_a/by_employer/\"\n",
    "    end = \"?employer=Goldman%20Sachs&per_page=100&api_key={}&page={}\".format(api_key, page)\n",
    "    url = stem+end\n",
    "    data = get_url(url)\n",
    "    results = data['results']\n",
    "    print(len(results))"
   ]
  },
  {
   "cell_type": "code",
   "execution_count": 112,
   "metadata": {
    "collapsed": false
   },
   "outputs": [
    {
     "name": "stdout",
     "output_type": "stream",
     "text": [
      "<class 'dict'>\n",
      "idx\n",
      "total\n",
      "cycle\n",
      "committee_id\n",
      "count\n",
      "employer\n"
     ]
    },
    {
     "data": {
      "text/plain": [
       "dict_keys(['idx', 'total', 'cycle', 'committee_id', 'count', 'employer'])"
      ]
     },
     "execution_count": 112,
     "metadata": {},
     "output_type": "execute_result"
    }
   ],
   "source": [
    "data = get_url(url)\n",
    "columns = data['results'][1]\n",
    "print(type(columns))\n",
    "for k in columns:\n",
    "    print(k)\n",
    "    \n",
    "\n",
    "columns.keys()\n"
   ]
  },
  {
   "cell_type": "code",
   "execution_count": 119,
   "metadata": {
    "collapsed": false
   },
   "outputs": [],
   "source": [
    "def flattenjson( b, delim ):\n",
    "    val = {}\n",
    "    for i in b.keys():\n",
    "        if isinstance( b[i], dict ):\n",
    "            get = flattenjson( b[i], delim )\n",
    "            for j in get.keys():\n",
    "                val[ i + delim + j ] = get[j]\n",
    "        else:\n",
    "            val[i] = b[i]\n",
    "\n",
    "    return val\n",
    "\n",
    "\n",
    "\n",
    "\n"
   ]
  },
  {
   "cell_type": "code",
   "execution_count": 120,
   "metadata": {
    "collapsed": false
   },
   "outputs": [],
   "source": [
    "# open a file for writing\n",
    "import csv\n",
    "results = data['results']\n",
    "employ_data = open('/tmp/EmployData.csv', 'w')\n",
    "\n",
    "# create the csv writer object\n",
    "csv_file = open('test_fec', 'w')\n",
    "csvwriter = csv.writer(csv_file)\n",
    "\n",
    "count = 0\n",
    "for row in results:\n",
    "    if count == 0:\n",
    "        header = row.keys()\n",
    "        csvwriter.writerow(header)\n",
    "        count += 1\n",
    "    \n",
    "    csvwriter.writerow(row.values())\n",
    "\n",
    "csv_file.close()"
   ]
  },
  {
   "cell_type": "code",
   "execution_count": 19,
   "metadata": {
    "collapsed": true
   },
   "outputs": [],
   "source": [
    "def write_csv_json(json_results, filename=\"jsondata.csv\"):\n",
    "\n",
    "    \n",
    "    # create the csv and writer\n",
    "    csv_file = open(filename, 'a')\n",
    "    csvwriter = csv.writer(csv_file)\n",
    "\n",
    "    count = 0\n",
    "    for row in json_results:\n",
    "        if count == 0:\n",
    "            header = row.keys()\n",
    "            csvwriter.writerow(header)\n",
    "            count += 1\n",
    "\n",
    "        csvwriter.writerow(row.values())\n",
    "\n",
    "    csv_file.close()"
   ]
  },
  {
   "cell_type": "code",
   "execution_count": 122,
   "metadata": {
    "collapsed": true
   },
   "outputs": [],
   "source": [
    "write_csv_json(results, \"mytest.csv\")"
   ]
  },
  {
   "cell_type": "code",
   "execution_count": 128,
   "metadata": {
    "collapsed": false
   },
   "outputs": [],
   "source": [
    "data = get_url(\"https://api.open.fec.gov/v1/schedules/schedule_a/?per_page=100&sort=contribution_receipt_date&contributor_employer=Goldman%20Sachs&api_key=DEMO_KEY&two_year_transaction_period=1996\")\n",
    "results = data['results']"
   ]
  },
  {
   "cell_type": "code",
   "execution_count": 130,
   "metadata": {
    "collapsed": true
   },
   "outputs": [],
   "source": [
    "write_csv_json(results, \"mytest_1996.csv\")"
   ]
  },
  {
   "cell_type": "code",
   "execution_count": 134,
   "metadata": {
    "collapsed": true
   },
   "outputs": [],
   "source": [
    "data = get_url(\"https://api.open.fec.gov/v1/schedules/schedule_a/?per_page=100&sort=contribution_receipt_date&contributor_employer=Goldman%20Sachs&api_key=DEMO_KEY&two_year_transaction_period=2008\")\n",
    "results = data['results']\n",
    "write_csv_json(results, \"mytest_2008.csv\")"
   ]
  },
  {
   "cell_type": "code",
   "execution_count": null,
   "metadata": {
    "collapsed": true
   },
   "outputs": [],
   "source": []
  },
  {
   "cell_type": "code",
   "execution_count": 41,
   "metadata": {
    "collapsed": false
   },
   "outputs": [
    {
     "name": "stdout",
     "output_type": "stream",
     "text": [
      "[*] AYOTTE, KELLY A, REP, candidate for Senate\n"
     ]
    },
    {
     "data": {
      "text/plain": [
       "'REP'"
      ]
     },
     "execution_count": 41,
     "metadata": {},
     "output_type": "execute_result"
    }
   ],
   "source": [
    "#function to label party from contribtion dest\n",
    "def get_party_id(committee_id):\n",
    "    stem = \"https://api.open.fec.gov/v1/committee/\"\n",
    "    end = \"{}/candidates/?sort=name&page=1&api_key={}&per_page=100\".format(committee_id, api_key)\n",
    "    url = stem+end\n",
    "\n",
    "    data = get_url(url)\n",
    "    party_id = data['results'][0]['party']\n",
    "    office = data['results'][0]['office_full']\n",
    "    name = data['results'][0]['name']\n",
    "    print(\"[*] {}, {}, candidate for {}\".format(name, party_id, office))\n",
    "    return party_id\n",
    "    \n",
    "get_party_id(\"C00464297\")\n",
    "#get_party_id(\"C00401224\") #this one gets error, seems to be no party\n",
    "#get_party_id(\"C00571380\")"
   ]
  },
  {
   "cell_type": "code",
   "execution_count": 30,
   "metadata": {
    "collapsed": true
   },
   "outputs": [],
   "source": [
    "#function to label party from contribtion dest\n",
    "def get_party_ids(committee_id):\n",
    "    stem = \"https://api.open.fec.gov/v1/committee/\"\n",
    "    end = \"{}/candidates/?sort=name&page=1&api_key={}&per_page=100\".format(committee_id, api_key)\n",
    "    url = stem+end\n",
    "\n",
    "    data = get_url(url)\n",
    "    results = data['results'][0]\n",
    "    results['committee_id'] = str(committee_id)\n",
    "    return results"
   ]
  },
  {
   "cell_type": "code",
   "execution_count": null,
   "metadata": {
    "collapsed": true
   },
   "outputs": [],
   "source": [
    "def get_committee_details(comittee_id)"
   ]
  },
  {
   "cell_type": "code",
   "execution_count": 32,
   "metadata": {
    "collapsed": false
   },
   "outputs": [],
   "source": [
    "results = get_party_ids(\"C00431916\")\n"
   ]
  },
  {
   "cell_type": "code",
   "execution_count": 33,
   "metadata": {
    "collapsed": false
   },
   "outputs": [
    {
     "data": {
      "text/plain": [
       "{'active_through': 2008,\n",
       " 'address_city': 'WILMINGTON',\n",
       " 'address_state': 'DE',\n",
       " 'address_street_1': 'PO BOX 438',\n",
       " 'address_street_2': None,\n",
       " 'address_zip': '19899',\n",
       " 'candidate_id': 'P80000722',\n",
       " 'candidate_inactive': False,\n",
       " 'candidate_status': 'P',\n",
       " 'committee_id': 'C00431916',\n",
       " 'cycles': [1988, 1990, 2008, 2010, 2012],\n",
       " 'district': '00',\n",
       " 'district_number': 0,\n",
       " 'election_districts': ['00', '00'],\n",
       " 'election_years': [1988, 2008],\n",
       " 'federal_funds_flag': True,\n",
       " 'first_file_date': '1987-04-03',\n",
       " 'flags': 'P80000722',\n",
       " 'has_raised_funds': True,\n",
       " 'incumbent_challenge': 'O',\n",
       " 'incumbent_challenge_full': 'Open seat',\n",
       " 'last_f2_date': '2007-01-31',\n",
       " 'last_file_date': '2007-01-31',\n",
       " 'load_date': '2011-06-21T09:19:07',\n",
       " 'name': 'BIDEN, JOSEPH R JR',\n",
       " 'office': 'P',\n",
       " 'office_full': 'President',\n",
       " 'party': 'DEM',\n",
       " 'party_full': 'DEMOCRATIC PARTY',\n",
       " 'state': 'US'}"
      ]
     },
     "execution_count": 33,
     "metadata": {},
     "output_type": "execute_result"
    }
   ],
   "source": [
    "results"
   ]
  },
  {
   "cell_type": "code",
   "execution_count": 29,
   "metadata": {
    "collapsed": false
   },
   "outputs": [
    {
     "data": {
      "text/plain": [
       "dict"
      ]
     },
     "execution_count": 29,
     "metadata": {},
     "output_type": "execute_result"
    }
   ],
   "source": [
    "type(results)"
   ]
  },
  {
   "cell_type": "code",
   "execution_count": 40,
   "metadata": {
    "collapsed": false
   },
   "outputs": [
    {
     "ename": "IndexError",
     "evalue": "list index out of range",
     "output_type": "error",
     "traceback": [
      "\u001b[0;31m---------------------------------------------------------------------------\u001b[0m",
      "\u001b[0;31mIndexError\u001b[0m                                Traceback (most recent call last)",
      "\u001b[0;32m<ipython-input-40-032b10f35973>\u001b[0m in \u001b[0;36m<module>\u001b[0;34m()\u001b[0m\n\u001b[1;32m      1\u001b[0m \u001b[0;31m#https://api.open.fec.gov/v1/committee/C00401224/schedules/schedule_b/by_recipient_id/?per_page=20&api_key=DEMO_KEY&page=1\u001b[0m\u001b[0;34m\u001b[0m\u001b[0;34m\u001b[0m\u001b[0m\n\u001b[1;32m      2\u001b[0m \u001b[0;31m#returns 1st recipient C00000935\u001b[0m\u001b[0;34m\u001b[0m\u001b[0;34m\u001b[0m\u001b[0m\n\u001b[0;32m----> 3\u001b[0;31m \u001b[0mget_party_id\u001b[0m\u001b[0;34m(\u001b[0m\u001b[0;34m\"C00000935\"\u001b[0m\u001b[0;34m)\u001b[0m\u001b[0;34m\u001b[0m\u001b[0m\n\u001b[0m",
      "\u001b[0;32m<ipython-input-39-c558f0699f9c>\u001b[0m in \u001b[0;36mget_party_id\u001b[0;34m(committee_id)\u001b[0m\n\u001b[1;32m      6\u001b[0m \u001b[0;34m\u001b[0m\u001b[0m\n\u001b[1;32m      7\u001b[0m     \u001b[0mdata\u001b[0m \u001b[0;34m=\u001b[0m \u001b[0mget_url\u001b[0m\u001b[0;34m(\u001b[0m\u001b[0murl\u001b[0m\u001b[0;34m)\u001b[0m\u001b[0;34m\u001b[0m\u001b[0m\n\u001b[0;32m----> 8\u001b[0;31m     \u001b[0mparty_id\u001b[0m \u001b[0;34m=\u001b[0m \u001b[0mdata\u001b[0m\u001b[0;34m[\u001b[0m\u001b[0;34m'results'\u001b[0m\u001b[0;34m]\u001b[0m\u001b[0;34m[\u001b[0m\u001b[0;36m0\u001b[0m\u001b[0;34m]\u001b[0m\u001b[0;34m[\u001b[0m\u001b[0;34m'party'\u001b[0m\u001b[0;34m]\u001b[0m\u001b[0;34m\u001b[0m\u001b[0m\n\u001b[0m\u001b[1;32m      9\u001b[0m     \u001b[0moffice\u001b[0m \u001b[0;34m=\u001b[0m \u001b[0mdata\u001b[0m\u001b[0;34m[\u001b[0m\u001b[0;34m'results'\u001b[0m\u001b[0;34m]\u001b[0m\u001b[0;34m[\u001b[0m\u001b[0;36m0\u001b[0m\u001b[0;34m]\u001b[0m\u001b[0;34m[\u001b[0m\u001b[0;34m'office_full'\u001b[0m\u001b[0;34m]\u001b[0m\u001b[0;34m\u001b[0m\u001b[0m\n\u001b[1;32m     10\u001b[0m     \u001b[0mname\u001b[0m \u001b[0;34m=\u001b[0m \u001b[0mdata\u001b[0m\u001b[0;34m[\u001b[0m\u001b[0;34m'results'\u001b[0m\u001b[0;34m]\u001b[0m\u001b[0;34m[\u001b[0m\u001b[0;36m0\u001b[0m\u001b[0;34m]\u001b[0m\u001b[0;34m[\u001b[0m\u001b[0;34m'name'\u001b[0m\u001b[0;34m]\u001b[0m\u001b[0;34m\u001b[0m\u001b[0m\n",
      "\u001b[0;31mIndexError\u001b[0m: list index out of range"
     ]
    }
   ],
   "source": [
    "#https://api.open.fec.gov/v1/committee/C00401224/schedules/schedule_b/by_recipient_id/?per_page=20&api_key=DEMO_KEY&page=1\n",
    "#returns 1st recipient C00000935\n",
    "get_party_id(\"C00000935\")"
   ]
  },
  {
   "cell_type": "code",
   "execution_count": 23,
   "metadata": {
    "collapsed": false
   },
   "outputs": [
    {
     "name": "stdout",
     "output_type": "stream",
     "text": [
      "[*] BIDEN, JOSEPH R JR, DEM, candidate for President\n"
     ]
    },
    {
     "data": {
      "text/plain": [
       "'DEM'"
      ]
     },
     "execution_count": 23,
     "metadata": {},
     "output_type": "execute_result"
    }
   ],
   "source": [
    "get_party_id(\"C00431916\")\n"
   ]
  },
  {
   "cell_type": "code",
   "execution_count": 157,
   "metadata": {
    "collapsed": false
   },
   "outputs": [
    {
     "name": "stdout",
     "output_type": "stream",
     "text": [
      "[*] BONILLA, HENRY, REPUBLICAN PARTY, candidate for House\n"
     ]
    },
    {
     "data": {
      "text/plain": [
       "'REPUBLICAN PARTY'"
      ]
     },
     "execution_count": 157,
     "metadata": {},
     "output_type": "execute_result"
    }
   ],
   "source": [
    "get_party_id(\"C00257402\")"
   ]
  },
  {
   "cell_type": "code",
   "execution_count": null,
   "metadata": {
    "collapsed": true
   },
   "outputs": [],
   "source": []
  },
  {
   "cell_type": "code",
   "execution_count": 5,
   "metadata": {
    "collapsed": false
   },
   "outputs": [
    {
     "ename": "NameError",
     "evalue": "name 'test' is not defined",
     "output_type": "error",
     "traceback": [
      "\u001b[0;31m---------------------------------------------------------------------------\u001b[0m",
      "\u001b[0;31mNameError\u001b[0m                                 Traceback (most recent call last)",
      "\u001b[0;32m<ipython-input-5-eb227ecbe367>\u001b[0m in \u001b[0;36m<module>\u001b[0;34m()\u001b[0m\n\u001b[0;32m----> 1\u001b[0;31m \u001b[0mpages\u001b[0m \u001b[0;34m=\u001b[0m \u001b[0mget_pages\u001b[0m\u001b[0;34m(\u001b[0m\u001b[0mtest\u001b[0m\u001b[0;34m)\u001b[0m\u001b[0;34m\u001b[0m\u001b[0m\n\u001b[0m\u001b[1;32m      2\u001b[0m \u001b[0;32mfor\u001b[0m \u001b[0mpage\u001b[0m \u001b[0;32min\u001b[0m \u001b[0mrange\u001b[0m\u001b[0;34m(\u001b[0m\u001b[0;36m1\u001b[0m\u001b[0;34m,\u001b[0m \u001b[0mpages\u001b[0m\u001b[0;34m+\u001b[0m\u001b[0;36m1\u001b[0m\u001b[0;34m)\u001b[0m\u001b[0;34m:\u001b[0m\u001b[0;34m\u001b[0m\u001b[0m\n\u001b[1;32m      3\u001b[0m     \u001b[0mstem\u001b[0m \u001b[0;34m=\u001b[0m \u001b[0;34m\"https://api.open.fec.gov/v1/schedules/schedule_a/by_employer/\"\u001b[0m\u001b[0;34m\u001b[0m\u001b[0m\n\u001b[1;32m      4\u001b[0m     \u001b[0mend\u001b[0m \u001b[0;34m=\u001b[0m \u001b[0;34m\"?employer=Goldman%20Sachs&per_page=100&api_key={}&page={}\"\u001b[0m\u001b[0;34m.\u001b[0m\u001b[0mformat\u001b[0m\u001b[0;34m(\u001b[0m\u001b[0mapi_key\u001b[0m\u001b[0;34m,\u001b[0m \u001b[0mpage\u001b[0m\u001b[0;34m)\u001b[0m\u001b[0;34m\u001b[0m\u001b[0m\n\u001b[1;32m      5\u001b[0m     \u001b[0murl\u001b[0m \u001b[0;34m=\u001b[0m \u001b[0mstem\u001b[0m\u001b[0;34m+\u001b[0m\u001b[0mend\u001b[0m\u001b[0;34m\u001b[0m\u001b[0m\n",
      "\u001b[0;31mNameError\u001b[0m: name 'test' is not defined"
     ]
    }
   ],
   "source": [
    "pages = get_pages(test)\n",
    "for page in range(1, pages+1):\n",
    "    stem = \"https://api.open.fec.gov/v1/schedules/schedule_a/by_employer/\"\n",
    "    end = \"?employer=Goldman%20Sachs&per_page=100&api_key={}&page={}\".format(api_key, page)\n",
    "    url = stem+end\n",
    "    data = get_url(url)\n",
    "    results = data['results']\n",
    "    print(len(results))"
   ]
  },
  {
   "cell_type": "code",
   "execution_count": 20,
   "metadata": {
    "collapsed": false
   },
   "outputs": [],
   "source": [
    "def req_url_schedule_a(employer, api_key, year=2016, page=1):\n",
    "    firm = employer.replace(\" \", \"%20\")\n",
    "    stem = \"https://api.open.fec.gov/v1/schedules/schedule_a/?per_page=100&sort=contribution_receipt_date&\"\n",
    "    end = \"contributor_employer={}&api_key={}&two_year_transaction_period={}&page={}\".format(firm, api_key, year, page)\n",
    "    url = stem+end\n",
    "    return url\n",
    "\n",
    "req_url_schedule_a(\"Goldman Sachs\", api_key)\n",
    "\n",
    "\n",
    "#results = data['results']\n",
    "#write_csv_json(results, \"mytest_2008.csv\")\n",
    "\n",
    "def get_schedule_a_employer_year(employer, api_key, year=2016):\n",
    "    firm = employer.replace(\" \", \"%20\")\n",
    "    \n",
    "    \n",
    "    url = req_url_schedule_a(firm, api_key, year)\n",
    "    data = get_url(url)\n",
    "    \n",
    "    #print(data)\n",
    "    #print(get_pages(data))\n",
    "    \n",
    "    pages = get_pages(data)\n",
    "    for page in range(1, pages+1):\n",
    "        print(\"[*] getting FEC SCHEDULE A results for {} in {}...page {} of {}\".format(employer, year, page, (pages)))\n",
    "        filename = \"{}_{}_schedule_a.csv\".format(year, employer.replace(\" \", \"_\"))\n",
    "        url = req_url_schedule_a(firm, api_key, year, page)\n",
    "        page_data = get_url(url)\n",
    "        results = page_data['results']\n",
    "        write_csv_json(results, filename)\n",
    "        \n",
    "        \n",
    "        \n",
    "\n"
   ]
  },
  {
   "cell_type": "code",
   "execution_count": 21,
   "metadata": {
    "collapsed": false
   },
   "outputs": [
    {
     "name": "stdout",
     "output_type": "stream",
     "text": [
      "[*] getting FEC SCHEDULE A results for Goldman Sachs in 2016...page 1 of 37\n",
      "[*] getting FEC SCHEDULE A results for Goldman Sachs in 2016...page 2 of 37\n",
      "[*] getting FEC SCHEDULE A results for Goldman Sachs in 2016...page 3 of 37\n",
      "[*] getting FEC SCHEDULE A results for Goldman Sachs in 2016...page 4 of 37\n",
      "[*] getting FEC SCHEDULE A results for Goldman Sachs in 2016...page 5 of 37\n",
      "[*] getting FEC SCHEDULE A results for Goldman Sachs in 2016...page 6 of 37\n",
      "[*] getting FEC SCHEDULE A results for Goldman Sachs in 2016...page 7 of 37\n",
      "[*] getting FEC SCHEDULE A results for Goldman Sachs in 2016...page 8 of 37\n",
      "[*] getting FEC SCHEDULE A results for Goldman Sachs in 2016...page 9 of 37\n",
      "[*] getting FEC SCHEDULE A results for Goldman Sachs in 2016...page 10 of 37\n",
      "[*] getting FEC SCHEDULE A results for Goldman Sachs in 2016...page 11 of 37\n",
      "[*] getting FEC SCHEDULE A results for Goldman Sachs in 2016...page 12 of 37\n",
      "[*] getting FEC SCHEDULE A results for Goldman Sachs in 2016...page 13 of 37\n",
      "[*] getting FEC SCHEDULE A results for Goldman Sachs in 2016...page 14 of 37\n",
      "[*] getting FEC SCHEDULE A results for Goldman Sachs in 2016...page 15 of 37\n",
      "[*] getting FEC SCHEDULE A results for Goldman Sachs in 2016...page 16 of 37\n",
      "[*] getting FEC SCHEDULE A results for Goldman Sachs in 2016...page 17 of 37\n",
      "[*] getting FEC SCHEDULE A results for Goldman Sachs in 2016...page 18 of 37\n",
      "[*] getting FEC SCHEDULE A results for Goldman Sachs in 2016...page 19 of 37\n",
      "[*] getting FEC SCHEDULE A results for Goldman Sachs in 2016...page 20 of 37\n",
      "[*] getting FEC SCHEDULE A results for Goldman Sachs in 2016...page 21 of 37\n",
      "[*] getting FEC SCHEDULE A results for Goldman Sachs in 2016...page 22 of 37\n",
      "[*] getting FEC SCHEDULE A results for Goldman Sachs in 2016...page 23 of 37\n",
      "[*] getting FEC SCHEDULE A results for Goldman Sachs in 2016...page 24 of 37\n",
      "[*] getting FEC SCHEDULE A results for Goldman Sachs in 2016...page 25 of 37\n",
      "[*] getting FEC SCHEDULE A results for Goldman Sachs in 2016...page 26 of 37\n",
      "[*] getting FEC SCHEDULE A results for Goldman Sachs in 2016...page 27 of 37\n",
      "[*] getting FEC SCHEDULE A results for Goldman Sachs in 2016...page 28 of 37\n",
      "[*] getting FEC SCHEDULE A results for Goldman Sachs in 2016...page 29 of 37\n",
      "[*] getting FEC SCHEDULE A results for Goldman Sachs in 2016...page 30 of 37\n",
      "[*] getting FEC SCHEDULE A results for Goldman Sachs in 2016...page 31 of 37\n",
      "[*] getting FEC SCHEDULE A results for Goldman Sachs in 2016...page 32 of 37\n",
      "[*] getting FEC SCHEDULE A results for Goldman Sachs in 2016...page 33 of 37\n",
      "[*] getting FEC SCHEDULE A results for Goldman Sachs in 2016...page 34 of 37\n",
      "[*] getting FEC SCHEDULE A results for Goldman Sachs in 2016...page 35 of 37\n",
      "[*] getting FEC SCHEDULE A results for Goldman Sachs in 2016...page 36 of 37\n",
      "[*] getting FEC SCHEDULE A results for Goldman Sachs in 2016...page 37 of 37\n"
     ]
    }
   ],
   "source": [
    "get_schedule_a_employer_year(\"Goldman Sachs\", api_key)"
   ]
  },
  {
   "cell_type": "code",
   "execution_count": 12,
   "metadata": {
    "collapsed": false
   },
   "outputs": [
    {
     "name": "stdout",
     "output_type": "stream",
     "text": [
      "10\n"
     ]
    }
   ],
   "source": [
    "get_schedule_a_employer_year(\"Goldman Sachs\", api_key, 1996)"
   ]
  },
  {
   "cell_type": "code",
   "execution_count": null,
   "metadata": {
    "collapsed": true
   },
   "outputs": [],
   "source": []
  },
  {
   "cell_type": "code",
   "execution_count": null,
   "metadata": {
    "collapsed": true
   },
   "outputs": [],
   "source": []
  },
  {
   "cell_type": "code",
   "execution_count": null,
   "metadata": {
    "collapsed": true
   },
   "outputs": [],
   "source": []
  },
  {
   "cell_type": "code",
   "execution_count": null,
   "metadata": {
    "collapsed": true
   },
   "outputs": [],
   "source": []
  },
  {
   "cell_type": "code",
   "execution_count": null,
   "metadata": {
    "collapsed": true
   },
   "outputs": [],
   "source": []
  }
 ],
 "metadata": {
  "kernelspec": {
   "display_name": "Python 3",
   "language": "python",
   "name": "python3"
  },
  "language_info": {
   "codemirror_mode": {
    "name": "ipython",
    "version": 3
   },
   "file_extension": ".py",
   "mimetype": "text/x-python",
   "name": "python",
   "nbconvert_exporter": "python",
   "pygments_lexer": "ipython3",
   "version": "3.5.1"
  }
 },
 "nbformat": 4,
 "nbformat_minor": 0
}
