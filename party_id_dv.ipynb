{
 "cells": [
  {
   "cell_type": "code",
   "execution_count": 89,
   "metadata": {
    "collapsed": true
   },
   "outputs": [],
   "source": [
    "from credentials import *\n",
    "import requests\n",
    "import json, csv\n",
    "import warnings\n",
    "\n",
    "from getFEC import *"
   ]
  },
  {
   "cell_type": "markdown",
   "metadata": {},
   "source": [
    "# Issues\n",
    "\n",
    "### Schedule A\n",
    "\n",
    "Schedule A shows where individual donations go to. Some go to individual candidate fundraising committees or committees affiliated with the candidate, in which case, the committee id appears to return a party id.\n",
    "\n",
    "Schedule A may also go to a PAC (Political Action Committee) such as \"ACTBLUE\", committee id `\"C00401224\"`, which will have null results when trying to directly search the party id details. This is because the PAC gives to a number of campaigns.\n",
    "\n",
    "### Schedule B\n",
    "\n",
    "To track down a PAC giving, the committee id of the PAC must be input into the schedule_b api query, which returns a list of other committees the money is given to. Those committee id's could be used to get the party ID from.\n",
    "\n"
   ]
  },
  {
   "cell_type": "markdown",
   "metadata": {},
   "source": [
    "## Psudocode\n",
    "\n",
    "```python\n",
    "infer_partyid(comm_id)\n",
    "    #if regular comm this works\n",
    "    try:\n",
    "        party = get_party_id(comm_id)\n",
    "        \n",
    "    #fail, fails but would be good to design a better catch\n",
    "    except:\n",
    "       schedule_b_search:\n",
    "           a = comm_id #first committee\n",
    "           b = comm_id #second committee\n",
    "           if a == b:\n",
    "               a = partyid\n",
    "               return a\n",
    "               \n",
    "           elif a != b:\n",
    "               a = partyid\n",
    "               create new flag that there are multiple party id's, warning\n",
    "               return a\n",
    "           else:\n",
    "               pass\n",
    "           \n",
    "```\n"
   ]
  },
  {
   "cell_type": "code",
   "execution_count": null,
   "metadata": {
    "collapsed": true
   },
   "outputs": [],
   "source": []
  },
  {
   "cell_type": "code",
   "execution_count": 111,
   "metadata": {
    "collapsed": false
   },
   "outputs": [],
   "source": [
    "def get_party_id(committee_id):\n",
    "    stem = \"https://api.open.fec.gov/v1/committee/\"\n",
    "    end = \"{}/candidates/?sort=name&page=1&api_key={}&per_page=100\".format(committee_id, api_key)\n",
    "    url = stem+end\n",
    "\n",
    "    data = get_url(url)['results']\n",
    "    if len(data) <= 0:\n",
    "        warnings.warn('WARNING: get_party_id search by committee id returns no results, try another method')\n",
    "        return (\"UNKNOWN PARTY ID\")\n",
    "    else:\n",
    "        party_id = data[0]['party_full']\n",
    "        return party_id"
   ]
  },
  {
   "cell_type": "code",
   "execution_count": 113,
   "metadata": {
    "collapsed": false
   },
   "outputs": [
    {
     "name": "stderr",
     "output_type": "stream",
     "text": [
      "/usr/local/lib/python3.5/site-packages/ipykernel/__main__.py:8: UserWarning: WARNING: get_party_id search by committee id returns no results, try another method\n"
     ]
    },
    {
     "data": {
      "text/plain": [
       "'REPUBLICAN PARTY'"
      ]
     },
     "execution_count": 113,
     "metadata": {},
     "output_type": "execute_result"
    }
   ],
   "source": [
    "get_party_id(\"C00000935\")\n",
    "get_party_id(\"C00464297\")"
   ]
  },
  {
   "cell_type": "code",
   "execution_count": 115,
   "metadata": {
    "collapsed": false
   },
   "outputs": [
    {
     "data": {
      "text/plain": [
       "('DEMOCRATIC PARTY', [])"
      ]
     },
     "execution_count": 115,
     "metadata": {},
     "output_type": "execute_result"
    }
   ],
   "source": [
    "def get_committee_details(committee_id):\n",
    "    stem = \"https://api.open.fec.gov/v1/committee/\"\n",
    "    end = \"{}/?sort=name&api_key={}&per_page=100&page=1\".format(committee_id, api_key)\n",
    "    url = stem+end\n",
    "    \n",
    "    data = get_url(url)['results']\n",
    "    party_id = data[0]['party_full']\n",
    "    candidate_ids = data[0]['candidate_ids']\n",
    "    #office = data[0]['office_full']\n",
    "    #name = data[0]['name']\n",
    "    #return data[0]['party']\n",
    "    return party_id, candidate_ids\n",
    "\n",
    "get_committee_details(\"C00000935\")"
   ]
  },
  {
   "cell_type": "code",
   "execution_count": 45,
   "metadata": {
    "collapsed": false
   },
   "outputs": [
    {
     "data": {
      "text/plain": [
       "('DEM', [])"
      ]
     },
     "execution_count": 45,
     "metadata": {},
     "output_type": "execute_result"
    }
   ],
   "source": [
    "#id from actblue schedule b\n",
    "#gets result from get_committee details\n",
    "#fails get_party_id\n",
    "get_committee_details(\"C00000935\")"
   ]
  },
  {
   "cell_type": "code",
   "execution_count": 116,
   "metadata": {
    "collapsed": false
   },
   "outputs": [
    {
     "data": {
      "text/plain": [
       "('DEMOCRATIC PARTY', [])"
      ]
     },
     "execution_count": 116,
     "metadata": {},
     "output_type": "execute_result"
    }
   ],
   "source": [
    "get_committee_details(\"C00005561\")"
   ]
  },
  {
   "cell_type": "code",
   "execution_count": 47,
   "metadata": {
    "collapsed": false
   },
   "outputs": [
    {
     "data": {
      "text/plain": [
       "(None, ['S0NH00235'])"
      ]
     },
     "execution_count": 47,
     "metadata": {},
     "output_type": "execute_result"
    }
   ],
   "source": [
    "#does not fail get_party_id\n",
    "#get_committee_details has candidate_id\n",
    "#get_committee_details has no party id\n",
    "get_committee_details(\"C00464297\")"
   ]
  },
  {
   "cell_type": "code",
   "execution_count": 48,
   "metadata": {
    "collapsed": false
   },
   "outputs": [
    {
     "data": {
      "text/plain": [
       "(None, [])"
      ]
     },
     "execution_count": 48,
     "metadata": {},
     "output_type": "execute_result"
    }
   ],
   "source": [
    "#PAC\n",
    "#fails get party id\n",
    "#returns none with get comm details\n",
    "#no candidate_id\n",
    "get_committee_details(\"C00401224\")"
   ]
  },
  {
   "cell_type": "code",
   "execution_count": 58,
   "metadata": {
    "collapsed": false
   },
   "outputs": [
    {
     "data": {
      "text/plain": [
       "0"
      ]
     },
     "execution_count": 58,
     "metadata": {},
     "output_type": "execute_result"
    }
   ],
   "source": [
    "party_results = get_committee_details(\"C00401224\")\n",
    "party_results[1]\n",
    "len(party_results[1])"
   ]
  },
  {
   "cell_type": "code",
   "execution_count": 118,
   "metadata": {
    "collapsed": false
   },
   "outputs": [],
   "source": [
    "party_id = get_party_id(\"C00464297\")"
   ]
  },
  {
   "cell_type": "code",
   "execution_count": 144,
   "metadata": {
    "collapsed": false
   },
   "outputs": [
    {
     "data": {
      "text/plain": [
       "list"
      ]
     },
     "execution_count": 144,
     "metadata": {},
     "output_type": "execute_result"
    }
   ],
   "source": [
    "def get_schedule_b_receipts(committee_id):\n",
    "    stem = \"https://api.open.fec.gov/v1/committee/{}/schedules/\".format(committee_id)\n",
    "    end = \"schedule_b/by_recipient_id/?per_page=20&api_key={}&page=1\".format(api_key)\n",
    "    url = stem+end\n",
    "    \n",
    "    data = get_url(url)['results']\n",
    "    if len(data) <= 0:\n",
    "        warnings.warn('WARNING: get_schedule_b_receipts search by committee id returns no results, try another method')\n",
    "        return None\n",
    "    elif len(data) > 0 and len(data) < 3:\n",
    "        return data[0]['recipient_id']\n",
    "    elif len(data) > 0 and len(data) >= 3:\n",
    "        #receipts\n",
    "        r1 = data[0]['recipient_id']\n",
    "        r2 = data[1]['recipient_id']\n",
    "        r3 = data[2]['recipient_id']        \n",
    "        return [r1, r2, r3]\n",
    "    else:\n",
    "        pass\n",
    "\n",
    "x = get_schedule_b_receipts(\"C00401224\")\n",
    "type(x)"
   ]
  },
  {
   "cell_type": "code",
   "execution_count": 190,
   "metadata": {
    "collapsed": false
   },
   "outputs": [],
   "source": [
    "def find_schedule_b_results(committee_ids):\n",
    "    if type(committee_ids) is list:\n",
    "        cids = committee_ids\n",
    "    else:\n",
    "        cids = [committee_ids]\n",
    "    assert len(cids) > 0\n",
    "    \n",
    "    if len(cids) == 1:\n",
    "        #print(cids)\n",
    "        party_id = get_committee_details(cids[0])[0]\n",
    "        return party_id\n",
    "    else:\n",
    "        \n",
    "        pid_1 = get_committee_details(cids[0])[0]\n",
    "        pid_2 = get_committee_details(cids[1])[0]\n",
    "        pid_3 = get_committee_details(cids[2])[0]\n",
    "        #print(pid_1, pid_2, pid_3)\n",
    "        if (pid_1 == pid_2 == pid_3) is True:\n",
    "            party_id = pid_1\n",
    "            return party_id\n",
    "        else:\n",
    "            return \"UNCLEAR Schedule B Party ID\"\n",
    "        \n",
    "#find_schedule_b_results(('C00000935', 'C00005173', 'C00005561'))\n",
    "\n",
    "#find_schedule_b_results('C00000935')\n",
    "#find_schedule_b_results(x)"
   ]
  },
  {
   "cell_type": "code",
   "execution_count": 186,
   "metadata": {
    "collapsed": false
   },
   "outputs": [],
   "source": [
    "test = get_schedule_b_receipts(\"C00571380\")"
   ]
  },
  {
   "cell_type": "code",
   "execution_count": 187,
   "metadata": {
    "collapsed": false
   },
   "outputs": [
    {
     "name": "stdout",
     "output_type": "stream",
     "text": [
      "REPUBLICAN PARTY REPUBLICAN PARTY REPUBLICAN PARTY\n"
     ]
    },
    {
     "data": {
      "text/plain": [
       "'REPUBLICAN PARTY'"
      ]
     },
     "execution_count": 187,
     "metadata": {},
     "output_type": "execute_result"
    }
   ],
   "source": [
    "find_schedule_b_results(test)"
   ]
  },
  {
   "cell_type": "code",
   "execution_count": 191,
   "metadata": {
    "collapsed": false
   },
   "outputs": [
    {
     "name": "stdout",
     "output_type": "stream",
     "text": [
      "DEMOCRATIC PARTY\n",
      "DEMOCRATIC PARTY\n",
      "REPUBLICAN PARTY\n",
      "REPUBLICAN PARTY\n"
     ]
    }
   ],
   "source": [
    "#party_results = get_committee_details(\"C00401224\")\n",
    "#party_results = get_committee_details(\"C00000935\")\n",
    "#party_results = get_committee_details(\"C00464297\")\n",
    "\n",
    "def search_party_id(committee_id):\n",
    "    \n",
    "    party_results = get_committee_details(committee_id)\n",
    "\n",
    "    if party_results[0] is None and len(party_results[1]) == 0:\n",
    "        #print(\"no party results, further_tests_needed\", party_results)\n",
    "        #print(\"[*] conducting schedule b search...\")\n",
    "        schedule_b_receipts = get_schedule_b_receipts(committee_id)\n",
    "        party_id = find_schedule_b_results(schedule_b_receipts)\n",
    "        return party_id\n",
    "    \n",
    "    elif party_results[0] is None and len(party_results[1]) > 0:\n",
    "        #print(\"candidate id exists but no party results\", party_results)\n",
    "        #try get_party_id search\n",
    "        party_id = get_party_id(committee_id)\n",
    "        return party_id\n",
    "    \n",
    "    elif party_results[0] is not None:\n",
    "        #print(\"party id found in committee details: \", party_results)\n",
    "        party_id = party_results[0]\n",
    "        return party_id\n",
    "    \n",
    "    else:\n",
    "        #print(\"pass, unknown results\", party_results)\n",
    "        party_id = \"UNKNOWN D\"\n",
    "        return party_id\n",
    "    \n",
    "test_ids = [\"C00401224\", \"C00000935\", \"C00464297\", \"C00571380\"]\n",
    "#test_manual_inf = [\"dem pac\", \"dem comm\", \"rep can\", \"rep pac\"]\n",
    "for cid  in test_ids:\n",
    "    party_id = search_party_id(cid)\n",
    "    print(party_id)"
   ]
  }
 ],
 "metadata": {
  "kernelspec": {
   "display_name": "Python 3",
   "language": "python",
   "name": "python3"
  },
  "language_info": {
   "codemirror_mode": {
    "name": "ipython",
    "version": 3
   },
   "file_extension": ".py",
   "mimetype": "text/x-python",
   "name": "python",
   "nbconvert_exporter": "python",
   "pygments_lexer": "ipython3",
   "version": "3.5.1"
  }
 },
 "nbformat": 4,
 "nbformat_minor": 0
}
