{
 "cells": [
  {
   "cell_type": "code",
   "execution_count": 181,
   "metadata": {
    "collapsed": false
   },
   "outputs": [
    {
     "name": "stdout",
     "output_type": "stream",
     "text": [
      "credentials.py getFEC_v2.py   getPARTY_2.py\r\n",
      "getFEC.py      getPARTY.py    run.py\r\n"
     ]
    }
   ],
   "source": [
    "! ls *.py"
   ]
  },
  {
   "cell_type": "code",
   "execution_count": 182,
   "metadata": {
    "collapsed": false
   },
   "outputs": [],
   "source": [
    "import pandas as pd\n",
    "import time"
   ]
  },
  {
   "cell_type": "code",
   "execution_count": 183,
   "metadata": {
    "collapsed": true
   },
   "outputs": [],
   "source": [
    "from credentials import *\n",
    "import requests\n",
    "import json, csv\n",
    "import warnings\n",
    "import random\n",
    "\n",
    "from getFEC import *\n",
    "\n",
    "\n",
    "def get_party_id(committee_id):\n",
    "    stem = \"https://api.open.fec.gov/v1/committee/\"\n",
    "    end = \"{}/candidates/?sort=name&page=1&api_key={}&per_page=100\".format(committee_id, api_key)\n",
    "    url = stem+end\n",
    "\n",
    "    data = get_url(url)['results']\n",
    "    if len(data) <= 0:\n",
    "        warnings.warn('WARNING: get_party_id search by committee id returns no results, try another method')\n",
    "        return (\"UNKNOWN PARTY ID\")\n",
    "    else:\n",
    "        party_id = data[0]['party_full']\n",
    "        return party_id\n",
    "\n",
    "\n",
    "def get_committee_details(committee_id):\n",
    "    stem = \"https://api.open.fec.gov/v1/committee/\"\n",
    "    end = \"{}/?sort=name&api_key={}&per_page=100&page=1\".format(committee_id, api_key)\n",
    "    url = stem+end\n",
    "\n",
    "    data = get_url(url)['results']\n",
    "    party_id = data[0]['party_full']\n",
    "    candidate_ids = data[0]['candidate_ids']\n",
    "    #office = data[0]['office_full']\n",
    "    #name = data[0]['name']\n",
    "    #return data[0]['party']\n",
    "    return party_id, candidate_ids\n",
    "\n",
    "def alt_receipt_id(rid, s, sample_frame):\n",
    "    if rid == None:\n",
    "        available = s\n",
    "        next_sample = random.sample(set(sample_frame))\n",
    "        r_new = r\n",
    "\n",
    "def get_schedule_b_receipts(committee_id):\n",
    "    #TODO way to specify year in URL?\n",
    "    stem = \"https://api.open.fec.gov/v1/committee/{}/schedules/\".format(committee_id)\n",
    "    end = \"schedule_b/by_recipient_id/?per_page=20&api_key={}&page=1\".format(api_key)\n",
    "    url = stem+end\n",
    "\n",
    "    data = get_url(url)['results']\n",
    "    if len(data) <= 0:\n",
    "        warnings.warn('WARNING: get_schedule_b_receipts search by committee id returns no results, try another method')\n",
    "        return None\n",
    "    elif len(data) > 0 and len(data) < 3:\n",
    "        return data[0]['recipient_id']\n",
    "    elif len(data) > 0 and len(data) >= 3:\n",
    "        sample_frame = list(range(len(data)))\n",
    "        s = random.sample(set(sample_frame), 3)\n",
    "        print(s)\n",
    "        print(data[s[0]], '\\n', data[s[1]], '\\n', data[s[2]], '\\n')\n",
    "        print(s[0], s[1], s[2])\n",
    "        r1 = data[s[0]]['recipient_id']\n",
    "        r2 = data[s[1]]['recipient_id']\n",
    "        r3 = data[s[2]]['recipient_id']\n",
    "        \n",
    "        #TODO Replace If None\n",
    "        print(r1, r2, r3)\n",
    "        return [r1, r2, r3]\n",
    "    else:\n",
    "        pass\n",
    "\n",
    "def find_schedule_b_results(committee_ids):\n",
    "    if type(committee_ids) is list:\n",
    "        cids = committee_ids\n",
    "    else:\n",
    "        cids = [committee_ids]\n",
    "    assert len(cids) > 0\n",
    "\n",
    "    print(cids)\n",
    "    \n",
    "    if len(cids) == 1:\n",
    "        #print(cids)\n",
    "        party_id = get_committee_details(cids[0])[0]\n",
    "        return party_id\n",
    "    else:\n",
    "\n",
    "        pid_1 = get_committee_details(cids[0])[0]\n",
    "        pid_2 = get_committee_details(cids[1])[0]\n",
    "        pid_3 = get_committee_details(cids[2])[0]\n",
    "        #print(pid_1, pid_2, pid_3)\n",
    "        if (pid_1 == pid_2 == pid_3) is True:\n",
    "            party_id = pid_1\n",
    "            return party_id\n",
    "        else:\n",
    "            print(\"UNCLEAR Schedule B\")\n",
    "            print(pid_1, pid_2, pid_3)\n",
    "            #return \"UNCLEAR Schedule B Party ID\"\n",
    "            return(pid_1, pid_2, pid_3)\n",
    "\n",
    "\n",
    "def search_party_id(committee_id):\n",
    "\n",
    "    party_results = get_committee_details(committee_id)\n",
    "\n",
    "    if party_results[0] is None and len(party_results[1]) == 0:\n",
    "        print(\"no party results, further_tests_needed\", party_results)\n",
    "        print(\"[*] conducting schedule b search...\")\n",
    "        schedule_b_receipts = get_schedule_b_receipts(committee_id)\n",
    "        party_id = find_schedule_b_results(schedule_b_receipts)\n",
    "        return party_id\n",
    "\n",
    "    elif party_results[0] is None and len(party_results[1]) > 0:\n",
    "        print(\"candidate id exists but no party results\", party_results)\n",
    "        #try get_party_id search\n",
    "        party_id = get_party_id(committee_id)\n",
    "        return party_id\n",
    "\n",
    "    elif party_results[0] is not None:\n",
    "        print(\"party id found in committee details: \", party_results)\n",
    "        party_id = party_results[0]\n",
    "        return party_id\n",
    "\n",
    "    else:\n",
    "        #print(\"pass, unknown results\", party_results)\n",
    "        party_id = \"UNKNOWN D\"\n",
    "        return party_id\n",
    "\n",
    "#test_ids = [\"C00401224\", \"C00000935\", \"C00464297\", \"C00571380\"]\n",
    "#test_manual_inf = [\"dem pac\", \"dem comm\", \"rep can\", \"rep pac\"]\n",
    "#for cid  in test_ids:\n",
    "#    party_id = search_party_id(cid)\n",
    "#    print(party_id)\n"
   ]
  },
  {
   "cell_type": "code",
   "execution_count": 488,
   "metadata": {
    "collapsed": false
   },
   "outputs": [
    {
     "data": {
      "text/plain": [
       "[[8, 6, 5, 2], [3], [7], [0], [4], [1], [9]]"
      ]
     },
     "execution_count": 488,
     "metadata": {},
     "output_type": "execute_result"
    }
   ],
   "source": [
    "import numpy as np\n",
    "\n",
    "\n",
    "\n",
    "def first_sample(n, sample_size):\n",
    "    sample_frame = np.random.choice(n, size=n, replace=False, p=None)\n",
    "    a = np.random.choice(n, size=sample_size, replace=False, p=None)\n",
    "    return(sample_frame, a)\n",
    "\n",
    "\n",
    "def resample_one(first_sample):\n",
    "\n",
    "    sframe = first_sample[0]\n",
    "    sample = first_sample[1]\n",
    "    \n",
    "    sframe = np.setdiff1d(sframe, sample)   \n",
    "    sample = np.random.choice(sframe, size=1, replace=False, p=None)\n",
    "    \n",
    "    return(sframe, sample)\n",
    "\n",
    "\n",
    "def all_samples(n, first_sample_size=3):\n",
    "\n",
    "    s0 = first_sample(n, first_sample_size)\n",
    "    sr = s0\n",
    "    count = len(np.atleast_1d(sr[0]))\n",
    "    samples = [s0[1].tolist()]\n",
    "\n",
    "    while len(np.atleast_1d(sr[0])) != 1:\n",
    "        if count == n:\n",
    "            s1 = resample_one(s0)\n",
    "            count -=1\n",
    "            samples.append(s1[1].tolist())\n",
    "            sr = (s1)\n",
    "        else:\n",
    "            sn = resample_one(sr)\n",
    "            sr = (sn)\n",
    "            samples.append(sn[1].tolist())     \n",
    "    else:\n",
    "        pass\n",
    "\n",
    "    return(samples)\n",
    "    \n",
    "all_samples(10, 4)\n",
    "\n"
   ]
  },
  {
   "cell_type": "code",
   "execution_count": 184,
   "metadata": {
    "collapsed": true
   },
   "outputs": [],
   "source": [
    "#extract party_id's from getFEC data\n"
   ]
  },
  {
   "cell_type": "code",
   "execution_count": 185,
   "metadata": {
    "collapsed": false
   },
   "outputs": [],
   "source": [
    "#df = pd.read_csv(\"2012__Boeing__schedule_a_merged.csv\")"
   ]
  },
  {
   "cell_type": "code",
   "execution_count": 186,
   "metadata": {
    "collapsed": false
   },
   "outputs": [],
   "source": [
    "#committee_ids = df.committee_id.drop_duplicates()"
   ]
  },
  {
   "cell_type": "code",
   "execution_count": 187,
   "metadata": {
    "collapsed": false
   },
   "outputs": [],
   "source": [
    "#committee_ids.shape"
   ]
  },
  {
   "cell_type": "code",
   "execution_count": 188,
   "metadata": {
    "collapsed": true
   },
   "outputs": [],
   "source": [
    "#for id in committee_ids:\n",
    "    "
   ]
  },
  {
   "cell_type": "code",
   "execution_count": 189,
   "metadata": {
    "collapsed": false
   },
   "outputs": [],
   "source": [
    "#for cid  in committee_ids:\n",
    "#    party_id = search_party_id(cid)\n",
    "#    time.sleep(1)\n",
    "#    print(party_id)"
   ]
  },
  {
   "cell_type": "code",
   "execution_count": 190,
   "metadata": {
    "collapsed": false
   },
   "outputs": [
    {
     "name": "stdout",
     "output_type": "stream",
     "text": [
      "no party results, further_tests_needed (None, [])\n",
      "[*] conducting schedule b search...\n",
      "[10, 9, 6]\n",
      "{'committee_id': 'C00401224', 'count': 63, 'committee_name': 'ACTBLUE', 'total': 26878.31, 'recipient_id': 'C00625988', 'recipient_name': 'FUTURE FORUM PAC', 'cycle': 2018, 'idx': 758907} \n",
      " {'committee_id': 'C00401224', 'count': 74830, 'committee_name': 'ACTBLUE', 'total': 1362767.16, 'recipient_id': 'C00562983', 'recipient_name': 'DEMOCRATIC ACTION', 'cycle': 2018, 'idx': 758726} \n",
      " {'committee_id': 'C00401224', 'count': 1, 'committee_name': 'ACTBLUE', 'total': 1.0, 'recipient_id': None, 'cycle': 2018, 'idx': 1765830} \n",
      "\n",
      "10 9 6\n",
      "C00625988 C00562983 None\n",
      "['C00625988', 'C00562983', None]\n"
     ]
    },
    {
     "ename": "IndexError",
     "evalue": "list index out of range",
     "output_type": "error",
     "traceback": [
      "\u001b[0;31m---------------------------------------------------------------------------\u001b[0m",
      "\u001b[0;31mIndexError\u001b[0m                                Traceback (most recent call last)",
      "\u001b[0;32m<ipython-input-190-b027f64dbe66>\u001b[0m in \u001b[0;36m<module>\u001b[0;34m()\u001b[0m\n\u001b[1;32m      2\u001b[0m \u001b[0mtest_manual_inf\u001b[0m \u001b[0;34m=\u001b[0m \u001b[0;34m[\u001b[0m\u001b[0;34m\"dem pac\"\u001b[0m\u001b[0;34m,\u001b[0m \u001b[0;34m\"dem comm\"\u001b[0m\u001b[0;34m,\u001b[0m \u001b[0;34m\"rep can\"\u001b[0m\u001b[0;34m,\u001b[0m \u001b[0;34m\"rep pac\"\u001b[0m\u001b[0;34m]\u001b[0m\u001b[0;34m\u001b[0m\u001b[0m\n\u001b[1;32m      3\u001b[0m \u001b[0;32mfor\u001b[0m \u001b[0mcid\u001b[0m  \u001b[0;32min\u001b[0m \u001b[0mtest_ids\u001b[0m\u001b[0;34m:\u001b[0m\u001b[0;34m\u001b[0m\u001b[0m\n\u001b[0;32m----> 4\u001b[0;31m     \u001b[0mparty_id\u001b[0m \u001b[0;34m=\u001b[0m \u001b[0msearch_party_id\u001b[0m\u001b[0;34m(\u001b[0m\u001b[0mcid\u001b[0m\u001b[0;34m)\u001b[0m\u001b[0;34m\u001b[0m\u001b[0m\n\u001b[0m\u001b[1;32m      5\u001b[0m     \u001b[0mprint\u001b[0m\u001b[0;34m(\u001b[0m\u001b[0mparty_id\u001b[0m\u001b[0;34m)\u001b[0m\u001b[0;34m\u001b[0m\u001b[0m\n",
      "\u001b[0;32m<ipython-input-183-68e1f262d01d>\u001b[0m in \u001b[0;36msearch_party_id\u001b[0;34m(committee_id)\u001b[0m\n\u001b[1;32m     97\u001b[0m         \u001b[0mprint\u001b[0m\u001b[0;34m(\u001b[0m\u001b[0;34m\"[*] conducting schedule b search...\"\u001b[0m\u001b[0;34m)\u001b[0m\u001b[0;34m\u001b[0m\u001b[0m\n\u001b[1;32m     98\u001b[0m         \u001b[0mschedule_b_receipts\u001b[0m \u001b[0;34m=\u001b[0m \u001b[0mget_schedule_b_receipts\u001b[0m\u001b[0;34m(\u001b[0m\u001b[0mcommittee_id\u001b[0m\u001b[0;34m)\u001b[0m\u001b[0;34m\u001b[0m\u001b[0m\n\u001b[0;32m---> 99\u001b[0;31m         \u001b[0mparty_id\u001b[0m \u001b[0;34m=\u001b[0m \u001b[0mfind_schedule_b_results\u001b[0m\u001b[0;34m(\u001b[0m\u001b[0mschedule_b_receipts\u001b[0m\u001b[0;34m)\u001b[0m\u001b[0;34m\u001b[0m\u001b[0m\n\u001b[0m\u001b[1;32m    100\u001b[0m         \u001b[0;32mreturn\u001b[0m \u001b[0mparty_id\u001b[0m\u001b[0;34m\u001b[0m\u001b[0m\n\u001b[1;32m    101\u001b[0m \u001b[0;34m\u001b[0m\u001b[0m\n",
      "\u001b[0;32m<ipython-input-183-68e1f262d01d>\u001b[0m in \u001b[0;36mfind_schedule_b_results\u001b[0;34m(committee_ids)\u001b[0m\n\u001b[1;32m     77\u001b[0m         \u001b[0mpid_1\u001b[0m \u001b[0;34m=\u001b[0m \u001b[0mget_committee_details\u001b[0m\u001b[0;34m(\u001b[0m\u001b[0mcids\u001b[0m\u001b[0;34m[\u001b[0m\u001b[0;36m0\u001b[0m\u001b[0;34m]\u001b[0m\u001b[0;34m)\u001b[0m\u001b[0;34m[\u001b[0m\u001b[0;36m0\u001b[0m\u001b[0;34m]\u001b[0m\u001b[0;34m\u001b[0m\u001b[0m\n\u001b[1;32m     78\u001b[0m         \u001b[0mpid_2\u001b[0m \u001b[0;34m=\u001b[0m \u001b[0mget_committee_details\u001b[0m\u001b[0;34m(\u001b[0m\u001b[0mcids\u001b[0m\u001b[0;34m[\u001b[0m\u001b[0;36m1\u001b[0m\u001b[0;34m]\u001b[0m\u001b[0;34m)\u001b[0m\u001b[0;34m[\u001b[0m\u001b[0;36m0\u001b[0m\u001b[0;34m]\u001b[0m\u001b[0;34m\u001b[0m\u001b[0m\n\u001b[0;32m---> 79\u001b[0;31m         \u001b[0mpid_3\u001b[0m \u001b[0;34m=\u001b[0m \u001b[0mget_committee_details\u001b[0m\u001b[0;34m(\u001b[0m\u001b[0mcids\u001b[0m\u001b[0;34m[\u001b[0m\u001b[0;36m2\u001b[0m\u001b[0;34m]\u001b[0m\u001b[0;34m)\u001b[0m\u001b[0;34m[\u001b[0m\u001b[0;36m0\u001b[0m\u001b[0;34m]\u001b[0m\u001b[0;34m\u001b[0m\u001b[0m\n\u001b[0m\u001b[1;32m     80\u001b[0m         \u001b[0;31m#print(pid_1, pid_2, pid_3)\u001b[0m\u001b[0;34m\u001b[0m\u001b[0;34m\u001b[0m\u001b[0m\n\u001b[1;32m     81\u001b[0m         \u001b[0;32mif\u001b[0m \u001b[0;34m(\u001b[0m\u001b[0mpid_1\u001b[0m \u001b[0;34m==\u001b[0m \u001b[0mpid_2\u001b[0m \u001b[0;34m==\u001b[0m \u001b[0mpid_3\u001b[0m\u001b[0;34m)\u001b[0m \u001b[0;32mis\u001b[0m \u001b[0;32mTrue\u001b[0m\u001b[0;34m:\u001b[0m\u001b[0;34m\u001b[0m\u001b[0m\n",
      "\u001b[0;32m<ipython-input-183-68e1f262d01d>\u001b[0m in \u001b[0;36mget_committee_details\u001b[0;34m(committee_id)\u001b[0m\n\u001b[1;32m     28\u001b[0m \u001b[0;34m\u001b[0m\u001b[0m\n\u001b[1;32m     29\u001b[0m     \u001b[0mdata\u001b[0m \u001b[0;34m=\u001b[0m \u001b[0mget_url\u001b[0m\u001b[0;34m(\u001b[0m\u001b[0murl\u001b[0m\u001b[0;34m)\u001b[0m\u001b[0;34m[\u001b[0m\u001b[0;34m'results'\u001b[0m\u001b[0;34m]\u001b[0m\u001b[0;34m\u001b[0m\u001b[0m\n\u001b[0;32m---> 30\u001b[0;31m     \u001b[0mparty_id\u001b[0m \u001b[0;34m=\u001b[0m \u001b[0mdata\u001b[0m\u001b[0;34m[\u001b[0m\u001b[0;36m0\u001b[0m\u001b[0;34m]\u001b[0m\u001b[0;34m[\u001b[0m\u001b[0;34m'party_full'\u001b[0m\u001b[0;34m]\u001b[0m\u001b[0;34m\u001b[0m\u001b[0m\n\u001b[0m\u001b[1;32m     31\u001b[0m     \u001b[0mcandidate_ids\u001b[0m \u001b[0;34m=\u001b[0m \u001b[0mdata\u001b[0m\u001b[0;34m[\u001b[0m\u001b[0;36m0\u001b[0m\u001b[0;34m]\u001b[0m\u001b[0;34m[\u001b[0m\u001b[0;34m'candidate_ids'\u001b[0m\u001b[0;34m]\u001b[0m\u001b[0;34m\u001b[0m\u001b[0m\n\u001b[1;32m     32\u001b[0m     \u001b[0;31m#office = data[0]['office_full']\u001b[0m\u001b[0;34m\u001b[0m\u001b[0;34m\u001b[0m\u001b[0m\n",
      "\u001b[0;31mIndexError\u001b[0m: list index out of range"
     ]
    }
   ],
   "source": [
    "test_ids = [\"C00401224\", \"C00000935\", \"C00464297\", \"C00571380\"]\n",
    "test_manual_inf = [\"dem pac\", \"dem comm\", \"rep can\", \"rep pac\"]\n",
    "for cid  in test_ids:\n",
    "    party_id = search_party_id(cid)\n",
    "    print(party_id)\n"
   ]
  },
  {
   "cell_type": "code",
   "execution_count": null,
   "metadata": {
    "collapsed": true
   },
   "outputs": [],
   "source": []
  }
 ],
 "metadata": {
  "kernelspec": {
   "display_name": "Python 3",
   "language": "python",
   "name": "python3"
  },
  "language_info": {
   "codemirror_mode": {
    "name": "ipython",
    "version": 3
   },
   "file_extension": ".py",
   "mimetype": "text/x-python",
   "name": "python",
   "nbconvert_exporter": "python",
   "pygments_lexer": "ipython3",
   "version": "3.5.1"
  }
 },
 "nbformat": 4,
 "nbformat_minor": 0
}
