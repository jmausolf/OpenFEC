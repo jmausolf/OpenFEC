{
 "cells": [
  {
   "cell_type": "code",
   "execution_count": 50,
   "metadata": {
    "collapsed": false
   },
   "outputs": [
    {
     "name": "stdout",
     "output_type": "stream",
     "text": [
      "credentials.py getFEC_v2.py   getPARTY_2.py\r\n",
      "getFEC.py      getPARTY.py    run.py\r\n"
     ]
    }
   ],
   "source": [
    "! ls *.py"
   ]
  },
  {
   "cell_type": "code",
   "execution_count": 51,
   "metadata": {
    "collapsed": false
   },
   "outputs": [
    {
     "name": "stdout",
     "output_type": "stream",
     "text": [
      "[[5], [3], [7], [0], [2], [4], [9], [6], [8], [1]]\n",
      "3\n"
     ]
    },
    {
     "data": {
      "text/plain": [
       "3"
      ]
     },
     "execution_count": 51,
     "metadata": {},
     "output_type": "execute_result"
    }
   ],
   "source": [
    "import time\n",
    "import pandas as pd\n",
    "import numpy as np\n",
    "\n",
    "\n",
    "def first_sample(n, sample_size):\n",
    "    sample_frame = np.random.choice(n, size=n, replace=False, p=None)\n",
    "    a = np.random.choice(n, size=sample_size, replace=False, p=None)\n",
    "    return(sample_frame, a)\n",
    "\n",
    "\n",
    "def resample_one(first_sample):\n",
    "\n",
    "    sframe = first_sample[0]\n",
    "    sample = first_sample[1]\n",
    "    \n",
    "    sframe = np.setdiff1d(sframe, sample)   \n",
    "    sample = np.random.choice(sframe, size=1, replace=False, p=None)\n",
    "    \n",
    "    return(sframe, sample)\n",
    "\n",
    "\n",
    "def all_samples(n, first_sample_size=3):        \n",
    "\n",
    "    s0 = first_sample(n, first_sample_size)\n",
    "    sr = s0\n",
    "    count = len(np.atleast_1d(sr[0]))\n",
    "    samples = [s0[1].tolist()]\n",
    "\n",
    "    if n == first_sample_size:\n",
    "        return(samples)\n",
    "    else:\n",
    "        pass\n",
    "\n",
    "    while len(np.atleast_1d(sr[0])) != 1:\n",
    "        if count == n:\n",
    "            s1 = resample_one(s0)\n",
    "            count -=1\n",
    "            samples.append(s1[1].tolist())\n",
    "            sr = (s1)\n",
    "        else:\n",
    "            sn = resample_one(sr)\n",
    "            sr = (sn)\n",
    "            samples.append(sn[1].tolist())     \n",
    "    else:\n",
    "        pass\n",
    "\n",
    "    print(samples)\n",
    "    return(samples)\n",
    "    \n",
    "s = all_samples(10, 1)\n",
    "\n",
    "rid = None\n",
    "\n",
    "def get_rid(rid):\n",
    "    sample_index = 0\n",
    "    while rid is None:\n",
    "        sample_index +=1\n",
    "        rid = s[sample_index][0]\n",
    "        print(rid)\n",
    "    else:\n",
    "        return rid\n",
    "\n",
    "get_rid(rid)\n",
    "\n",
    "\n",
    "\n"
   ]
  },
  {
   "cell_type": "code",
   "execution_count": 52,
   "metadata": {
    "collapsed": false
   },
   "outputs": [
    {
     "data": {
      "text/plain": [
       "[[1, 0, 2]]"
      ]
     },
     "execution_count": 52,
     "metadata": {},
     "output_type": "execute_result"
    }
   ],
   "source": [
    "s = all_samples(3, 3)\n",
    "#first_sample(3,3)\n",
    "s"
   ]
  },
  {
   "cell_type": "code",
   "execution_count": 53,
   "metadata": {
    "collapsed": true
   },
   "outputs": [],
   "source": [
    "from credentials import *\n",
    "import requests\n",
    "import json, csv\n",
    "import warnings\n",
    "import random\n",
    "\n",
    "from getFEC import *\n",
    "\n",
    "\n",
    "def get_party_id(committee_id):\n",
    "    stem = \"https://api.open.fec.gov/v1/committee/\"\n",
    "    end = \"{}/candidates/?sort=name&page=1&api_key={}&per_page=100\".format(committee_id, api_key)\n",
    "    url = stem+end\n",
    "\n",
    "    data = get_url(url)['results']\n",
    "    if len(data) <= 0:\n",
    "        warnings.warn('WARNING: get_party_id search by committee id returns no results, try another method')\n",
    "        return (\"UNKNOWN PARTY ID\")\n",
    "    else:\n",
    "        party_id = data[0]['party_full']\n",
    "        return party_id\n",
    "\n",
    "\n",
    "def get_committee_details(committee_id):\n",
    "    stem = \"https://api.open.fec.gov/v1/committee/\"\n",
    "    end = \"{}/?sort=name&api_key={}&per_page=100&page=1\".format(committee_id, api_key)\n",
    "    url = stem+end\n",
    "\n",
    "    data = get_url(url)['results']\n",
    "    party_id = data[0]['party_full']\n",
    "    candidate_ids = data[0]['candidate_ids']\n",
    "    #office = data[0]['office_full']\n",
    "    #name = data[0]['name']\n",
    "    #return data[0]['party']\n",
    "    return party_id, candidate_ids\n",
    "\n",
    "def alt_receipt_id(rid, s, sample_frame):\n",
    "    if rid == None:\n",
    "        available = s\n",
    "        next_sample = random.sample(set(sample_frame))\n",
    "        r_new = r\n",
    "\n",
    "def get_schedule_b_receipts(committee_id):\n",
    "    #TODO way to specify year in URL?\n",
    "    stem = \"https://api.open.fec.gov/v1/committee/{}/schedules/\".format(committee_id)\n",
    "    end = \"schedule_b/by_recipient_id/?per_page=20&api_key={}&page=1\".format(api_key)\n",
    "    url = stem+end\n",
    "    \n",
    "    #import pdb\n",
    "    #pdb.set_trace()\n",
    "\n",
    "    data = get_url(url)['results']\n",
    "    if len(data) <= 0:\n",
    "        warnings.warn('WARNING: get_schedule_b_receipts search by committee id returns no results, try another method')\n",
    "        return None\n",
    "    elif len(data) > 0 and len(data) < 3:\n",
    "        return data[0]['recipient_id']\n",
    "    elif len(data) > 0 and len(data) >= 3:\n",
    "        \n",
    "        s = all_samples(len(data), 3)\n",
    "\n",
    "        def get_rid(rid, sample_index=0):\n",
    "            while rid is None:\n",
    "                sample_index +=1\n",
    "                print(s[sample_index][0])\n",
    "                rid = data[s[sample_index][0]]['recipient_id']\n",
    "                print(\"none\", rid)\n",
    "            else:\n",
    "                return rid, sample_index\n",
    "        \n",
    "        r1 = get_rid(data[s[0][0]]['recipient_id'], 0)\n",
    "        r2 = get_rid(data[s[0][1]]['recipient_id'], r1[1])\n",
    "        r3 = get_rid(data[s[0][2]]['recipient_id'], r2[1])\n",
    "    \n",
    "        print(r1, r2, r3)\n",
    "        return [r1[0], r2[0], r3[0]]\n",
    "    else:\n",
    "        pass\n",
    "\n",
    "def find_schedule_b_results(committee_ids):\n",
    "    if type(committee_ids) is list:\n",
    "        cids = committee_ids\n",
    "    else:\n",
    "        cids = [committee_ids]\n",
    "    assert len(cids) > 0\n",
    "\n",
    "    print(cids)\n",
    "    \n",
    "    if len(cids) == 1:\n",
    "        #print(cids)\n",
    "        party_id = get_committee_details(cids[0])[0]\n",
    "        return party_id\n",
    "    else:\n",
    "\n",
    "        pid_1 = get_committee_details(cids[0])[0]\n",
    "        pid_2 = get_committee_details(cids[1])[0]\n",
    "        pid_3 = get_committee_details(cids[2])[0]\n",
    "        #print(pid_1, pid_2, pid_3)\n",
    "        if (pid_1 == pid_2 == pid_3) is True:\n",
    "            party_id = pid_1\n",
    "            return party_id\n",
    "        else:\n",
    "            print(\"UNCLEAR Schedule B\")\n",
    "            print(pid_1, pid_2, pid_3)\n",
    "            #return \"UNCLEAR Schedule B Party ID\"\n",
    "            return(pid_1, pid_2, pid_3)\n",
    "\n",
    "\n",
    "def search_party_id(committee_id):\n",
    "\n",
    "    party_results = get_committee_details(committee_id)\n",
    "\n",
    "    if party_results[0] is None and len(party_results[1]) == 0:\n",
    "        print(\"no party results, further_tests_needed\", party_results)\n",
    "        print(\"[*] conducting schedule b search...\")\n",
    "        #import pdb\n",
    "        #pdb.set_trace()\n",
    "        \n",
    "        schedule_b_receipts = get_schedule_b_receipts(committee_id)\n",
    "        party_id = find_schedule_b_results(schedule_b_receipts)\n",
    "        return party_id\n",
    "\n",
    "    elif party_results[0] is None and len(party_results[1]) > 0:\n",
    "        print(\"candidate id exists but no party results\", party_results)\n",
    "        #try get_party_id search\n",
    "        party_id = get_party_id(committee_id)\n",
    "        return party_id\n",
    "\n",
    "    elif party_results[0] is not None:\n",
    "        print(\"party id found in committee details: \", party_results)\n",
    "        party_id = party_results[0]\n",
    "        return party_id\n",
    "\n",
    "    else:\n",
    "        #print(\"pass, unknown results\", party_results)\n",
    "        party_id = \"UNKNOWN D\"\n",
    "        return party_id\n",
    "\n",
    "#test_ids = [\"C00401224\", \"C00000935\", \"C00464297\", \"C00571380\"]\n",
    "#test_manual_inf = [\"dem pac\", \"dem comm\", \"rep can\", \"rep pac\"]\n",
    "#for cid  in test_ids:\n",
    "#    party_id = search_party_id(cid)\n",
    "#    print(party_id)\n"
   ]
  },
  {
   "cell_type": "code",
   "execution_count": 55,
   "metadata": {
    "collapsed": false
   },
   "outputs": [
    {
     "name": "stdout",
     "output_type": "stream",
     "text": [
      "no party results, further_tests_needed (None, [])\n",
      "[*] conducting schedule b search...\n",
      "[[3, 4, 7], [2], [9], [13], [5], [14], [15], [0], [10], [16], [19], [11], [6], [17], [18], [8], [1], [12]]\n",
      "2\n",
      "none C00636696\n",
      "('C00647925', 0) ('C00620021', 0) ('C00636696', 1)\n",
      "['C00647925', 'C00620021', 'C00636696']\n",
      "UNCLEAR Schedule B\n",
      "DEMOCRATIC PARTY None DEMOCRATIC PARTY\n",
      "('DEMOCRATIC PARTY', None, 'DEMOCRATIC PARTY')\n",
      "party id found in committee details:  ('DEMOCRATIC PARTY', [])\n",
      "DEMOCRATIC PARTY\n",
      "candidate id exists but no party results (None, ['S0NH00235'])\n",
      "REPUBLICAN PARTY\n",
      "no party results, further_tests_needed (None, [])\n",
      "[*] conducting schedule b search...\n",
      "[[14, 4, 0], [12], [7], [3], [5], [11], [9], [15], [6], [18], [16], [13], [19], [10], [2], [1], [17], [8]]\n",
      "('C00376087', 0) ('C00067231', 0) ('C00001305', 0)\n",
      "['C00376087', 'C00067231', 'C00001305']\n",
      "UNCLEAR Schedule B\n",
      "REPUBLICAN PARTY None REPUBLICAN PARTY\n",
      "('REPUBLICAN PARTY', None, 'REPUBLICAN PARTY')\n",
      "candidate id exists but no party results (None, ['S0IA00028'])\n",
      "REPUBLICAN PARTY\n",
      "no party results, further_tests_needed (None, [])\n",
      "[*] conducting schedule b search...\n",
      "('C00487702', 0) ('C00341396', 0) ('C00428649', 0)\n",
      "['C00487702', 'C00341396', 'C00428649']\n",
      "None\n"
     ]
    }
   ],
   "source": [
    "test_ids = [\"C00401224\", \"C00000935\", \"C00464297\", \"C00571380\", \"C00230482\", \"C00606962\"]\n",
    "#test_ids = [\"C00606962\"]\n",
    "#test_ids = [\"C00401224\"]\n",
    "test_manual_inf = [\"dem pac\", \"dem comm\", \"rep can\", \"rep pac\"]\n",
    "for cid  in test_ids:\n",
    "    party_id = search_party_id(cid)\n",
    "    print(party_id)"
   ]
  },
  {
   "cell_type": "code",
   "execution_count": null,
   "metadata": {
    "collapsed": true
   },
   "outputs": [],
   "source": [
    "#extract party_id's from getFEC data\n"
   ]
  },
  {
   "cell_type": "code",
   "execution_count": null,
   "metadata": {
    "collapsed": false
   },
   "outputs": [],
   "source": [
    "#df = pd.read_csv(\"2012__Boeing__schedule_a_merged.csv\")"
   ]
  },
  {
   "cell_type": "code",
   "execution_count": null,
   "metadata": {
    "collapsed": false
   },
   "outputs": [],
   "source": [
    "#committee_ids = df.committee_id.drop_duplicates()"
   ]
  },
  {
   "cell_type": "code",
   "execution_count": null,
   "metadata": {
    "collapsed": false
   },
   "outputs": [],
   "source": [
    "#committee_ids.shape"
   ]
  },
  {
   "cell_type": "code",
   "execution_count": null,
   "metadata": {
    "collapsed": true
   },
   "outputs": [],
   "source": [
    "#for id in committee_ids:\n",
    "    "
   ]
  },
  {
   "cell_type": "code",
   "execution_count": null,
   "metadata": {
    "collapsed": false
   },
   "outputs": [],
   "source": [
    "#for cid  in committee_ids:\n",
    "#    party_id = search_party_id(cid)\n",
    "#    time.sleep(1)\n",
    "#    print(party_id)"
   ]
  },
  {
   "cell_type": "code",
   "execution_count": null,
   "metadata": {
    "collapsed": false
   },
   "outputs": [],
   "source": [
    "\n"
   ]
  },
  {
   "cell_type": "code",
   "execution_count": null,
   "metadata": {
    "collapsed": true
   },
   "outputs": [],
   "source": []
  }
 ],
 "metadata": {
  "kernelspec": {
   "display_name": "Python 3",
   "language": "python",
   "name": "python3"
  },
  "language_info": {
   "codemirror_mode": {
    "name": "ipython",
    "version": 3
   },
   "file_extension": ".py",
   "mimetype": "text/x-python",
   "name": "python",
   "nbconvert_exporter": "python",
   "pygments_lexer": "ipython3",
   "version": "3.5.1"
  }
 },
 "nbformat": 4,
 "nbformat_minor": 0
}
